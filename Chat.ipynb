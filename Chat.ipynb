{
 "cells": [
  {
   "cell_type": "markdown",
   "metadata": {},
   "source": [
    "# 라이브러리"
   ]
  },
  {
   "cell_type": "code",
   "execution_count": 3,
   "metadata": {},
   "outputs": [],
   "source": [
    "from dotenv import load_dotenv\n",
    "from langchain import OpenAI\n",
    "from langchain import PromptTemplate"
   ]
  },
  {
   "cell_type": "code",
   "execution_count": 4,
   "metadata": {},
   "outputs": [
    {
     "data": {
      "text/plain": [
       "True"
      ]
     },
     "execution_count": 4,
     "metadata": {},
     "output_type": "execute_result"
    }
   ],
   "source": [
    "load_dotenv()"
   ]
  },
  {
   "cell_type": "code",
   "execution_count": 6,
   "metadata": {},
   "outputs": [
    {
     "data": {
      "text/plain": [
       "'\\n\\nSome famous street foods in Seoul, Korea include tteokbokki (spicy rice cakes), hotteok (sweet pancakes), gimbap (rice rolls), mandu (dumplings), odeng (fish cake skewers), and sundae (blood sausage). Other popular options include fried chicken, kimbap (seaweed rice rolls), and bungeoppang (fish-shaped pastry filled with sweet red bean paste). These delicious and affordable snacks can be found at street food stalls, markets, and even in alleys throughout the city.'"
      ]
     },
     "execution_count": 6,
     "metadata": {},
     "output_type": "execute_result"
    }
   ],
   "source": [
    "llm = OpenAI()\n",
    "prompt = \"What is famous street foods inn Seoul Korea in 200 characters?\"\n",
    "llm.invoke(prompt)"
   ]
  },
  {
   "cell_type": "code",
   "execution_count": 7,
   "metadata": {},
   "outputs": [
    {
     "name": "stdout",
     "output_type": "stream",
     "text": [
      "['\\n1. Tteokbokki (spicy rice cakes)\\n2. Fried chicken\\n3. Japchae (stir-fried glass noodles)\\n4. Hotteok (sweet Korean pancakes)\\n5. Gimbap (Korean sushi rolls)', '\\n\\nThe most famous place in Seoul is the Gyeongbokgung Palace, also known as the \"Palace Greatly Blessed by Heaven.\" It is a grand and historic palace that was built in 1395 and served as the main royal palace of the Joseon Dynasty. Today, it is a popular tourist attraction where visitors can learn about Korean history and culture, as well as see traditional architecture and beautiful gardens. Other popular places in Seoul include the N Seoul Tower, Myeong-dong shopping district, and Bukchon Hanok Village.', '\\nThe most popular K-Pop group currently is BTS (also known as Bangtan Boys or Beyond The Scene). They have gained worldwide recognition and success with their music and performances. Other popular K-Pop groups include Blackpink, EXO, Twice, and Red Velvet. ']\n"
     ]
    }
   ],
   "source": [
    "prompts = [\n",
    "    \"What is top 5 Korean Street food?\",\n",
    "    \"What is most famous place in Seoul\",\n",
    "    \"What is the popular  K-Pop group?\"\n",
    "]\n",
    "\n",
    "response = llm.batch(prompts)\n",
    "print(response)"
   ]
  },
  {
   "cell_type": "code",
   "execution_count": 8,
   "metadata": {},
   "outputs": [
    {
     "name": "stdout",
     "output_type": "stream",
     "text": [
      "\n",
      "\n",
      "1. Tteokbokki: Spicy rice cakes served with fish cakes and vegetables.\n",
      "2. Korean Fried Chicken: Crispy fried chicken coated in a sweet and spicy sauce.\n",
      "3. Kimbap: Rice and fillings wrapped in seaweed, similar to sushi.\n",
      "4. Japchae: Stir-fried glass noodles with vegetables and meat.\n",
      "5. Hotteok: Sweet and savory pancake filled with brown sugar, cinnamon, and nuts.\n",
      "6. Mandu: Korean dumplings filled with meat and vegetables.\n",
      "7. Odeng: Fish cakes on skewers served in a hot broth.\n",
      "8. Pajeon: Savory pancake filled with scallions, seafood, or kimchi.\n",
      "9. Gimbap: Seaweed rolls filled with rice, vegetables, and meat.\n",
      "10. Sundae: Blood sausage filled with noodles, pork, and vegetables."
     ]
    }
   ],
   "source": [
    "prompt = \"What is famous street foods in Seoul Korea in 200 characters\"\n",
    "for chunk in llm.stream(prompt):\n",
    "    print(chunk, end=\"\", flush=True)"
   ]
  },
  {
   "cell_type": "code",
   "execution_count": 9,
   "metadata": {},
   "outputs": [],
   "source": [
    "from langchain.chat_models import ChatOpenAI\n",
    "from langchain.schema.messages import HumanMessage, SystemMessage, AIMessage"
   ]
  },
  {
   "cell_type": "code",
   "execution_count": 10,
   "metadata": {},
   "outputs": [
    {
     "name": "stderr",
     "output_type": "stream",
     "text": [
      "C:\\Users\\RMARKET\\AppData\\Local\\Temp\\ipykernel_8060\\183332711.py:1: LangChainDeprecationWarning: The class `ChatOpenAI` was deprecated in LangChain 0.0.10 and will be removed in 1.0. An updated version of the class exists in the langchain-openai package and should be used instead. To use it run `pip install -U langchain-openai` and import as `from langchain_openai import ChatOpenAI`.\n",
      "  chat = ChatOpenAI()\n"
     ]
    },
    {
     "name": "stdout",
     "output_type": "stream",
     "text": [
      "Seoul is a vibrant city with many popular tourist attractions. Here are the top 3 places you should visit when in Seoul:\n",
      "\n",
      "1. Gyeongbokgung Palace: This grand palace is one of the most iconic landmarks in Seoul, with its beautiful architecture, expansive grounds, and rich history. Make sure to catch the changing of the guard ceremony, which takes place at the main gate.\n",
      "\n",
      "2. Myeongdong: This bustling shopping district is a paradise for fashion enthusiasts and foodies alike. You can shop for the latest trends, sample delicious street food, and experience the vibrant atmosphere of this popular neighborhood.\n",
      "\n",
      "3. N Seoul Tower: Located on Namsan Mountain, N Seoul Tower offers panoramic views of the city skyline. You can take a cable car or hike up to the tower, where you can enjoy breathtaking views, visit the observation deck, and even leave your mark with a love lock on the fence.\n",
      "\n",
      "These are just a few of the many amazing places to explore in Seoul. Let me know if you need any more recommendations or if you'd like assistance planning your trip!\n"
     ]
    }
   ],
   "source": [
    "chat = ChatOpenAI()\n",
    "\n",
    "messages = [\n",
    "    SystemMessage(content=\"You are the travel agent. You can provide travel itinery to the user\"),\n",
    "    HumanMessage(content=\"Where is the top 3 popular space for tourist in Seoul?\")\n",
    "]\n",
    "\n",
    "aiMessage = chat.invoke(messages)\n",
    "print(aiMessage.content)"
   ]
  },
  {
   "cell_type": "code",
   "execution_count": null,
   "metadata": {},
   "outputs": [],
   "source": [
    "messages.append(aiMessage)\n",
    "print('-'*30)\n",
    "\n",
    "messages.append(HumanMessage(content=\"Which transport can I use to visit the places?\"))"
   ]
  }
 ],
 "metadata": {
  "kernelspec": {
   "display_name": "test",
   "language": "python",
   "name": "python3"
  },
  "language_info": {
   "codemirror_mode": {
    "name": "ipython",
    "version": 3
   },
   "file_extension": ".py",
   "mimetype": "text/x-python",
   "name": "python",
   "nbconvert_exporter": "python",
   "pygments_lexer": "ipython3",
   "version": "3.11.10"
  }
 },
 "nbformat": 4,
 "nbformat_minor": 2
}
