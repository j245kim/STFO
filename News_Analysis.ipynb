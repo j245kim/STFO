{
 "cells": [
  {
   "cell_type": "markdown",
   "metadata": {},
   "source": [
    "# 라이브러리"
   ]
  },
  {
   "cell_type": "code",
   "execution_count": 7,
   "metadata": {},
   "outputs": [],
   "source": [
    "# 파이썬 서드파티 라이브러리\n",
    "import pandas as pd"
   ]
  },
  {
   "cell_type": "markdown",
   "metadata": {},
   "source": [
    "# 전역 변수 및 환경 설정"
   ]
  },
  {
   "cell_type": "code",
   "execution_count": 8,
   "metadata": {},
   "outputs": [],
   "source": [
    "# 경로\n",
    "investing_path = r'.\\Data\\Investing_Data.json'\n",
    "hankyung_path = r'.\\Data\\Hankyung_Data.json'"
   ]
  },
  {
   "cell_type": "markdown",
   "metadata": {},
   "source": [
    "# Main"
   ]
  },
  {
   "cell_type": "code",
   "execution_count": 9,
   "metadata": {},
   "outputs": [
    {
     "data": {
      "text/html": [
       "<div>\n",
       "<style scoped>\n",
       "    .dataframe tbody tr th:only-of-type {\n",
       "        vertical-align: middle;\n",
       "    }\n",
       "\n",
       "    .dataframe tbody tr th {\n",
       "        vertical-align: top;\n",
       "    }\n",
       "\n",
       "    .dataframe thead th {\n",
       "        text-align: right;\n",
       "    }\n",
       "</style>\n",
       "<table border=\"1\" class=\"dataframe\">\n",
       "  <thead>\n",
       "    <tr style=\"text-align: right;\">\n",
       "      <th></th>\n",
       "      <th>news_title</th>\n",
       "      <th>news_first_upload_time</th>\n",
       "      <th>news_last_upload_time</th>\n",
       "      <th>author</th>\n",
       "      <th>news_content</th>\n",
       "      <th>news_url</th>\n",
       "      <th>news_website</th>\n",
       "      <th>note</th>\n",
       "    </tr>\n",
       "  </thead>\n",
       "  <tbody>\n",
       "    <tr>\n",
       "      <th>0</th>\n",
       "      <td>XRP 가격이 10% 상승</td>\n",
       "      <td>2024-12-08 AM 01:06</td>\n",
       "      <td>&lt;NA&gt;</td>\n",
       "      <td>&lt;NA&gt;</td>\n",
       "      <td>Investing.com - XRP 가격이 Investing.com Index에서 ...</td>\n",
       "      <td>https://kr.investing.com/news/cryptocurrency-n...</td>\n",
       "      <td>Investing</td>\n",
       "      <td>&lt;NA&gt;</td>\n",
       "    </tr>\n",
       "    <tr>\n",
       "      <th>1</th>\n",
       "      <td>스탠다드차타드 \"비트코인, 내년까지 20만달러 돌파 가능\"</td>\n",
       "      <td>2024-12-07 PM 08:45</td>\n",
       "      <td>&lt;NA&gt;</td>\n",
       "      <td>&lt;NA&gt;</td>\n",
       "      <td>비트코인\n",
       "(BTC)이 내년까지 20만달러를 돌파할 수 있다는 전망이 나왔다.\n",
       "6일(...</td>\n",
       "      <td>https://kr.investing.com/news/cryptocurrency-n...</td>\n",
       "      <td>Investing</td>\n",
       "      <td>&lt;NA&gt;</td>\n",
       "    </tr>\n",
       "    <tr>\n",
       "      <th>2</th>\n",
       "      <td>\"바이낸스 상장으로 9.5배 수익\"…50대 노린 꼼수 사기 기승</td>\n",
       "      <td>2024-12-07 PM 06:00</td>\n",
       "      <td>&lt;NA&gt;</td>\n",
       "      <td>&lt;NA&gt;</td>\n",
       "      <td>최근 가상자산 가격이 폭등하면서 ‘포모(Fear of Missing Out·FOMO...</td>\n",
       "      <td>https://kr.investing.com/news/cryptocurrency-n...</td>\n",
       "      <td>Investing</td>\n",
       "      <td>&lt;NA&gt;</td>\n",
       "    </tr>\n",
       "    <tr>\n",
       "      <th>3</th>\n",
       "      <td>[코인 리포트] \"프로젝트 고문이 '가상자산 차르'\"…제로엑스(ZRX) 40% 급등</td>\n",
       "      <td>2024-12-07 AM 03:13</td>\n",
       "      <td>&lt;NA&gt;</td>\n",
       "      <td>&lt;NA&gt;</td>\n",
       "      <td>백악관 내 가상자산 정책 전담 직책으로 신설돼 업계의 이목이 집중됐던 ‘가상자산 차...</td>\n",
       "      <td>https://kr.investing.com/news/cryptocurrency-n...</td>\n",
       "      <td>Investing</td>\n",
       "      <td>&lt;NA&gt;</td>\n",
       "    </tr>\n",
       "    <tr>\n",
       "      <th>4</th>\n",
       "      <td>폴 앳킨스 SEC 위원장 지명 소식에 업계 \"대환영\"</td>\n",
       "      <td>2024-12-07 AM 01:22</td>\n",
       "      <td>&lt;NA&gt;</td>\n",
       "      <td>&lt;NA&gt;</td>\n",
       "      <td>폴 앳킨스 전 미국 증권거래위원회(SEC) 위원의 차기 SEC 위원장 지명 소식에 ...</td>\n",
       "      <td>https://kr.investing.com/news/cryptocurrency-n...</td>\n",
       "      <td>Investing</td>\n",
       "      <td>&lt;NA&gt;</td>\n",
       "    </tr>\n",
       "  </tbody>\n",
       "</table>\n",
       "</div>"
      ],
      "text/plain": [
       "                                       news_title news_first_upload_time  \\\n",
       "0                                  XRP 가격이 10% 상승    2024-12-08 AM 01:06   \n",
       "1                스탠다드차타드 \"비트코인, 내년까지 20만달러 돌파 가능\"    2024-12-07 PM 08:45   \n",
       "2             \"바이낸스 상장으로 9.5배 수익\"…50대 노린 꼼수 사기 기승    2024-12-07 PM 06:00   \n",
       "3  [코인 리포트] \"프로젝트 고문이 '가상자산 차르'\"…제로엑스(ZRX) 40% 급등    2024-12-07 AM 03:13   \n",
       "4                   폴 앳킨스 SEC 위원장 지명 소식에 업계 \"대환영\"    2024-12-07 AM 01:22   \n",
       "\n",
       "  news_last_upload_time author  \\\n",
       "0                  <NA>   <NA>   \n",
       "1                  <NA>   <NA>   \n",
       "2                  <NA>   <NA>   \n",
       "3                  <NA>   <NA>   \n",
       "4                  <NA>   <NA>   \n",
       "\n",
       "                                        news_content  \\\n",
       "0  Investing.com - XRP 가격이 Investing.com Index에서 ...   \n",
       "1  비트코인\n",
       "(BTC)이 내년까지 20만달러를 돌파할 수 있다는 전망이 나왔다.\n",
       "6일(...   \n",
       "2  최근 가상자산 가격이 폭등하면서 ‘포모(Fear of Missing Out·FOMO...   \n",
       "3  백악관 내 가상자산 정책 전담 직책으로 신설돼 업계의 이목이 집중됐던 ‘가상자산 차...   \n",
       "4  폴 앳킨스 전 미국 증권거래위원회(SEC) 위원의 차기 SEC 위원장 지명 소식에 ...   \n",
       "\n",
       "                                            news_url news_website  note  \n",
       "0  https://kr.investing.com/news/cryptocurrency-n...    Investing  <NA>  \n",
       "1  https://kr.investing.com/news/cryptocurrency-n...    Investing  <NA>  \n",
       "2  https://kr.investing.com/news/cryptocurrency-n...    Investing  <NA>  \n",
       "3  https://kr.investing.com/news/cryptocurrency-n...    Investing  <NA>  \n",
       "4  https://kr.investing.com/news/cryptocurrency-n...    Investing  <NA>  "
      ]
     },
     "execution_count": 9,
     "metadata": {},
     "output_type": "execute_result"
    }
   ],
   "source": [
    "df1 = pd.read_json(investing_path, orient='records', encoding='utf-8', dtype='string')\n",
    "df1.head()"
   ]
  },
  {
   "cell_type": "code",
   "execution_count": 10,
   "metadata": {},
   "outputs": [
    {
     "name": "stdout",
     "output_type": "stream",
     "text": [
      "<class 'pandas.core.frame.DataFrame'>\n",
      "RangeIndex: 69916 entries, 0 to 69915\n",
      "Data columns (total 8 columns):\n",
      " #   Column                  Non-Null Count  Dtype \n",
      "---  ------                  --------------  ----- \n",
      " 0   news_title              69765 non-null  string\n",
      " 1   news_first_upload_time  69765 non-null  string\n",
      " 2   news_last_upload_time   0 non-null      string\n",
      " 3   author                  0 non-null      string\n",
      " 4   news_content            69916 non-null  string\n",
      " 5   news_url                69916 non-null  string\n",
      " 6   news_website            69916 non-null  string\n",
      " 7   note                    0 non-null      string\n",
      "dtypes: string(8)\n",
      "memory usage: 4.3 MB\n"
     ]
    }
   ],
   "source": [
    "df1.info()"
   ]
  },
  {
   "cell_type": "code",
   "execution_count": 11,
   "metadata": {},
   "outputs": [
    {
     "data": {
      "text/html": [
       "<div>\n",
       "<style scoped>\n",
       "    .dataframe tbody tr th:only-of-type {\n",
       "        vertical-align: middle;\n",
       "    }\n",
       "\n",
       "    .dataframe tbody tr th {\n",
       "        vertical-align: top;\n",
       "    }\n",
       "\n",
       "    .dataframe thead th {\n",
       "        text-align: right;\n",
       "    }\n",
       "</style>\n",
       "<table border=\"1\" class=\"dataframe\">\n",
       "  <thead>\n",
       "    <tr style=\"text-align: right;\">\n",
       "      <th></th>\n",
       "      <th>news_title</th>\n",
       "      <th>news_first_upload_time</th>\n",
       "      <th>news_last_upload_time</th>\n",
       "      <th>author</th>\n",
       "      <th>news_content</th>\n",
       "      <th>news_url</th>\n",
       "      <th>news_website</th>\n",
       "      <th>note</th>\n",
       "    </tr>\n",
       "  </thead>\n",
       "  <tbody>\n",
       "    <tr>\n",
       "      <th>0</th>\n",
       "      <td>해시드 이머전트, '인도 블록체인 위크 2024' 성황리 마쳐</td>\n",
       "      <td>2024-12-07 PM 07:06</td>\n",
       "      <td>2024-12-07 PM 07:06</td>\n",
       "      <td>양한나 기자</td>\n",
       "      <td>인도 및 신흥시장 전문 웹3 벤처캐피털 해시드 이머전트(Hashed Emergent...</td>\n",
       "      <td>https://www.hankyung.com/article/202412071413g</td>\n",
       "      <td>Hankyung</td>\n",
       "      <td>&lt;NA&gt;</td>\n",
       "    </tr>\n",
       "    <tr>\n",
       "      <th>1</th>\n",
       "      <td>비트코인 10만달러 재탈환…이더리움도 '껑충'</td>\n",
       "      <td>2024-12-07 AM 11:13</td>\n",
       "      <td>2024-12-07 AM 11:13</td>\n",
       "      <td>&lt;NA&gt;</td>\n",
       "      <td>가상화폐 대장주 비트코인 가격이 6일(현지시간) 10만 달러선을 재탈환했다. 시가총...</td>\n",
       "      <td>https://www.hankyung.com/article/2024120709145</td>\n",
       "      <td>Hankyung</td>\n",
       "      <td>&lt;NA&gt;</td>\n",
       "    </tr>\n",
       "    <tr>\n",
       "      <th>2</th>\n",
       "      <td>비트코인 10만달러 재돌파…'이더리움의 시간' 오나</td>\n",
       "      <td>2024-12-07 AM 09:54</td>\n",
       "      <td>2024-12-07 AM 09:54</td>\n",
       "      <td>고정삼 기자</td>\n",
       "      <td>암호화폐 대장주 비트코인이 6일(현지시간) 10만달러선 재탈환에 성공했다. 시가총액...</td>\n",
       "      <td>https://www.hankyung.com/article/2024120707037</td>\n",
       "      <td>Hankyung</td>\n",
       "      <td>&lt;NA&gt;</td>\n",
       "    </tr>\n",
       "    <tr>\n",
       "      <th>3</th>\n",
       "      <td>\"비트코인 전략비축? 헛소리\"…美 전 재무장관 '일침'</td>\n",
       "      <td>2024-12-06 AM 10:15</td>\n",
       "      <td>2024-12-06 AM 10:15</td>\n",
       "      <td>&lt;NA&gt;</td>\n",
       "      <td>로렌스 서머스 전 미국 재무부 장관이 가상화폐 비트코인을 원유처럼 전략비축하자는 주...</td>\n",
       "      <td>https://www.hankyung.com/article/2024120685065</td>\n",
       "      <td>Hankyung</td>\n",
       "      <td>&lt;NA&gt;</td>\n",
       "    </tr>\n",
       "    <tr>\n",
       "      <th>4</th>\n",
       "      <td>비트코인, 다시 10만달러 아래로…트럼프 '환호'</td>\n",
       "      <td>2024-12-06 AM 06:35</td>\n",
       "      <td>2024-12-06 AM 06:58</td>\n",
       "      <td>&lt;NA&gt;</td>\n",
       "      <td>가상화폐 비트코인이 지난 4일(현지시간) 사상 처음 10만 달러를 돌파했지만 하루만...</td>\n",
       "      <td>https://www.hankyung.com/article/2024120679115</td>\n",
       "      <td>Hankyung</td>\n",
       "      <td>&lt;NA&gt;</td>\n",
       "    </tr>\n",
       "  </tbody>\n",
       "</table>\n",
       "</div>"
      ],
      "text/plain": [
       "                           news_title news_first_upload_time  \\\n",
       "0  해시드 이머전트, '인도 블록체인 위크 2024' 성황리 마쳐    2024-12-07 PM 07:06   \n",
       "1           비트코인 10만달러 재탈환…이더리움도 '껑충'    2024-12-07 AM 11:13   \n",
       "2        비트코인 10만달러 재돌파…'이더리움의 시간' 오나    2024-12-07 AM 09:54   \n",
       "3      \"비트코인 전략비축? 헛소리\"…美 전 재무장관 '일침'    2024-12-06 AM 10:15   \n",
       "4         비트코인, 다시 10만달러 아래로…트럼프 '환호'    2024-12-06 AM 06:35   \n",
       "\n",
       "  news_last_upload_time  author  \\\n",
       "0   2024-12-07 PM 07:06  양한나 기자   \n",
       "1   2024-12-07 AM 11:13    <NA>   \n",
       "2   2024-12-07 AM 09:54  고정삼 기자   \n",
       "3   2024-12-06 AM 10:15    <NA>   \n",
       "4   2024-12-06 AM 06:58    <NA>   \n",
       "\n",
       "                                        news_content  \\\n",
       "0  인도 및 신흥시장 전문 웹3 벤처캐피털 해시드 이머전트(Hashed Emergent...   \n",
       "1  가상화폐 대장주 비트코인 가격이 6일(현지시간) 10만 달러선을 재탈환했다. 시가총...   \n",
       "2  암호화폐 대장주 비트코인이 6일(현지시간) 10만달러선 재탈환에 성공했다. 시가총액...   \n",
       "3  로렌스 서머스 전 미국 재무부 장관이 가상화폐 비트코인을 원유처럼 전략비축하자는 주...   \n",
       "4  가상화폐 비트코인이 지난 4일(현지시간) 사상 처음 10만 달러를 돌파했지만 하루만...   \n",
       "\n",
       "                                         news_url news_website  note  \n",
       "0  https://www.hankyung.com/article/202412071413g     Hankyung  <NA>  \n",
       "1  https://www.hankyung.com/article/2024120709145     Hankyung  <NA>  \n",
       "2  https://www.hankyung.com/article/2024120707037     Hankyung  <NA>  \n",
       "3  https://www.hankyung.com/article/2024120685065     Hankyung  <NA>  \n",
       "4  https://www.hankyung.com/article/2024120679115     Hankyung  <NA>  "
      ]
     },
     "execution_count": 11,
     "metadata": {},
     "output_type": "execute_result"
    }
   ],
   "source": [
    "df2 = pd.read_json(hankyung_path, orient='records', encoding='utf-8', dtype='string')\n",
    "df2.head()"
   ]
  },
  {
   "cell_type": "code",
   "execution_count": 12,
   "metadata": {},
   "outputs": [
    {
     "name": "stdout",
     "output_type": "stream",
     "text": [
      "<class 'pandas.core.frame.DataFrame'>\n",
      "RangeIndex: 4000 entries, 0 to 3999\n",
      "Data columns (total 8 columns):\n",
      " #   Column                  Non-Null Count  Dtype \n",
      "---  ------                  --------------  ----- \n",
      " 0   news_title              4000 non-null   string\n",
      " 1   news_first_upload_time  4000 non-null   string\n",
      " 2   news_last_upload_time   4000 non-null   string\n",
      " 3   author                  283 non-null    string\n",
      " 4   news_content            4000 non-null   string\n",
      " 5   news_url                4000 non-null   string\n",
      " 6   news_website            4000 non-null   string\n",
      " 7   note                    0 non-null      string\n",
      "dtypes: string(8)\n",
      "memory usage: 250.1 KB\n"
     ]
    }
   ],
   "source": [
    "df2.info()"
   ]
  }
 ],
 "metadata": {
  "kernelspec": {
   "display_name": "test",
   "language": "python",
   "name": "python3"
  },
  "language_info": {
   "codemirror_mode": {
    "name": "ipython",
    "version": 3
   },
   "file_extension": ".py",
   "mimetype": "text/x-python",
   "name": "python",
   "nbconvert_exporter": "python",
   "pygments_lexer": "ipython3",
   "version": "3.11.10"
  }
 },
 "nbformat": 4,
 "nbformat_minor": 2
}
