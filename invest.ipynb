{
 "cells": [
  {
   "cell_type": "code",
   "execution_count": null,
   "metadata": {},
   "outputs": [
    {
     "name": "stdout",
     "output_type": "stream",
     "text": [
      "Collecting investpyNote: you may need to restart the kernel to use updated packages.\n",
      "\n",
      "  Downloading investpy-1.0.8.tar.gz (4.4 MB)\n",
      "     ---------------------------------------- 0.0/4.4 MB ? eta -:--:--\n",
      "     ---- ----------------------------------- 0.5/4.4 MB 2.8 MB/s eta 0:00:02\n",
      "     ---------------------------- ----------- 3.1/4.4 MB 12.3 MB/s eta 0:00:01\n",
      "     ---------------------------------------- 4.4/4.4 MB 8.2 MB/s eta 0:00:00\n",
      "  Preparing metadata (setup.py): started\n",
      "  Preparing metadata (setup.py): finished with status 'done'\n",
      "Collecting Unidecode>=1.1.1 (from investpy)\n",
      "  Downloading Unidecode-1.3.8-py3-none-any.whl.metadata (13 kB)\n",
      "Requirement already satisfied: setuptools>=41.2.0 in c:\\users\\rmarket\\anaconda3\\envs\\langchain\\lib\\site-packages (from investpy) (75.1.0)\n",
      "Requirement already satisfied: numpy>=1.17.2 in c:\\users\\rmarket\\anaconda3\\envs\\langchain\\lib\\site-packages (from investpy) (1.26.4)\n",
      "Requirement already satisfied: pandas>=0.25.1 in c:\\users\\rmarket\\anaconda3\\envs\\langchain\\lib\\site-packages (from investpy) (2.2.3)\n",
      "Requirement already satisfied: lxml>=4.4.1 in c:\\users\\rmarket\\anaconda3\\envs\\langchain\\lib\\site-packages (from investpy) (5.3.0)\n",
      "Requirement already satisfied: requests>=2.22.0 in c:\\users\\rmarket\\anaconda3\\envs\\langchain\\lib\\site-packages (from investpy) (2.32.3)\n",
      "Requirement already satisfied: pytz>=2019.3 in c:\\users\\rmarket\\anaconda3\\envs\\langchain\\lib\\site-packages (from investpy) (2024.2)\n",
      "Requirement already satisfied: python-dateutil>=2.8.2 in c:\\users\\rmarket\\anaconda3\\envs\\langchain\\lib\\site-packages (from pandas>=0.25.1->investpy) (2.9.0.post0)\n",
      "Requirement already satisfied: tzdata>=2022.7 in c:\\users\\rmarket\\anaconda3\\envs\\langchain\\lib\\site-packages (from pandas>=0.25.1->investpy) (2024.2)\n",
      "Requirement already satisfied: charset-normalizer<4,>=2 in c:\\users\\rmarket\\anaconda3\\envs\\langchain\\lib\\site-packages (from requests>=2.22.0->investpy) (3.4.0)\n",
      "Requirement already satisfied: idna<4,>=2.5 in c:\\users\\rmarket\\anaconda3\\envs\\langchain\\lib\\site-packages (from requests>=2.22.0->investpy) (3.10)\n",
      "Requirement already satisfied: urllib3<3,>=1.21.1 in c:\\users\\rmarket\\anaconda3\\envs\\langchain\\lib\\site-packages (from requests>=2.22.0->investpy) (2.2.3)\n",
      "Requirement already satisfied: certifi>=2017.4.17 in c:\\users\\rmarket\\anaconda3\\envs\\langchain\\lib\\site-packages (from requests>=2.22.0->investpy) (2024.8.30)\n",
      "Requirement already satisfied: six>=1.5 in c:\\users\\rmarket\\anaconda3\\envs\\langchain\\lib\\site-packages (from python-dateutil>=2.8.2->pandas>=0.25.1->investpy) (1.16.0)\n",
      "Downloading Unidecode-1.3.8-py3-none-any.whl (235 kB)\n",
      "Building wheels for collected packages: investpy\n",
      "  Building wheel for investpy (setup.py): started\n",
      "  Building wheel for investpy (setup.py): finished with status 'done'\n",
      "  Created wheel for investpy: filename=investpy-1.0.8-py3-none-any.whl size=4481627 sha256=f75147ab15f83d4ec6f932efdd671099c429dfa3f7c60f8be5dbc0d0ee565ed5\n",
      "  Stored in directory: c:\\users\\rmarket\\appdata\\local\\pip\\cache\\wheels\\df\\e8\\50\\8d6a7119bc8829b70c66573d84e09873d611f9244cf5a1d1b2\n",
      "Successfully built investpy\n",
      "Installing collected packages: Unidecode, investpy\n",
      "Successfully installed Unidecode-1.3.8 investpy-1.0.8\n"
     ]
    }
   ],
   "source": [
    "# pip install investpy"
   ]
  },
  {
   "cell_type": "code",
   "execution_count": null,
   "metadata": {},
   "outputs": [],
   "source": [
    "pip install investiny"
   ]
  },
  {
   "cell_type": "code",
   "execution_count": null,
   "metadata": {},
   "outputs": [],
   "source": []
  },
  {
   "cell_type": "code",
   "execution_count": 6,
   "metadata": {},
   "outputs": [],
   "source": [
    "import investpy\n",
    "import pandas\n",
    "from datetime import datetime"
   ]
  },
  {
   "cell_type": "code",
   "execution_count": 13,
   "metadata": {},
   "outputs": [
    {
     "ename": "ModuleNotFoundError",
     "evalue": "No module named 'investiny'",
     "output_type": "error",
     "traceback": [
      "\u001b[1;31m---------------------------------------------------------------------------\u001b[0m",
      "\u001b[1;31mModuleNotFoundError\u001b[0m                       Traceback (most recent call last)",
      "Cell \u001b[1;32mIn[13], line 1\u001b[0m\n\u001b[1;32m----> 1\u001b[0m \u001b[38;5;28;01mfrom\u001b[39;00m \u001b[38;5;21;01minvestiny\u001b[39;00m \u001b[38;5;28;01mimport\u001b[39;00m historical\n",
      "\u001b[1;31mModuleNotFoundError\u001b[0m: No module named 'investiny'"
     ]
    }
   ],
   "source": [
    "from investiny import historical"
   ]
  },
  {
   "cell_type": "code",
   "execution_count": 11,
   "metadata": {},
   "outputs": [
    {
     "name": "stdout",
     "output_type": "stream",
     "text": [
      "['france', 'germany', 'italy', 'netherlands', 'sweden']\n"
     ]
    }
   ],
   "source": [
    "countriesAvailable = investpy.get_certificate_countries()\n",
    "print(countriesAvailable)"
   ]
  },
  {
   "cell_type": "code",
   "execution_count": 10,
   "metadata": {},
   "outputs": [
    {
     "ename": "ConnectionError",
     "evalue": "ERR#0015: error 403, try again later.",
     "output_type": "error",
     "traceback": [
      "\u001b[1;31m---------------------------------------------------------------------------\u001b[0m",
      "\u001b[1;31mConnectionError\u001b[0m                           Traceback (most recent call last)",
      "Cell \u001b[1;32mIn[10], line 1\u001b[0m\n\u001b[1;32m----> 1\u001b[0m search_result \u001b[38;5;241m=\u001b[39m \u001b[43minvestpy\u001b[49m\u001b[38;5;241;43m.\u001b[39;49m\u001b[43msearch_quotes\u001b[49m\u001b[43m(\u001b[49m\u001b[43mtext\u001b[49m\u001b[38;5;241;43m=\u001b[39;49m\u001b[38;5;124;43m'\u001b[39;49m\u001b[38;5;124;43msamsung\u001b[39;49m\u001b[38;5;124;43m'\u001b[39;49m\u001b[43m,\u001b[49m\u001b[43mproducts\u001b[49m\u001b[38;5;241;43m=\u001b[39;49m\u001b[43m[\u001b[49m\u001b[38;5;124;43m'\u001b[39;49m\u001b[38;5;124;43mstocks\u001b[39;49m\u001b[38;5;124;43m'\u001b[39;49m\u001b[43m]\u001b[49m\u001b[43m,\u001b[49m\u001b[43mcountries\u001b[49m\u001b[38;5;241;43m=\u001b[39;49m\u001b[43m[\u001b[49m\u001b[38;5;124;43m'\u001b[39;49m\u001b[38;5;124;43msouth korea\u001b[39;49m\u001b[38;5;124;43m'\u001b[39;49m\u001b[43m]\u001b[49m\u001b[43m,\u001b[49m\u001b[43mn_results\u001b[49m\u001b[38;5;241;43m=\u001b[39;49m\u001b[38;5;241;43m1\u001b[39;49m\u001b[43m)\u001b[49m\n\u001b[0;32m      2\u001b[0m \u001b[38;5;28mprint\u001b[39m(search_result)\n",
      "File \u001b[1;32mc:\\Users\\RMARKET\\anaconda3\\envs\\Langchain\\Lib\\site-packages\\investpy\\search.py:160\u001b[0m, in \u001b[0;36msearch_quotes\u001b[1;34m(text, products, countries, n_results)\u001b[0m\n\u001b[0;32m    157\u001b[0m req \u001b[38;5;241m=\u001b[39m requests\u001b[38;5;241m.\u001b[39mpost(url, headers\u001b[38;5;241m=\u001b[39mheaders, data\u001b[38;5;241m=\u001b[39mparams)\n\u001b[0;32m    159\u001b[0m \u001b[38;5;28;01mif\u001b[39;00m req\u001b[38;5;241m.\u001b[39mstatus_code \u001b[38;5;241m!=\u001b[39m \u001b[38;5;241m200\u001b[39m:\n\u001b[1;32m--> 160\u001b[0m     \u001b[38;5;28;01mraise\u001b[39;00m \u001b[38;5;167;01mConnectionError\u001b[39;00m(\n\u001b[0;32m    161\u001b[0m         \u001b[38;5;124mf\u001b[39m\u001b[38;5;124m\"\u001b[39m\u001b[38;5;124mERR#0015: error \u001b[39m\u001b[38;5;132;01m{\u001b[39;00mreq\u001b[38;5;241m.\u001b[39mstatus_code\u001b[38;5;132;01m}\u001b[39;00m\u001b[38;5;124m, try again later.\u001b[39m\u001b[38;5;124m\"\u001b[39m\n\u001b[0;32m    162\u001b[0m     )\n\u001b[0;32m    164\u001b[0m data \u001b[38;5;241m=\u001b[39m req\u001b[38;5;241m.\u001b[39mjson()\n\u001b[0;32m    166\u001b[0m \u001b[38;5;28;01mif\u001b[39;00m data[\u001b[38;5;124m\"\u001b[39m\u001b[38;5;124mtotal\u001b[39m\u001b[38;5;124m\"\u001b[39m][\u001b[38;5;124m\"\u001b[39m\u001b[38;5;124mquotes\u001b[39m\u001b[38;5;124m\"\u001b[39m] \u001b[38;5;241m==\u001b[39m \u001b[38;5;241m0\u001b[39m:\n",
      "\u001b[1;31mConnectionError\u001b[0m: ERR#0015: error 403, try again later."
     ]
    }
   ],
   "source": [
    "search_result = investpy.search_quotes(text='samsung',products=['stocks'],countries=['south korea'],n_results=1)\n",
    "print(search_result)"
   ]
  },
  {
   "cell_type": "code",
   "execution_count": null,
   "metadata": {},
   "outputs": [],
   "source": [
    "df = search_result.retrieve_historical_data(from_data='01/01/2023', to_date = '05/12/2024')\n"
   ]
  }
 ],
 "metadata": {
  "kernelspec": {
   "display_name": "Langchain",
   "language": "python",
   "name": "python3"
  },
  "language_info": {
   "codemirror_mode": {
    "name": "ipython",
    "version": 3
   },
   "file_extension": ".py",
   "mimetype": "text/x-python",
   "name": "python",
   "nbconvert_exporter": "python",
   "pygments_lexer": "ipython3",
   "version": "3.11.10"
  }
 },
 "nbformat": 4,
 "nbformat_minor": 2
}
