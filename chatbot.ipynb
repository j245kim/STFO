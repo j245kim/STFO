{
 "cells": [
  {
   "cell_type": "code",
   "execution_count": 2,
   "metadata": {},
   "outputs": [
    {
     "data": {
      "text/plain": [
       "True"
      ]
     },
     "execution_count": 2,
     "metadata": {},
     "output_type": "execute_result"
    }
   ],
   "source": [
    "from dotenv import load_dotenv\n",
    "\n",
    "load_dotenv()"
   ]
  },
  {
   "cell_type": "code",
   "execution_count": 3,
   "metadata": {},
   "outputs": [
    {
     "name": "stdout",
     "output_type": "stream",
     "text": [
      "LangSmith 추적을 시작합니다.\n",
      "[프로젝트명]\n",
      "CLASS\n"
     ]
    }
   ],
   "source": [
    "from langchain_teddynote import logging\n",
    "logging.langsmith(\"CLASS\")"
   ]
  },
  {
   "cell_type": "code",
   "execution_count": 17,
   "metadata": {},
   "outputs": [],
   "source": [
    "import pyupbit\n",
    "import pandas as pd"
   ]
  },
  {
   "cell_type": "code",
   "execution_count": 76,
   "metadata": {},
   "outputs": [],
   "source": [
    "Bit_df = pyupbit.get_ohlcv(\"KRW-BTC\",count = 2200, period=1,interval= \"minute240\", to=\"20241204\")\n",
    "Ether_df = pyupbit.get_ohlcv(\"KRW-ETH\",count = 2200, period=1,interval= \"minute240\", to=\"20241204\")\n",
    "tether_df = pyupbit.get_ohlcv(\"KRW-USDT\",count = 2200, period=1,interval= \"minute240\", to=\"20241204\")\n",
    "Doge_df = pyupbit.get_ohlcv(\"KRW-DOGE\",count = 2200, period=1,interval= \"minute240\", to=\"20241204\")\n",
    "Sand_df = pyupbit.get_ohlcv(\"KRW-SAND\",count = 2200, period=1,interval= \"minute240\", to=\"20241204\")\n",
    "XRP_df = pyupbit.get_ohlcv(\"KRW-XRP\",count = 2200, period=1,interval= \"minute240\", to=\"20241204\")\n",
    "Solana_df = pyupbit.get_ohlcv(\"KRW-SOL\",count = 2200, period=1,interval= \"minute240\", to=\"20241204\")\n",
    "pepe_df = pyupbit.get_ohlcv(\"KRW-PEPE\",count = 2200, period=1,interval= \"minute240\", to=\"20241204\")\n",
    "Shib_df = pyupbit.get_ohlcv(\"KRW-SHIB\",count = 2200, period=1,interval= \"minute240\", to=\"20241204\")"
   ]
  },
  {
   "cell_type": "code",
   "execution_count": 77,
   "metadata": {},
   "outputs": [],
   "source": [
    "coin_list = [Bit_df,Ether_df,tether_df,Doge_df,Sand_df,XRP_df,Solana_df,Shib_df]"
   ]
  },
  {
   "cell_type": "code",
   "execution_count": 78,
   "metadata": {},
   "outputs": [],
   "source": [
    "coin_list_high = []\n",
    "for i in coin_list:\n",
    "    coin_list_high.append(i['high'])"
   ]
  },
  {
   "cell_type": "code",
   "execution_count": 79,
   "metadata": {},
   "outputs": [],
   "source": [
    "coin_list_name = ['Bit','Ether','tether','Doge','Sand','XRP','Solana','Shib']"
   ]
  },
  {
   "cell_type": "code",
   "execution_count": 80,
   "metadata": {},
   "outputs": [],
   "source": [
    "df_coin_high = pd.concat(coin_list_high,axis=1,keys=coin_list_name)"
   ]
  },
  {
   "cell_type": "code",
   "execution_count": 75,
   "metadata": {},
   "outputs": [
    {
     "data": {
      "text/html": [
       "<div>\n",
       "<style scoped>\n",
       "    .dataframe tbody tr th:only-of-type {\n",
       "        vertical-align: middle;\n",
       "    }\n",
       "\n",
       "    .dataframe tbody tr th {\n",
       "        vertical-align: top;\n",
       "    }\n",
       "\n",
       "    .dataframe thead th {\n",
       "        text-align: right;\n",
       "    }\n",
       "</style>\n",
       "<table border=\"1\" class=\"dataframe\">\n",
       "  <thead>\n",
       "    <tr style=\"text-align: right;\">\n",
       "      <th></th>\n",
       "      <th>Bit</th>\n",
       "      <th>Ether</th>\n",
       "      <th>tether</th>\n",
       "      <th>Doge</th>\n",
       "      <th>corr_Sand</th>\n",
       "      <th>XRP</th>\n",
       "      <th>Solana</th>\n",
       "      <th>Shib</th>\n",
       "    </tr>\n",
       "  </thead>\n",
       "  <tbody>\n",
       "    <tr>\n",
       "      <th>2023-12-03 13:00:00</th>\n",
       "      <td>52762000.0</td>\n",
       "      <td>2891000.0</td>\n",
       "      <td>NaN</td>\n",
       "      <td>115.0</td>\n",
       "      <td>572.0</td>\n",
       "      <td>830.0</td>\n",
       "      <td>85860.0</td>\n",
       "      <td>0.01150</td>\n",
       "    </tr>\n",
       "    <tr>\n",
       "      <th>2023-12-03 17:00:00</th>\n",
       "      <td>52876000.0</td>\n",
       "      <td>2896000.0</td>\n",
       "      <td>NaN</td>\n",
       "      <td>115.0</td>\n",
       "      <td>574.0</td>\n",
       "      <td>847.0</td>\n",
       "      <td>85630.0</td>\n",
       "      <td>0.01140</td>\n",
       "    </tr>\n",
       "    <tr>\n",
       "      <th>2023-12-03 21:00:00</th>\n",
       "      <td>53362000.0</td>\n",
       "      <td>2903000.0</td>\n",
       "      <td>NaN</td>\n",
       "      <td>114.0</td>\n",
       "      <td>578.0</td>\n",
       "      <td>840.0</td>\n",
       "      <td>85250.0</td>\n",
       "      <td>0.01140</td>\n",
       "    </tr>\n",
       "    <tr>\n",
       "      <th>2023-12-04 05:00:00</th>\n",
       "      <td>53864000.0</td>\n",
       "      <td>2962000.0</td>\n",
       "      <td>NaN</td>\n",
       "      <td>115.0</td>\n",
       "      <td>578.0</td>\n",
       "      <td>840.0</td>\n",
       "      <td>85760.0</td>\n",
       "      <td>0.01240</td>\n",
       "    </tr>\n",
       "    <tr>\n",
       "      <th>2023-12-04 09:00:00</th>\n",
       "      <td>55106000.0</td>\n",
       "      <td>2992000.0</td>\n",
       "      <td>NaN</td>\n",
       "      <td>117.0</td>\n",
       "      <td>594.0</td>\n",
       "      <td>845.0</td>\n",
       "      <td>86890.0</td>\n",
       "      <td>0.01220</td>\n",
       "    </tr>\n",
       "    <tr>\n",
       "      <th>...</th>\n",
       "      <td>...</td>\n",
       "      <td>...</td>\n",
       "      <td>...</td>\n",
       "      <td>...</td>\n",
       "      <td>...</td>\n",
       "      <td>...</td>\n",
       "      <td>...</td>\n",
       "      <td>...</td>\n",
       "    </tr>\n",
       "    <tr>\n",
       "      <th>2024-12-03 13:00:00</th>\n",
       "      <td>133931000.0</td>\n",
       "      <td>5110000.0</td>\n",
       "      <td>1407.0</td>\n",
       "      <td>596.0</td>\n",
       "      <td>1136.0</td>\n",
       "      <td>3870.0</td>\n",
       "      <td>321250.0</td>\n",
       "      <td>0.04316</td>\n",
       "    </tr>\n",
       "    <tr>\n",
       "      <th>2024-12-03 17:00:00</th>\n",
       "      <td>133789000.0</td>\n",
       "      <td>5087000.0</td>\n",
       "      <td>1405.0</td>\n",
       "      <td>587.5</td>\n",
       "      <td>1154.0</td>\n",
       "      <td>3980.0</td>\n",
       "      <td>319250.0</td>\n",
       "      <td>0.04168</td>\n",
       "    </tr>\n",
       "    <tr>\n",
       "      <th>2024-12-03 21:00:00</th>\n",
       "      <td>132866000.0</td>\n",
       "      <td>5078000.0</td>\n",
       "      <td>1407.0</td>\n",
       "      <td>582.4</td>\n",
       "      <td>1106.0</td>\n",
       "      <td>4025.0</td>\n",
       "      <td>314900.0</td>\n",
       "      <td>0.04105</td>\n",
       "    </tr>\n",
       "    <tr>\n",
       "      <th>2024-12-04 01:00:00</th>\n",
       "      <td>134167000.0</td>\n",
       "      <td>5032000.0</td>\n",
       "      <td>1402.0</td>\n",
       "      <td>574.9</td>\n",
       "      <td>1092.0</td>\n",
       "      <td>3766.0</td>\n",
       "      <td>319600.0</td>\n",
       "      <td>0.04001</td>\n",
       "    </tr>\n",
       "    <tr>\n",
       "      <th>2024-12-04 05:00:00</th>\n",
       "      <td>134680000.0</td>\n",
       "      <td>5113000.0</td>\n",
       "      <td>1405.0</td>\n",
       "      <td>582.8</td>\n",
       "      <td>1150.0</td>\n",
       "      <td>3772.0</td>\n",
       "      <td>335650.0</td>\n",
       "      <td>0.04042</td>\n",
       "    </tr>\n",
       "  </tbody>\n",
       "</table>\n",
       "<p>2200 rows × 8 columns</p>\n",
       "</div>"
      ],
      "text/plain": [
       "                             Bit      Ether  tether   Doge  corr_Sand     XRP  \\\n",
       "2023-12-03 13:00:00   52762000.0  2891000.0     NaN  115.0      572.0   830.0   \n",
       "2023-12-03 17:00:00   52876000.0  2896000.0     NaN  115.0      574.0   847.0   \n",
       "2023-12-03 21:00:00   53362000.0  2903000.0     NaN  114.0      578.0   840.0   \n",
       "2023-12-04 05:00:00   53864000.0  2962000.0     NaN  115.0      578.0   840.0   \n",
       "2023-12-04 09:00:00   55106000.0  2992000.0     NaN  117.0      594.0   845.0   \n",
       "...                          ...        ...     ...    ...        ...     ...   \n",
       "2024-12-03 13:00:00  133931000.0  5110000.0  1407.0  596.0     1136.0  3870.0   \n",
       "2024-12-03 17:00:00  133789000.0  5087000.0  1405.0  587.5     1154.0  3980.0   \n",
       "2024-12-03 21:00:00  132866000.0  5078000.0  1407.0  582.4     1106.0  4025.0   \n",
       "2024-12-04 01:00:00  134167000.0  5032000.0  1402.0  574.9     1092.0  3766.0   \n",
       "2024-12-04 05:00:00  134680000.0  5113000.0  1405.0  582.8     1150.0  3772.0   \n",
       "\n",
       "                       Solana     Shib  \n",
       "2023-12-03 13:00:00   85860.0  0.01150  \n",
       "2023-12-03 17:00:00   85630.0  0.01140  \n",
       "2023-12-03 21:00:00   85250.0  0.01140  \n",
       "2023-12-04 05:00:00   85760.0  0.01240  \n",
       "2023-12-04 09:00:00   86890.0  0.01220  \n",
       "...                       ...      ...  \n",
       "2024-12-03 13:00:00  321250.0  0.04316  \n",
       "2024-12-03 17:00:00  319250.0  0.04168  \n",
       "2024-12-03 21:00:00  314900.0  0.04105  \n",
       "2024-12-04 01:00:00  319600.0  0.04001  \n",
       "2024-12-04 05:00:00  335650.0  0.04042  \n",
       "\n",
       "[2200 rows x 8 columns]"
      ]
     },
     "execution_count": 75,
     "metadata": {},
     "output_type": "execute_result"
    }
   ],
   "source": [
    "df_coin_high"
   ]
  },
  {
   "cell_type": "code",
   "execution_count": 47,
   "metadata": {},
   "outputs": [],
   "source": [
    "from operator import itemgetter\n",
    "from langchain.memory import ConversationBufferMemory\n",
    "from langchain_core.prompts import ChatPromptTemplate, MessagesPlaceholder\n",
    "from langchain_core.runnables import RunnableLambda, RunnablePassthrough\n",
    "from langchain_openai import ChatOpenAI"
   ]
  },
  {
   "cell_type": "code",
   "execution_count": 46,
   "metadata": {},
   "outputs": [],
   "source": [
    "model = ChatOpenAI(model='gpt-4o')"
   ]
  },
  {
   "cell_type": "code",
   "execution_count": 62,
   "metadata": {},
   "outputs": [],
   "source": [
    "prompt = ChatPromptTemplate.from_messages(\n",
    "    [\n",
    "        (f'system','너는 코인 분석가야 넣은 데이터를 분석하고 다음 코인들이 어떠한 경향을 보일지 예측해 코인에 대한 정보는 {{df_coin_high}}에 있어. 대답은 간결하게 해줘'),\n",
    "    \n",
    "    ]\n",
    ")"
   ]
  },
  {
   "cell_type": "code",
   "execution_count": 63,
   "metadata": {},
   "outputs": [],
   "source": [
    "from ragas.testset.generator import TestsetGenerator\n",
    "from ragas.testset.evolutions import simple, reasoning, multi_context, conditional\n",
    "from ragas.llms import LangchainLLMWrapper\n",
    "from ragas.embeddings import LangchainEmbeddingsWrapper\n",
    "from ragas.testset.extractor import KeyphraseExtractor\n",
    "from ragas.testset.docstore import InMemoryDocumentStore\n",
    "from langchain_openai import ChatOpenAI, OpenAIEmbeddings\n",
    "from langchain.text_splitter import RecursiveCharacterTextSplitter"
   ]
  },
  {
   "cell_type": "code",
   "execution_count": 64,
   "metadata": {},
   "outputs": [],
   "source": [
    "chain = prompt | model"
   ]
  },
  {
   "cell_type": "code",
   "execution_count": 65,
   "metadata": {},
   "outputs": [],
   "source": [
    "respone = chain.invoke({'input':'도지코인은 어떤 경향을 보이니?'})"
   ]
  },
  {
   "cell_type": "code",
   "execution_count": null,
   "metadata": {},
   "outputs": [
    {
     "data": {
      "text/plain": [
       "AIMessage(content='To provide a precise analysis, I need to see the data from `{df_coin_high}`. Please share the specific data or trends you observe so I can help with the analysis and prediction.', additional_kwargs={'refusal': None}, response_metadata={'token_usage': {'completion_tokens': 38, 'prompt_tokens': 57, 'total_tokens': 95, 'completion_tokens_details': {'accepted_prediction_tokens': 0, 'audio_tokens': 0, 'reasoning_tokens': 0, 'rejected_prediction_tokens': 0}, 'prompt_tokens_details': {'audio_tokens': 0, 'cached_tokens': 0}}, 'model_name': 'gpt-4o-2024-08-06', 'system_fingerprint': 'fp_c7ca0ebaca', 'finish_reason': 'stop', 'logprobs': None}, id='run-d0693485-2e40-4fc9-9b3b-f2f38003c299-0', usage_metadata={'input_tokens': 57, 'output_tokens': 38, 'total_tokens': 95})"
      ]
     },
     "execution_count": 66,
     "metadata": {},
     "output_type": "execute_result"
    }
   ],
   "source": []
  },
  {
   "cell_type": "code",
   "execution_count": null,
   "metadata": {},
   "outputs": [],
   "source": []
  },
  {
   "cell_type": "code",
   "execution_count": null,
   "metadata": {},
   "outputs": [],
   "source": []
  },
  {
   "cell_type": "code",
   "execution_count": null,
   "metadata": {},
   "outputs": [],
   "source": []
  },
  {
   "cell_type": "code",
   "execution_count": null,
   "metadata": {},
   "outputs": [],
   "source": []
  },
  {
   "cell_type": "code",
   "execution_count": null,
   "metadata": {},
   "outputs": [],
   "source": []
  },
  {
   "cell_type": "code",
   "execution_count": null,
   "metadata": {},
   "outputs": [],
   "source": []
  },
  {
   "cell_type": "code",
   "execution_count": null,
   "metadata": {},
   "outputs": [],
   "source": []
  },
  {
   "cell_type": "code",
   "execution_count": null,
   "metadata": {},
   "outputs": [],
   "source": []
  },
  {
   "cell_type": "code",
   "execution_count": null,
   "metadata": {},
   "outputs": [],
   "source": []
  },
  {
   "cell_type": "code",
   "execution_count": null,
   "metadata": {},
   "outputs": [],
   "source": []
  },
  {
   "cell_type": "code",
   "execution_count": null,
   "metadata": {},
   "outputs": [],
   "source": []
  },
  {
   "cell_type": "code",
   "execution_count": null,
   "metadata": {},
   "outputs": [],
   "source": []
  }
 ],
 "metadata": {
  "kernelspec": {
   "display_name": "Langchain",
   "language": "python",
   "name": "python3"
  },
  "language_info": {
   "codemirror_mode": {
    "name": "ipython",
    "version": 3
   },
   "file_extension": ".py",
   "mimetype": "text/x-python",
   "name": "python",
   "nbconvert_exporter": "python",
   "pygments_lexer": "ipython3",
   "version": "3.11.10"
  }
 },
 "nbformat": 4,
 "nbformat_minor": 2
}
