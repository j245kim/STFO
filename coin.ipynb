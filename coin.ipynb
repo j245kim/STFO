{
 "cells": [
  {
   "cell_type": "code",
   "execution_count": 2,
   "metadata": {},
   "outputs": [],
   "source": [
    "# pip install pyupbit"
   ]
  },
  {
   "cell_type": "code",
   "execution_count": 3,
   "metadata": {},
   "outputs": [],
   "source": [
    "# pip install pyjwt"
   ]
  },
  {
   "cell_type": "code",
   "execution_count": 2,
   "metadata": {},
   "outputs": [],
   "source": [
    "import pyupbit\n"
   ]
  },
  {
   "cell_type": "code",
   "execution_count": 14,
   "metadata": {},
   "outputs": [
    {
     "name": "stdout",
     "output_type": "stream",
     "text": [
      "데이터 거래 시간: 2024-12-05 10:58:16.272000\n",
      "현재 시간: 2024-12-05 10:58:18.952751\n",
      "데이터 지연 시간: 0:00:02.680751\n",
      "데이터는 최신입니다!\n"
     ]
    }
   ],
   "source": [
    "import requests\n",
    "import time\n",
    "from datetime import datetime\n",
    "\n",
    "# 1. API 요청을 보낼 URL 설정\n",
    "url = \"https://api.upbit.com/v1/ticker\"\n",
    "query = {\"markets\": \"KRW-BTC\"}  # 예: 비트코인\n",
    "\n",
    "# 2. 데이터 요청\n",
    "response = requests.get(url, params=query)\n",
    "data = response.json()\n",
    "\n",
    "# 3. API 응답 확인\n",
    "if response.status_code == 200 and data:\n",
    "    # 데이터의 타임스탬프 확인\n",
    "    trade_timestamp = data[0]['trade_timestamp']  # Unix 타임스탬프\n",
    "    trade_time = datetime.fromtimestamp(trade_timestamp / 1000)  # 밀리초를 초로 변환\n",
    "    \n",
    "    # 현재 시간과 비교\n",
    "    now = datetime.now()\n",
    "    time_diff = now - trade_time\n",
    "    \n",
    "    print(f\"데이터 거래 시간: {trade_time}\")\n",
    "    print(f\"현재 시간: {now}\")\n",
    "    print(f\"데이터 지연 시간: {time_diff}\")\n",
    "\n",
    "    # 데이터가 최근 10초 내에 업데이트되었는지 확인\n",
    "    if time_diff.total_seconds() < 10:\n",
    "        print(\"데이터는 최신입니다!\")\n",
    "    else:\n",
    "        print(\"데이터가 오래되었습니다.\")\n",
    "else:\n",
    "    print(f\"API 요청 실패: {response.status_code}\")\n"
   ]
  },
  {
   "cell_type": "code",
   "execution_count": 3,
   "metadata": {},
   "outputs": [
    {
     "name": "stdout",
     "output_type": "stream",
     "text": [
      "['KRW-BTC', 'KRW-ETH', 'BTC-ETH', 'BTC-XRP', 'BTC-ETC', 'BTC-CVC', 'BTC-DGB', 'BTC-SC', 'BTC-SNT', 'BTC-WAVES', 'BTC-NMR', 'BTC-XEM', 'BTC-QTUM', 'BTC-BAT', 'BTC-LSK', 'BTC-STEEM', 'BTC-DOGE', 'BTC-BNT', 'BTC-XLM', 'BTC-ARDR', 'BTC-ARK', 'BTC-STORJ', 'BTC-GRS', 'BTC-RLC', 'USDT-BTC', 'USDT-ETH', 'USDT-XRP', 'USDT-ETC', 'KRW-NEO', 'KRW-MTL', 'KRW-XRP', 'KRW-ETC', 'KRW-SNT', 'KRW-WAVES', 'KRW-XEM', 'KRW-QTUM', 'KRW-LSK', 'KRW-STEEM', 'KRW-XLM', 'KRW-ARDR', 'KRW-ARK', 'KRW-STORJ', 'KRW-GRS', 'KRW-ADA', 'BTC-ADA', 'BTC-MANA', 'KRW-SBD', 'BTC-SBD', 'KRW-POWR', 'BTC-POWR', 'KRW-BTG', 'USDT-ADA', 'BTC-DNT', 'BTC-ZRX', 'BTC-TRX', 'BTC-TUSD', 'BTC-LRC', 'KRW-ICX', 'KRW-EOS', 'USDT-TUSD', 'KRW-TRX', 'BTC-POLYX', 'USDT-SC', 'USDT-TRX', 'KRW-SC', 'KRW-ONT', 'KRW-ZIL', 'KRW-POLYX', 'KRW-ZRX', 'KRW-LOOM', 'BTC-BCH', 'USDT-BCH', 'KRW-BCH', 'BTC-HIFI', 'BTC-LOOM', 'KRW-BAT', 'KRW-IOST', 'USDT-DGB', 'KRW-CVC', 'KRW-IQ', 'KRW-IOTA', 'BTC-RVN', 'BTC-GO', 'BTC-BOUNTY', 'BTC-ENJ', 'KRW-HIFI', 'KRW-ONG', 'KRW-GAS', 'BTC-MTL', 'KRW-BOUNTY', 'KRW-ELF', 'USDT-DOGE', 'USDT-ZRX', 'USDT-RVN', 'USDT-BAT', 'KRW-KNC', 'BTC-MOC', 'BTC-ZIL', 'KRW-BSV', 'BTC-BSV', 'BTC-IOST', 'KRW-THETA', 'BTC-DENT', 'KRW-QKC', 'BTC-ELF', 'KRW-BTT', 'BTC-IOTX', 'BTC-SOLVE', 'BTC-NKN', 'BTC-META', 'KRW-MOC', 'BTC-ANKR', 'BTC-CRO', 'KRW-TFUEL', 'KRW-MANA', 'KRW-ANKR', 'BTC-ORBS', 'BTC-AERGO', 'KRW-AERGO', 'KRW-ATOM', 'KRW-TT', 'KRW-GAME2', 'BTC-ATOM', 'BTC-STPT', 'KRW-MBL', 'BTC-EOS', 'BTC-USDS', 'BTC-SKY', 'BTC-BORA', 'KRW-WAXP', 'BTC-WAXP', 'KRW-HBAR', 'KRW-MED', 'BTC-MED', 'BTC-MLK', 'KRW-MLK', 'KRW-STPT', 'BTC-VET', 'KRW-ORBS', 'BTC-CHZ', 'KRW-VET', 'BTC-FX', 'BTC-OGN', 'KRW-CHZ', 'BTC-XTZ', 'BTC-HIVE', 'BTC-HBD', 'BTC-OBSR', 'BTC-DKA', 'KRW-STMX', 'BTC-STMX', 'BTC-AHT', 'KRW-DKA', 'BTC-LINK', 'KRW-HIVE', 'KRW-KAVA', 'BTC-KAVA', 'KRW-AHT', 'KRW-LINK', 'KRW-XTZ', 'KRW-BORA', 'BTC-JST', 'BTC-CHR', 'BTC-DAD', 'BTC-TON', 'KRW-JST', 'BTC-CTSI', 'BTC-DOT', 'KRW-CRO', 'BTC-COMP', 'BTC-SXP', 'BTC-HUNT', 'KRW-TON', 'BTC-LWA', 'BTC-CRV', 'BTC-ALGO', 'BTC-RSR', 'KRW-SXP', 'BTC-OXT', 'KRW-HUNT', 'BTC-SAND', 'BTC-SUN', 'KRW-DOT', 'BTC-QTCON', 'BTC-MVL', 'KRW-MVL', 'BTC-REI', 'BTC-AQT', 'BTC-AXS', 'BTC-STRAX', 'KRW-STRAX', 'KRW-AQT', 'BTC-GLM', 'KRW-GLM', 'BTC-FCT2', 'KRW-META', 'KRW-FCT2', 'BTC-FIL', 'BTC-UNI', 'BTC-INJ', 'BTC-PROM', 'BTC-VAL', 'BTC-PSG', 'BTC-JUV', 'BTC-CBK', 'BTC-FOR', 'KRW-CBK', 'BTC-BFC', 'BTC-HPO', 'BTC-CELO', 'KRW-SAND', 'KRW-HPO', 'BTC-IQ', 'BTC-STX', 'KRW-DOGE', 'BTC-NEAR', 'BTC-AUCTION', 'BTC-FLOW', 'BTC-STRIKE', 'KRW-STRIKE', 'BTC-PUNDIX', 'KRW-PUNDIX', 'KRW-FLOW', 'KRW-AXS', 'KRW-STX', 'BTC-GRT', 'BTC-SNX', 'BTC-USDP', 'KRW-XEC', 'KRW-SOL', 'BTC-SOL', 'KRW-POL', 'BTC-POL', 'KRW-AAVE', 'KRW-1INCH', 'BTC-AAVE', 'BTC-1INCH', 'BTC-MASK', 'KRW-ALGO', 'BTC-AUDIO', 'KRW-NEAR', 'BTC-YGG', 'BTC-GTC', 'BTC-OCEAN', 'BTC-CTC', 'BTC-LPT', 'KRW-AVAX', 'BTC-AVAX', 'BTC-IMX', 'BTC-RENDER', 'BTC-RLY', 'KRW-T', 'BTC-T', 'KRW-CELO', 'BTC-RAD', 'BTC-AGLD', 'BTC-API3', 'BTC-ARPA', 'BTC-ENS', 'KRW-GMT', 'BTC-GMT', 'BTC-APE', 'BTC-RAY', 'KRW-APT', 'BTC-APT', 'BTC-ACM', 'BTC-AFC', 'BTC-ATM', 'BTC-BAR', 'BTC-CITY', 'BTC-INTER', 'BTC-NAP', 'KRW-SHIB', 'BTC-G', 'BTC-ASTR', 'BTC-BLUR', 'KRW-MASK', 'BTC-ACS', 'BTC-MAGIC', 'KRW-ARB', 'BTC-ARB', 'KRW-EGLD', 'BTC-EGLD', 'KRW-SUI', 'BTC-SUI', 'KRW-GRT', 'KRW-BLUR', 'BTC-MINA', 'KRW-IMX', 'BTC-STG', 'BTC-SEI', 'KRW-SEI', 'BTC-CYBER', 'BTC-GLMR', 'KRW-MINA', 'BTC-ID', 'BTC-AXL', 'KRW-CTC', 'KRW-ASTR', 'BTC-SPURS', 'KRW-ID', 'KRW-PYTH', 'BTC-PYTH', 'BTC-ALT', 'BTC-POKT', 'USDT-POKT', 'KRW-MNT', 'BTC-MNT', 'USDT-MNT', 'BTC-BIGTIME', 'USDT-BIGTIME', 'KRW-AKT', 'BTC-AKT', 'USDT-AKT', 'KRW-ZETA', 'BTC-ZETA', 'USDT-ZETA', 'BTC-OMNI', 'USDT-OMNI', 'BTC-OAS', 'USDT-OAS', 'KRW-AUCTION', 'KRW-STG', 'KRW-BEAM', 'BTC-BEAM', 'USDT-BEAM', 'KRW-TAIKO', 'BTC-TAIKO', 'USDT-TAIKO', 'KRW-USDT', 'BTC-USDT', 'KRW-ONDO', 'BTC-ONDO', 'USDT-ONDO', 'BTC-NEO', 'USDT-NEO', 'BTC-GAS', 'USDT-GAS', 'BTC-TT', 'BTC-GAME2', 'USDT-SOL', 'KRW-ZRO', 'BTC-ZRO', 'USDT-ZRO', 'KRW-BLAST', 'BTC-BLAST', 'USDT-BLAST', 'KRW-JUP', 'BTC-JUP', 'USDT-JUP', 'KRW-ENS', 'KRW-G', 'KRW-PENDLE', 'BTC-PENDLE', 'KRW-ATH', 'BTC-ATH', 'USDT-BRETT', 'USDT-PEPE', 'KRW-USDC', 'BTC-USDC', 'USDT-USDC', 'KRW-UXLINK', 'BTC-UXLINK', 'USDT-UXLINK', 'KRW-BIGTIME', 'KRW-CKB', 'BTC-CKB', 'USDT-CKB', 'BTC-MEW', 'USDT-MEW', 'KRW-W', 'BTC-W', 'USDT-W', 'KRW-CARV', 'BTC-CARV', 'USDT-CARV', 'KRW-INJ', 'USDT-INJ', 'KRW-MEW', 'USDT-BONK', 'KRW-UNI', 'USDT-UNI', 'KRW-SAFE', 'BTC-SAFE', 'USDT-SAFE', 'KRW-DRIFT', 'BTC-DRIFT', 'USDT-DRIFT', 'KRW-AGLD', 'USDT-AGLD', 'USDT-AHT', 'USDT-ARPA', 'USDT-ASTR', 'USDT-BNT', 'USDT-EGLD', 'USDT-FIL', 'USDT-LWA', 'USDT-NEAR', 'USDT-OXT', 'USDT-RAD', 'USDT-XLM', 'KRW-PEPE', 'KRW-BONK', 'BTC-JASMY', 'USDT-JASMY', 'BTC-NCT', 'USDT-NCT']\n"
     ]
    }
   ],
   "source": [
    "print(pyupbit.get_tickers())"
   ]
  },
  {
   "cell_type": "code",
   "execution_count": 4,
   "metadata": {},
   "outputs": [
    {
     "name": "stdout",
     "output_type": "stream",
     "text": [
      "['KRW-BTC', 'KRW-ETH', 'KRW-NEO', 'KRW-MTL', 'KRW-XRP', 'KRW-ETC', 'KRW-SNT', 'KRW-WAVES', 'KRW-XEM', 'KRW-QTUM', 'KRW-LSK', 'KRW-STEEM', 'KRW-XLM', 'KRW-ARDR', 'KRW-ARK', 'KRW-STORJ', 'KRW-GRS', 'KRW-ADA', 'KRW-SBD', 'KRW-POWR', 'KRW-BTG', 'KRW-ICX', 'KRW-EOS', 'KRW-TRX', 'KRW-SC', 'KRW-ONT', 'KRW-ZIL', 'KRW-POLYX', 'KRW-ZRX', 'KRW-LOOM', 'KRW-BCH', 'KRW-BAT', 'KRW-IOST', 'KRW-CVC', 'KRW-IQ', 'KRW-IOTA', 'KRW-HIFI', 'KRW-ONG', 'KRW-GAS', 'KRW-BOUNTY', 'KRW-ELF', 'KRW-KNC', 'KRW-BSV', 'KRW-THETA', 'KRW-QKC', 'KRW-BTT', 'KRW-MOC', 'KRW-TFUEL', 'KRW-MANA', 'KRW-ANKR', 'KRW-AERGO', 'KRW-ATOM', 'KRW-TT', 'KRW-GAME2', 'KRW-MBL', 'KRW-WAXP', 'KRW-HBAR', 'KRW-MED', 'KRW-MLK', 'KRW-STPT', 'KRW-ORBS', 'KRW-VET', 'KRW-CHZ', 'KRW-STMX', 'KRW-DKA', 'KRW-HIVE', 'KRW-KAVA', 'KRW-AHT', 'KRW-LINK', 'KRW-XTZ', 'KRW-BORA', 'KRW-JST', 'KRW-CRO', 'KRW-TON', 'KRW-SXP', 'KRW-HUNT', 'KRW-DOT', 'KRW-MVL', 'KRW-STRAX', 'KRW-AQT', 'KRW-GLM', 'KRW-META', 'KRW-FCT2', 'KRW-CBK', 'KRW-SAND', 'KRW-HPO', 'KRW-DOGE', 'KRW-STRIKE', 'KRW-PUNDIX', 'KRW-FLOW', 'KRW-AXS', 'KRW-STX', 'KRW-XEC', 'KRW-SOL', 'KRW-POL', 'KRW-AAVE', 'KRW-1INCH', 'KRW-ALGO', 'KRW-NEAR', 'KRW-AVAX', 'KRW-T', 'KRW-CELO', 'KRW-GMT', 'KRW-APT', 'KRW-SHIB', 'KRW-MASK', 'KRW-ARB', 'KRW-EGLD', 'KRW-SUI', 'KRW-GRT', 'KRW-BLUR', 'KRW-IMX', 'KRW-SEI', 'KRW-MINA', 'KRW-CTC', 'KRW-ASTR', 'KRW-ID', 'KRW-PYTH', 'KRW-MNT', 'KRW-AKT', 'KRW-ZETA', 'KRW-AUCTION', 'KRW-STG', 'KRW-BEAM', 'KRW-TAIKO', 'KRW-USDT', 'KRW-ONDO', 'KRW-ZRO', 'KRW-BLAST', 'KRW-JUP', 'KRW-ENS', 'KRW-G', 'KRW-PENDLE', 'KRW-ATH', 'KRW-USDC', 'KRW-UXLINK', 'KRW-BIGTIME', 'KRW-CKB', 'KRW-W', 'KRW-CARV', 'KRW-INJ', 'KRW-MEW', 'KRW-UNI', 'KRW-SAFE', 'KRW-DRIFT', 'KRW-AGLD', 'KRW-PEPE', 'KRW-BONK']\n"
     ]
    }
   ],
   "source": [
    "print(pyupbit.get_tickers(fiat=\"KRW\"))"
   ]
  },
  {
   "cell_type": "code",
   "execution_count": 5,
   "metadata": {},
   "outputs": [
    {
     "name": "stdout",
     "output_type": "stream",
     "text": [
      "137799000.0\n"
     ]
    }
   ],
   "source": [
    "print(pyupbit.get_current_price(\"KRW-BTC\"))"
   ]
  },
  {
   "cell_type": "code",
   "execution_count": 6,
   "metadata": {},
   "outputs": [
    {
     "name": "stdout",
     "output_type": "stream",
     "text": [
      "{'KRW-BTC': 137800000.0, 'KRW-XRP': 3149.0}\n"
     ]
    }
   ],
   "source": [
    "print(pyupbit.get_current_price([\"KRW-BTC\", \"KRW-XRP\"]))"
   ]
  },
  {
   "cell_type": "code",
   "execution_count": 7,
   "metadata": {},
   "outputs": [
    {
     "name": "stdout",
     "output_type": "stream",
     "text": [
      "                            open         high          low        close  \\\n",
      "2024-12-01 09:00:00  133722000.0  135199000.0  133297000.0  133802000.0   \n",
      "2024-12-02 09:00:00  133802000.0  135800000.0  132260000.0  133535000.0   \n",
      "2024-12-03 09:00:00  133523000.0  134680000.0   88266000.0  133700000.0   \n",
      "2024-12-04 09:00:00  133720000.0  139920000.0  133499000.0  138760000.0   \n",
      "2024-12-05 09:00:00  138765000.0  139770000.0  136980000.0  137796000.0   \n",
      "\n",
      "                           volume         value  \n",
      "2024-12-01 09:00:00   2835.146498  3.809287e+11  \n",
      "2024-12-02 09:00:00   5356.774825  7.180606e+11  \n",
      "2024-12-03 09:00:00  18097.084256  2.304644e+12  \n",
      "2024-12-04 09:00:00   6969.870812  9.488602e+11  \n",
      "2024-12-05 09:00:00   1266.289925  1.752487e+11  \n"
     ]
    }
   ],
   "source": [
    "df = pyupbit.get_ohlcv(\"KRW-BTC\")\n",
    "print(df.tail())"
   ]
  },
  {
   "cell_type": "code",
   "execution_count": 8,
   "metadata": {},
   "outputs": [],
   "source": [
    "df = pyupbit.get_ohlcv(\"KRW-BTC\", count=5)"
   ]
  },
  {
   "cell_type": "code",
   "execution_count": 9,
   "metadata": {},
   "outputs": [
    {
     "data": {
      "text/html": [
       "<div>\n",
       "<style scoped>\n",
       "    .dataframe tbody tr th:only-of-type {\n",
       "        vertical-align: middle;\n",
       "    }\n",
       "\n",
       "    .dataframe tbody tr th {\n",
       "        vertical-align: top;\n",
       "    }\n",
       "\n",
       "    .dataframe thead th {\n",
       "        text-align: right;\n",
       "    }\n",
       "</style>\n",
       "<table border=\"1\" class=\"dataframe\">\n",
       "  <thead>\n",
       "    <tr style=\"text-align: right;\">\n",
       "      <th></th>\n",
       "      <th>open</th>\n",
       "      <th>high</th>\n",
       "      <th>low</th>\n",
       "      <th>close</th>\n",
       "      <th>volume</th>\n",
       "      <th>value</th>\n",
       "    </tr>\n",
       "  </thead>\n",
       "  <tbody>\n",
       "    <tr>\n",
       "      <th>2024-12-01 09:00:00</th>\n",
       "      <td>133722000.0</td>\n",
       "      <td>135199000.0</td>\n",
       "      <td>133297000.0</td>\n",
       "      <td>133802000.0</td>\n",
       "      <td>2835.146498</td>\n",
       "      <td>3.809287e+11</td>\n",
       "    </tr>\n",
       "    <tr>\n",
       "      <th>2024-12-02 09:00:00</th>\n",
       "      <td>133802000.0</td>\n",
       "      <td>135800000.0</td>\n",
       "      <td>132260000.0</td>\n",
       "      <td>133535000.0</td>\n",
       "      <td>5356.774825</td>\n",
       "      <td>7.180606e+11</td>\n",
       "    </tr>\n",
       "    <tr>\n",
       "      <th>2024-12-03 09:00:00</th>\n",
       "      <td>133523000.0</td>\n",
       "      <td>134680000.0</td>\n",
       "      <td>88266000.0</td>\n",
       "      <td>133700000.0</td>\n",
       "      <td>18097.084256</td>\n",
       "      <td>2.304644e+12</td>\n",
       "    </tr>\n",
       "    <tr>\n",
       "      <th>2024-12-04 09:00:00</th>\n",
       "      <td>133720000.0</td>\n",
       "      <td>139920000.0</td>\n",
       "      <td>133499000.0</td>\n",
       "      <td>138760000.0</td>\n",
       "      <td>6969.870812</td>\n",
       "      <td>9.488602e+11</td>\n",
       "    </tr>\n",
       "    <tr>\n",
       "      <th>2024-12-05 09:00:00</th>\n",
       "      <td>138765000.0</td>\n",
       "      <td>139770000.0</td>\n",
       "      <td>136980000.0</td>\n",
       "      <td>137812000.0</td>\n",
       "      <td>1266.289997</td>\n",
       "      <td>1.752487e+11</td>\n",
       "    </tr>\n",
       "  </tbody>\n",
       "</table>\n",
       "</div>"
      ],
      "text/plain": [
       "                            open         high          low        close  \\\n",
       "2024-12-01 09:00:00  133722000.0  135199000.0  133297000.0  133802000.0   \n",
       "2024-12-02 09:00:00  133802000.0  135800000.0  132260000.0  133535000.0   \n",
       "2024-12-03 09:00:00  133523000.0  134680000.0   88266000.0  133700000.0   \n",
       "2024-12-04 09:00:00  133720000.0  139920000.0  133499000.0  138760000.0   \n",
       "2024-12-05 09:00:00  138765000.0  139770000.0  136980000.0  137812000.0   \n",
       "\n",
       "                           volume         value  \n",
       "2024-12-01 09:00:00   2835.146498  3.809287e+11  \n",
       "2024-12-02 09:00:00   5356.774825  7.180606e+11  \n",
       "2024-12-03 09:00:00  18097.084256  2.304644e+12  \n",
       "2024-12-04 09:00:00   6969.870812  9.488602e+11  \n",
       "2024-12-05 09:00:00   1266.289997  1.752487e+11  "
      ]
     },
     "execution_count": 9,
     "metadata": {},
     "output_type": "execute_result"
    }
   ],
   "source": [
    "df"
   ]
  },
  {
   "cell_type": "code",
   "execution_count": 10,
   "metadata": {},
   "outputs": [],
   "source": [
    "df = pyupbit.get_ohlcv(\"KRW-BTC\", count=600, period=1)"
   ]
  },
  {
   "cell_type": "code",
   "execution_count": 11,
   "metadata": {},
   "outputs": [
    {
     "data": {
      "text/html": [
       "<div>\n",
       "<style scoped>\n",
       "    .dataframe tbody tr th:only-of-type {\n",
       "        vertical-align: middle;\n",
       "    }\n",
       "\n",
       "    .dataframe tbody tr th {\n",
       "        vertical-align: top;\n",
       "    }\n",
       "\n",
       "    .dataframe thead th {\n",
       "        text-align: right;\n",
       "    }\n",
       "</style>\n",
       "<table border=\"1\" class=\"dataframe\">\n",
       "  <thead>\n",
       "    <tr style=\"text-align: right;\">\n",
       "      <th></th>\n",
       "      <th>open</th>\n",
       "      <th>high</th>\n",
       "      <th>low</th>\n",
       "      <th>close</th>\n",
       "      <th>volume</th>\n",
       "      <th>value</th>\n",
       "    </tr>\n",
       "  </thead>\n",
       "  <tbody>\n",
       "    <tr>\n",
       "      <th>2023-04-16 09:00:00</th>\n",
       "      <td>39800000.0</td>\n",
       "      <td>39981000.0</td>\n",
       "      <td>39600000.0</td>\n",
       "      <td>39607000.0</td>\n",
       "      <td>2393.495282</td>\n",
       "      <td>9.512904e+10</td>\n",
       "    </tr>\n",
       "    <tr>\n",
       "      <th>2023-04-17 09:00:00</th>\n",
       "      <td>39612000.0</td>\n",
       "      <td>39673000.0</td>\n",
       "      <td>38506000.0</td>\n",
       "      <td>38700000.0</td>\n",
       "      <td>5420.857259</td>\n",
       "      <td>2.113226e+11</td>\n",
       "    </tr>\n",
       "    <tr>\n",
       "      <th>2023-04-18 09:00:00</th>\n",
       "      <td>38700000.0</td>\n",
       "      <td>39847000.0</td>\n",
       "      <td>38251000.0</td>\n",
       "      <td>39630000.0</td>\n",
       "      <td>4976.831513</td>\n",
       "      <td>1.951605e+11</td>\n",
       "    </tr>\n",
       "    <tr>\n",
       "      <th>2023-04-19 09:00:00</th>\n",
       "      <td>39637000.0</td>\n",
       "      <td>39719000.0</td>\n",
       "      <td>38181000.0</td>\n",
       "      <td>38300000.0</td>\n",
       "      <td>6118.482472</td>\n",
       "      <td>2.382898e+11</td>\n",
       "    </tr>\n",
       "    <tr>\n",
       "      <th>2023-04-20 09:00:00</th>\n",
       "      <td>38300000.0</td>\n",
       "      <td>38572000.0</td>\n",
       "      <td>37400000.0</td>\n",
       "      <td>37672000.0</td>\n",
       "      <td>5515.281884</td>\n",
       "      <td>2.098141e+11</td>\n",
       "    </tr>\n",
       "    <tr>\n",
       "      <th>...</th>\n",
       "      <td>...</td>\n",
       "      <td>...</td>\n",
       "      <td>...</td>\n",
       "      <td>...</td>\n",
       "      <td>...</td>\n",
       "      <td>...</td>\n",
       "    </tr>\n",
       "    <tr>\n",
       "      <th>2024-12-01 09:00:00</th>\n",
       "      <td>133722000.0</td>\n",
       "      <td>135199000.0</td>\n",
       "      <td>133297000.0</td>\n",
       "      <td>133802000.0</td>\n",
       "      <td>2835.146498</td>\n",
       "      <td>3.809287e+11</td>\n",
       "    </tr>\n",
       "    <tr>\n",
       "      <th>2024-12-02 09:00:00</th>\n",
       "      <td>133802000.0</td>\n",
       "      <td>135800000.0</td>\n",
       "      <td>132260000.0</td>\n",
       "      <td>133535000.0</td>\n",
       "      <td>5356.774825</td>\n",
       "      <td>7.180606e+11</td>\n",
       "    </tr>\n",
       "    <tr>\n",
       "      <th>2024-12-03 09:00:00</th>\n",
       "      <td>133523000.0</td>\n",
       "      <td>134680000.0</td>\n",
       "      <td>88266000.0</td>\n",
       "      <td>133700000.0</td>\n",
       "      <td>18097.084256</td>\n",
       "      <td>2.304644e+12</td>\n",
       "    </tr>\n",
       "    <tr>\n",
       "      <th>2024-12-04 09:00:00</th>\n",
       "      <td>133720000.0</td>\n",
       "      <td>139920000.0</td>\n",
       "      <td>133499000.0</td>\n",
       "      <td>138760000.0</td>\n",
       "      <td>6969.870812</td>\n",
       "      <td>9.488602e+11</td>\n",
       "    </tr>\n",
       "    <tr>\n",
       "      <th>2024-12-05 09:00:00</th>\n",
       "      <td>138765000.0</td>\n",
       "      <td>139770000.0</td>\n",
       "      <td>136980000.0</td>\n",
       "      <td>137800000.0</td>\n",
       "      <td>1266.305333</td>\n",
       "      <td>1.752508e+11</td>\n",
       "    </tr>\n",
       "  </tbody>\n",
       "</table>\n",
       "<p>600 rows × 6 columns</p>\n",
       "</div>"
      ],
      "text/plain": [
       "                            open         high          low        close  \\\n",
       "2023-04-16 09:00:00   39800000.0   39981000.0   39600000.0   39607000.0   \n",
       "2023-04-17 09:00:00   39612000.0   39673000.0   38506000.0   38700000.0   \n",
       "2023-04-18 09:00:00   38700000.0   39847000.0   38251000.0   39630000.0   \n",
       "2023-04-19 09:00:00   39637000.0   39719000.0   38181000.0   38300000.0   \n",
       "2023-04-20 09:00:00   38300000.0   38572000.0   37400000.0   37672000.0   \n",
       "...                          ...          ...          ...          ...   \n",
       "2024-12-01 09:00:00  133722000.0  135199000.0  133297000.0  133802000.0   \n",
       "2024-12-02 09:00:00  133802000.0  135800000.0  132260000.0  133535000.0   \n",
       "2024-12-03 09:00:00  133523000.0  134680000.0   88266000.0  133700000.0   \n",
       "2024-12-04 09:00:00  133720000.0  139920000.0  133499000.0  138760000.0   \n",
       "2024-12-05 09:00:00  138765000.0  139770000.0  136980000.0  137800000.0   \n",
       "\n",
       "                           volume         value  \n",
       "2023-04-16 09:00:00   2393.495282  9.512904e+10  \n",
       "2023-04-17 09:00:00   5420.857259  2.113226e+11  \n",
       "2023-04-18 09:00:00   4976.831513  1.951605e+11  \n",
       "2023-04-19 09:00:00   6118.482472  2.382898e+11  \n",
       "2023-04-20 09:00:00   5515.281884  2.098141e+11  \n",
       "...                           ...           ...  \n",
       "2024-12-01 09:00:00   2835.146498  3.809287e+11  \n",
       "2024-12-02 09:00:00   5356.774825  7.180606e+11  \n",
       "2024-12-03 09:00:00  18097.084256  2.304644e+12  \n",
       "2024-12-04 09:00:00   6969.870812  9.488602e+11  \n",
       "2024-12-05 09:00:00   1266.305333  1.752508e+11  \n",
       "\n",
       "[600 rows x 6 columns]"
      ]
     },
     "execution_count": 11,
     "metadata": {},
     "output_type": "execute_result"
    }
   ],
   "source": [
    "df"
   ]
  },
  {
   "cell_type": "code",
   "execution_count": 12,
   "metadata": {},
   "outputs": [
    {
     "name": "stdout",
     "output_type": "stream",
     "text": [
      "                            open         high          low        close  \\\n",
      "2024-05-20 09:00:00   92185000.0   97264000.0   91931000.0   97260000.0   \n",
      "2024-05-21 09:00:00   97260000.0   98150000.0   95571000.0   96700000.0   \n",
      "2024-05-22 09:00:00   96717000.0   96999000.0   94640000.0   95421000.0   \n",
      "2024-05-23 09:00:00   95421000.0   96881000.0   93000000.0   94900000.0   \n",
      "2024-05-24 09:00:00   94897000.0   96160000.0   93300000.0   95214000.0   \n",
      "...                          ...          ...          ...          ...   \n",
      "2024-12-01 09:00:00  133722000.0  135199000.0  133297000.0  133802000.0   \n",
      "2024-12-02 09:00:00  133802000.0  135800000.0  132260000.0  133535000.0   \n",
      "2024-12-03 09:00:00  133523000.0  134680000.0   88266000.0  133700000.0   \n",
      "2024-12-04 09:00:00  133720000.0  139920000.0  133499000.0  138760000.0   \n",
      "2024-12-05 09:00:00  138765000.0  139770000.0  136980000.0  137827000.0   \n",
      "\n",
      "                           volume         value  \n",
      "2024-05-20 09:00:00   4413.186165  4.168862e+11  \n",
      "2024-05-21 09:00:00   4609.756504  4.475724e+11  \n",
      "2024-05-22 09:00:00   2799.801570  2.685380e+11  \n",
      "2024-05-23 09:00:00   4396.134362  4.175072e+11  \n",
      "2024-05-24 09:00:00   2489.941833  2.355097e+11  \n",
      "...                           ...           ...  \n",
      "2024-12-01 09:00:00   2835.146498  3.809287e+11  \n",
      "2024-12-02 09:00:00   5356.774825  7.180606e+11  \n",
      "2024-12-03 09:00:00  18097.084256  2.304644e+12  \n",
      "2024-12-04 09:00:00   6969.870812  9.488602e+11  \n",
      "2024-12-05 09:00:00   1266.393197  1.752629e+11  \n",
      "\n",
      "[200 rows x 6 columns]\n",
      "                            open         high          low        close  \\\n",
      "2024-12-05 07:39:00  138498000.0  138498000.0  138310000.0  138474000.0   \n",
      "2024-12-05 07:40:00  138335000.0  138467000.0  138309000.0  138336000.0   \n",
      "2024-12-05 07:41:00  138335000.0  138336000.0  138200000.0  138334000.0   \n",
      "2024-12-05 07:42:00  138334000.0  138426000.0  138209000.0  138380000.0   \n",
      "2024-12-05 07:43:00  138380000.0  138400000.0  138301000.0  138398000.0   \n",
      "...                          ...          ...          ...          ...   \n",
      "2024-12-05 10:54:00  138000000.0  138000000.0  137970000.0  137970000.0   \n",
      "2024-12-05 10:55:00  137984000.0  137984000.0  137832000.0  137928000.0   \n",
      "2024-12-05 10:56:00  137845000.0  137961000.0  137793000.0  137927000.0   \n",
      "2024-12-05 10:57:00  137935000.0  137935000.0  137794000.0  137891000.0   \n",
      "2024-12-05 10:58:00  137891000.0  137891000.0  137796000.0  137827000.0   \n",
      "\n",
      "                       volume         value  \n",
      "2024-12-05 07:39:00  9.013986  1.248214e+09  \n",
      "2024-12-05 07:40:00  2.575121  3.562466e+08  \n",
      "2024-12-05 07:41:00  4.445070  6.147616e+08  \n",
      "2024-12-05 07:42:00  2.592434  3.586967e+08  \n",
      "2024-12-05 07:43:00  3.602923  4.985166e+08  \n",
      "...                       ...           ...  \n",
      "2024-12-05 10:54:00  5.985066  8.258674e+08  \n",
      "2024-12-05 10:55:00  3.023111  4.168613e+08  \n",
      "2024-12-05 10:56:00  9.867657  1.359854e+09  \n",
      "2024-12-05 10:57:00  4.412611  6.082837e+08  \n",
      "2024-12-05 10:58:00  0.420338  5.793473e+07  \n",
      "\n",
      "[200 rows x 6 columns]\n",
      "                            open         high          low        close  \\\n",
      "2021-02-08 09:00:00   41921000.0   53380000.0   41562000.0   52706000.0   \n",
      "2021-02-15 09:00:00   52711000.0   65985000.0   50313000.0   65417000.0   \n",
      "2021-02-22 09:00:00   65416000.0   65488000.0   49755000.0   51798000.0   \n",
      "2021-03-01 09:00:00   51798000.0   59640000.0   51560000.0   58155000.0   \n",
      "2021-03-08 09:00:00   58155000.0   71450000.0   57187000.0   68587000.0   \n",
      "...                          ...          ...          ...          ...   \n",
      "2024-11-04 09:00:00   95987000.0  112470000.0   93083000.0  111440000.0   \n",
      "2024-11-11 09:00:00  111440000.0  131041000.0  111273000.0  126472000.0   \n",
      "2024-11-18 09:00:00  126469000.0  138770000.0  126133000.0  136096000.0   \n",
      "2024-11-25 09:00:00  136110000.0  136274000.0  127416000.0  133802000.0   \n",
      "2024-12-02 09:00:00  133802000.0  139920000.0   88266000.0  137827000.0   \n",
      "\n",
      "                            volume         value  \n",
      "2021-02-08 09:00:00   94981.312893  4.656545e+12  \n",
      "2021-02-15 09:00:00   79123.025896  4.654387e+12  \n",
      "2021-02-22 09:00:00  131610.258017  7.403670e+12  \n",
      "2021-03-01 09:00:00   64264.701639  3.615534e+12  \n",
      "2021-03-08 09:00:00   67036.978699  4.329845e+12  \n",
      "...                            ...           ...  \n",
      "2024-11-04 09:00:00   46951.927050  4.832412e+12  \n",
      "2024-11-11 09:00:00   62661.182692  7.788110e+12  \n",
      "2024-11-18 09:00:00   46529.960442  6.219953e+12  \n",
      "2024-11-25 09:00:00   28380.964184  3.755953e+12  \n",
      "2024-12-02 09:00:00   31690.123090  4.146828e+12  \n",
      "\n",
      "[200 rows x 6 columns]\n"
     ]
    }
   ],
   "source": [
    "print(pyupbit.get_ohlcv(\"KRW-BTC\", interval=\"day\"))              # 일봉 데이터 (5일)\n",
    "print(pyupbit.get_ohlcv(\"KRW-BTC\", interval=\"minute1\"))         # 분봉 데이터\n",
    "print(pyupbit.get_ohlcv(\"KRW-BTC\", interval=\"week\"))            # 주봉 데이터"
   ]
  },
  {
   "cell_type": "code",
   "execution_count": 13,
   "metadata": {},
   "outputs": [
    {
     "name": "stdout",
     "output_type": "stream",
     "text": [
      "                           open        high         low       close  \\\n",
      "2020-03-24 09:00:00   8047000.0   8412000.0   7892000.0   8367000.0   \n",
      "2020-03-25 09:00:00   8362000.0   8538000.0   8080000.0   8271000.0   \n",
      "2020-03-26 09:00:00   8276000.0   8344000.0   8091000.0   8272000.0   \n",
      "2020-03-27 09:00:00   8281000.0   8365000.0   7820000.0   7880000.0   \n",
      "2020-03-28 09:00:00   7883000.0   7885000.0   7403000.0   7656000.0   \n",
      "...                         ...         ...         ...         ...   \n",
      "2020-10-05 09:00:00  12446000.0  12545000.0  12385000.0  12536000.0   \n",
      "2020-10-06 09:00:00  12536000.0  12600000.0  12330000.0  12418000.0   \n",
      "2020-10-07 09:00:00  12408000.0  12435000.0  12337000.0  12423000.0   \n",
      "2020-10-08 09:00:00  12422000.0  12680000.0  12280000.0  12582000.0   \n",
      "2020-10-09 09:00:00  12582000.0  12750000.0  12503000.0  12638000.0   \n",
      "\n",
      "                           volume         value  \n",
      "2020-03-24 09:00:00  15158.039589  1.244216e+11  \n",
      "2020-03-25 09:00:00  12629.118008  1.043876e+11  \n",
      "2020-03-26 09:00:00   6160.813270  5.057246e+10  \n",
      "2020-03-27 09:00:00   6749.553055  5.514416e+10  \n",
      "2020-03-28 09:00:00   7702.102337  5.883592e+10  \n",
      "...                           ...           ...  \n",
      "2020-10-05 09:00:00   1578.027830  1.965762e+10  \n",
      "2020-10-06 09:00:00   1745.875329  2.175526e+10  \n",
      "2020-10-07 09:00:00   1357.358223  1.679513e+10  \n",
      "2020-10-08 09:00:00   2422.119262  3.014610e+10  \n",
      "2020-10-09 09:00:00   2245.607475  2.834224e+10  \n",
      "\n",
      "[200 rows x 6 columns]\n"
     ]
    }
   ],
   "source": [
    "print(pyupbit.get_ohlcv(\"KRW-BTC\", to=\"20201010\"))"
   ]
  },
  {
   "cell_type": "code",
   "execution_count": 80,
   "metadata": {},
   "outputs": [],
   "source": [
    "df = pyupbit.get_ohlcv(\"KRW-BTC\",count = 1500, period=1,interval=\"minute1\", to=\"20241204\")"
   ]
  },
  {
   "cell_type": "code",
   "execution_count": 81,
   "metadata": {},
   "outputs": [],
   "source": [
    "df_doge = pyupbit.get_ohlcv(\"KRW-DOGE\",count = 1500, period=1,interval=\"minute1\", to=\"20241204\")"
   ]
  },
  {
   "cell_type": "code",
   "execution_count": 42,
   "metadata": {},
   "outputs": [
    {
     "data": {
      "text/html": [
       "<div>\n",
       "<style scoped>\n",
       "    .dataframe tbody tr th:only-of-type {\n",
       "        vertical-align: middle;\n",
       "    }\n",
       "\n",
       "    .dataframe tbody tr th {\n",
       "        vertical-align: top;\n",
       "    }\n",
       "\n",
       "    .dataframe thead th {\n",
       "        text-align: right;\n",
       "    }\n",
       "</style>\n",
       "<table border=\"1\" class=\"dataframe\">\n",
       "  <thead>\n",
       "    <tr style=\"text-align: right;\">\n",
       "      <th></th>\n",
       "      <th>open</th>\n",
       "      <th>high</th>\n",
       "      <th>low</th>\n",
       "      <th>close</th>\n",
       "      <th>volume</th>\n",
       "      <th>value</th>\n",
       "    </tr>\n",
       "  </thead>\n",
       "  <tbody>\n",
       "    <tr>\n",
       "      <th>2024-12-04 08:55:00</th>\n",
       "      <td>133933000.0</td>\n",
       "      <td>133950000.0</td>\n",
       "      <td>133800000.0</td>\n",
       "      <td>133850000.0</td>\n",
       "      <td>8.597533</td>\n",
       "      <td>1.150999e+09</td>\n",
       "    </tr>\n",
       "    <tr>\n",
       "      <th>2024-12-04 08:56:00</th>\n",
       "      <td>133850000.0</td>\n",
       "      <td>133884000.0</td>\n",
       "      <td>133770000.0</td>\n",
       "      <td>133770000.0</td>\n",
       "      <td>6.875574</td>\n",
       "      <td>9.199737e+08</td>\n",
       "    </tr>\n",
       "    <tr>\n",
       "      <th>2024-12-04 08:57:00</th>\n",
       "      <td>133778000.0</td>\n",
       "      <td>133826000.0</td>\n",
       "      <td>133661000.0</td>\n",
       "      <td>133700000.0</td>\n",
       "      <td>10.664385</td>\n",
       "      <td>1.426110e+09</td>\n",
       "    </tr>\n",
       "    <tr>\n",
       "      <th>2024-12-04 08:58:00</th>\n",
       "      <td>133700000.0</td>\n",
       "      <td>133764000.0</td>\n",
       "      <td>133663000.0</td>\n",
       "      <td>133703000.0</td>\n",
       "      <td>5.224663</td>\n",
       "      <td>6.986560e+08</td>\n",
       "    </tr>\n",
       "    <tr>\n",
       "      <th>2024-12-04 08:59:00</th>\n",
       "      <td>133721000.0</td>\n",
       "      <td>133722000.0</td>\n",
       "      <td>133700000.0</td>\n",
       "      <td>133700000.0</td>\n",
       "      <td>6.741782</td>\n",
       "      <td>9.014628e+08</td>\n",
       "    </tr>\n",
       "  </tbody>\n",
       "</table>\n",
       "</div>"
      ],
      "text/plain": [
       "                            open         high          low        close  \\\n",
       "2024-12-04 08:55:00  133933000.0  133950000.0  133800000.0  133850000.0   \n",
       "2024-12-04 08:56:00  133850000.0  133884000.0  133770000.0  133770000.0   \n",
       "2024-12-04 08:57:00  133778000.0  133826000.0  133661000.0  133700000.0   \n",
       "2024-12-04 08:58:00  133700000.0  133764000.0  133663000.0  133703000.0   \n",
       "2024-12-04 08:59:00  133721000.0  133722000.0  133700000.0  133700000.0   \n",
       "\n",
       "                        volume         value  \n",
       "2024-12-04 08:55:00   8.597533  1.150999e+09  \n",
       "2024-12-04 08:56:00   6.875574  9.199737e+08  \n",
       "2024-12-04 08:57:00  10.664385  1.426110e+09  \n",
       "2024-12-04 08:58:00   5.224663  6.986560e+08  \n",
       "2024-12-04 08:59:00   6.741782  9.014628e+08  "
      ]
     },
     "execution_count": 42,
     "metadata": {},
     "output_type": "execute_result"
    }
   ],
   "source": [
    "df.tail()"
   ]
  },
  {
   "cell_type": "code",
   "execution_count": 48,
   "metadata": {},
   "outputs": [
    {
     "data": {
      "text/plain": [
       "DatetimeIndex(['2024-12-03 20:30:00', '2024-12-03 20:31:00',\n",
       "               '2024-12-03 20:32:00', '2024-12-03 20:33:00',\n",
       "               '2024-12-03 20:34:00', '2024-12-03 20:35:00',\n",
       "               '2024-12-03 20:36:00', '2024-12-03 20:37:00',\n",
       "               '2024-12-03 20:38:00', '2024-12-03 20:39:00',\n",
       "               ...\n",
       "               '2024-12-04 08:50:00', '2024-12-04 08:51:00',\n",
       "               '2024-12-04 08:52:00', '2024-12-04 08:53:00',\n",
       "               '2024-12-04 08:54:00', '2024-12-04 08:55:00',\n",
       "               '2024-12-04 08:56:00', '2024-12-04 08:57:00',\n",
       "               '2024-12-04 08:58:00', '2024-12-04 08:59:00'],\n",
       "              dtype='datetime64[ns]', length=750, freq=None)"
      ]
     },
     "execution_count": 48,
     "metadata": {},
     "output_type": "execute_result"
    }
   ],
   "source": [
    "df[750:].index"
   ]
  },
  {
   "cell_type": "code",
   "execution_count": 49,
   "metadata": {},
   "outputs": [],
   "source": [
    "df = df[750:]"
   ]
  },
  {
   "cell_type": "code",
   "execution_count": 50,
   "metadata": {},
   "outputs": [
    {
     "data": {
      "text/plain": [
       "750"
      ]
     },
     "execution_count": 50,
     "metadata": {},
     "output_type": "execute_result"
    }
   ],
   "source": [
    "len(df)"
   ]
  },
  {
   "cell_type": "code",
   "execution_count": null,
   "metadata": {},
   "outputs": [],
   "source": [
    "del df['value']"
   ]
  },
  {
   "cell_type": "code",
   "execution_count": 45,
   "metadata": {},
   "outputs": [],
   "source": [
    "# pip install matplotlib"
   ]
  },
  {
   "cell_type": "code",
   "execution_count": 59,
   "metadata": {},
   "outputs": [
    {
     "data": {
      "image/png": "[encoded data removed]",
      "text/plain": [
       "<Figure size 600x600 with 1 Axes>"
      ]
     },
     "metadata": {},
     "output_type": "display_data"
    }
   ],
   "source": [
    "import matplotlib.pyplot as plt\n",
    "\n",
    "plt.figure(figsize=(6,6))\n",
    "# plt.plot(df.index,df['open'],color = 'red')\n",
    "plt.plot(df[:].index,df['high'],color = 'blue')\n",
    "# plt.plot(df.index,df['low'],color = 'green')\n",
    "# plt.plot(df.index,df['close'],color ='yellow')\n",
    "# plt.plot(df.index,df['volume'],color = 'purple')\n",
    "plt.xlabel('time')\n",
    "plt.ylabel('High')\n",
    "plt.grid()\n",
    "plt.show()"
   ]
  },
  {
   "cell_type": "code",
   "execution_count": 60,
   "metadata": {},
   "outputs": [
    {
     "data": {
      "image/png": "[encoded data removed]",
      "text/plain": [
       "<Figure size 600x600 with 1 Axes>"
      ]
     },
     "metadata": {},
     "output_type": "display_data"
    }
   ],
   "source": [
    "import matplotlib.pyplot as plt\n",
    "\n",
    "plt.figure(figsize=(6,6))\n",
    "# plt.plot(df.index,df['open'],color = 'red')\n",
    "# plt.plot(df[:].index,df['high'],color = 'blue')\n",
    "# plt.plot(df.index,df['low'],color = 'green')\n",
    "# plt.plot(df.index,df['close'],color ='yellow')\n",
    "plt.plot(df.index,df['volume'],color = 'purple')\n",
    "plt.xlabel('time')\n",
    "plt.ylabel('High')\n",
    "plt.show()"
   ]
  },
  {
   "cell_type": "code",
   "execution_count": null,
   "metadata": {},
   "outputs": [
    {
     "name": "stdout",
     "output_type": "stream",
     "text": [
      "Collecting tensorflow\n",
      "  Downloading tensorflow-2.18.0-cp311-cp311-win_amd64.whl.metadata (3.3 kB)\n",
      "Collecting tensorflow-intel==2.18.0 (from tensorflow)\n",
      "  Downloading tensorflow_intel-2.18.0-cp311-cp311-win_amd64.whl.metadata (4.9 kB)\n",
      "Collecting absl-py>=1.0.0 (from tensorflow-intel==2.18.0->tensorflow)\n",
      "  Using cached absl_py-2.1.0-py3-none-any.whl.metadata (2.3 kB)\n",
      "Collecting astunparse>=1.6.0 (from tensorflow-intel==2.18.0->tensorflow)\n",
      "  Using cached astunparse-1.6.3-py2.py3-none-any.whl.metadata (4.4 kB)\n",
      "Collecting flatbuffers>=24.3.25 (from tensorflow-intel==2.18.0->tensorflow)\n",
      "  Using cached flatbuffers-24.3.25-py2.py3-none-any.whl.metadata (850 bytes)\n",
      "Collecting gast!=0.5.0,!=0.5.1,!=0.5.2,>=0.2.1 (from tensorflow-intel==2.18.0->tensorflow)\n",
      "  Using cached gast-0.6.0-py3-none-any.whl.metadata (1.3 kB)\n",
      "Collecting google-pasta>=0.1.1 (from tensorflow-intel==2.18.0->tensorflow)\n",
      "  Using cached google_pasta-0.2.0-py3-none-any.whl.metadata (814 bytes)\n",
      "Collecting libclang>=13.0.0 (from tensorflow-intel==2.18.0->tensorflow)\n",
      "  Using cached libclang-18.1.1-py2.py3-none-win_amd64.whl.metadata (5.3 kB)\n",
      "Collecting opt-einsum>=2.3.2 (from tensorflow-intel==2.18.0->tensorflow)\n",
      "  Using cached opt_einsum-3.4.0-py3-none-any.whl.metadata (6.3 kB)\n",
      "Requirement already satisfied: packaging in c:\\users\\rmarket\\anaconda3\\envs\\langchain\\lib\\site-packages (from tensorflow-intel==2.18.0->tensorflow) (24.2)\n",
      "Requirement already satisfied: protobuf!=4.21.0,!=4.21.1,!=4.21.2,!=4.21.3,!=4.21.4,!=4.21.5,<6.0.0dev,>=3.20.3 in c:\\users\\rmarket\\anaconda3\\envs\\langchain\\lib\\site-packages (from tensorflow-intel==2.18.0->tensorflow) (4.25.5)\n",
      "Requirement already satisfied: requests<3,>=2.21.0 in c:\\users\\rmarket\\anaconda3\\envs\\langchain\\lib\\site-packages (from tensorflow-intel==2.18.0->tensorflow) (2.32.3)\n",
      "Requirement already satisfied: setuptools in c:\\users\\rmarket\\anaconda3\\envs\\langchain\\lib\\site-packages (from tensorflow-intel==2.18.0->tensorflow) (75.1.0)\n",
      "Requirement already satisfied: six>=1.12.0 in c:\\users\\rmarket\\anaconda3\\envs\\langchain\\lib\\site-packages (from tensorflow-intel==2.18.0->tensorflow) (1.16.0)\n",
      "Collecting termcolor>=1.1.0 (from tensorflow-intel==2.18.0->tensorflow)\n",
      "  Using cached termcolor-2.5.0-py3-none-any.whl.metadata (6.1 kB)\n",
      "Requirement already satisfied: typing-extensions>=3.6.6 in c:\\users\\rmarket\\anaconda3\\envs\\langchain\\lib\\site-packages (from tensorflow-intel==2.18.0->tensorflow) (4.12.2)\n",
      "Requirement already satisfied: wrapt>=1.11.0 in c:\\users\\rmarket\\anaconda3\\envs\\langchain\\lib\\site-packages (from tensorflow-intel==2.18.0->tensorflow) (1.17.0)\n",
      "Requirement already satisfied: grpcio<2.0,>=1.24.3 in c:\\users\\rmarket\\anaconda3\\envs\\langchain\\lib\\site-packages (from tensorflow-intel==2.18.0->tensorflow) (1.68.0)\n",
      "Collecting tensorboard<2.19,>=2.18 (from tensorflow-intel==2.18.0->tensorflow)\n",
      "  Using cached tensorboard-2.18.0-py3-none-any.whl.metadata (1.6 kB)\n",
      "Collecting keras>=3.5.0 (from tensorflow-intel==2.18.0->tensorflow)\n",
      "  Downloading keras-3.7.0-py3-none-any.whl.metadata (5.8 kB)\n",
      "Requirement already satisfied: numpy<2.1.0,>=1.26.0 in c:\\users\\rmarket\\anaconda3\\envs\\langchain\\lib\\site-packages (from tensorflow-intel==2.18.0->tensorflow) (1.26.4)\n",
      "Collecting h5py>=3.11.0 (from tensorflow-intel==2.18.0->tensorflow)\n",
      "  Downloading h5py-3.12.1-cp311-cp311-win_amd64.whl.metadata (2.5 kB)\n",
      "Collecting ml-dtypes<0.5.0,>=0.4.0 (from tensorflow-intel==2.18.0->tensorflow)\n",
      "  Downloading ml_dtypes-0.4.1-cp311-cp311-win_amd64.whl.metadata (20 kB)\n",
      "Collecting tensorflow-io-gcs-filesystem>=0.23.1 (from tensorflow-intel==2.18.0->tensorflow)\n",
      "  Downloading tensorflow_io_gcs_filesystem-0.31.0-cp311-cp311-win_amd64.whl.metadata (14 kB)\n",
      "Requirement already satisfied: wheel<1.0,>=0.23.0 in c:\\users\\rmarket\\anaconda3\\envs\\langchain\\lib\\site-packages (from astunparse>=1.6.0->tensorflow-intel==2.18.0->tensorflow) (0.44.0)\n",
      "Requirement already satisfied: rich in c:\\users\\rmarket\\anaconda3\\envs\\langchain\\lib\\site-packages (from keras>=3.5.0->tensorflow-intel==2.18.0->tensorflow) (13.9.4)\n",
      "Collecting namex (from keras>=3.5.0->tensorflow-intel==2.18.0->tensorflow)\n",
      "  Using cached namex-0.0.8-py3-none-any.whl.metadata (246 bytes)\n",
      "Collecting optree (from keras>=3.5.0->tensorflow-intel==2.18.0->tensorflow)\n",
      "  Downloading optree-0.13.1-cp311-cp311-win_amd64.whl.metadata (48 kB)\n",
      "Requirement already satisfied: charset-normalizer<4,>=2 in c:\\users\\rmarket\\anaconda3\\envs\\langchain\\lib\\site-packages (from requests<3,>=2.21.0->tensorflow-intel==2.18.0->tensorflow) (3.4.0)\n",
      "Requirement already satisfied: idna<4,>=2.5 in c:\\users\\rmarket\\anaconda3\\envs\\langchain\\lib\\site-packages (from requests<3,>=2.21.0->tensorflow-intel==2.18.0->tensorflow) (3.10)\n",
      "Requirement already satisfied: urllib3<3,>=1.21.1 in c:\\users\\rmarket\\anaconda3\\envs\\langchain\\lib\\site-packages (from requests<3,>=2.21.0->tensorflow-intel==2.18.0->tensorflow) (2.2.3)\n",
      "Requirement already satisfied: certifi>=2017.4.17 in c:\\users\\rmarket\\anaconda3\\envs\\langchain\\lib\\site-packages (from requests<3,>=2.21.0->tensorflow-intel==2.18.0->tensorflow) (2024.8.30)\n",
      "Collecting markdown>=2.6.8 (from tensorboard<2.19,>=2.18->tensorflow-intel==2.18.0->tensorflow)\n",
      "  Using cached Markdown-3.7-py3-none-any.whl.metadata (7.0 kB)\n",
      "Collecting tensorboard-data-server<0.8.0,>=0.7.0 (from tensorboard<2.19,>=2.18->tensorflow-intel==2.18.0->tensorflow)\n",
      "  Using cached tensorboard_data_server-0.7.2-py3-none-any.whl.metadata (1.1 kB)\n",
      "Collecting werkzeug>=1.0.1 (from tensorboard<2.19,>=2.18->tensorflow-intel==2.18.0->tensorflow)\n",
      "  Using cached werkzeug-3.1.3-py3-none-any.whl.metadata (3.7 kB)\n",
      "Requirement already satisfied: MarkupSafe>=2.1.1 in c:\\users\\rmarket\\anaconda3\\envs\\langchain\\lib\\site-packages (from werkzeug>=1.0.1->tensorboard<2.19,>=2.18->tensorflow-intel==2.18.0->tensorflow) (3.0.2)\n",
      "Requirement already satisfied: markdown-it-py>=2.2.0 in c:\\users\\rmarket\\anaconda3\\envs\\langchain\\lib\\site-packages (from rich->keras>=3.5.0->tensorflow-intel==2.18.0->tensorflow) (3.0.0)\n",
      "Requirement already satisfied: pygments<3.0.0,>=2.13.0 in c:\\users\\rmarket\\anaconda3\\envs\\langchain\\lib\\site-packages (from rich->keras>=3.5.0->tensorflow-intel==2.18.0->tensorflow) (2.18.0)\n",
      "Requirement already satisfied: mdurl~=0.1 in c:\\users\\rmarket\\anaconda3\\envs\\langchain\\lib\\site-packages (from markdown-it-py>=2.2.0->rich->keras>=3.5.0->tensorflow-intel==2.18.0->tensorflow) (0.1.2)\n",
      "Downloading tensorflow-2.18.0-cp311-cp311-win_amd64.whl (7.5 kB)\n",
      "Downloading tensorflow_intel-2.18.0-cp311-cp311-win_amd64.whl (390.2 MB)\n",
      "   ---------------------------------------- 0.0/390.2 MB ? eta -:--:--\n",
      "   -- ------------------------------------ 23.3/390.2 MB 113.6 MB/s eta 0:00:04\n",
      "   --- ------------------------------------ 32.8/390.2 MB 77.0 MB/s eta 0:00:05\n",
      "   ---- ----------------------------------- 40.9/390.2 MB 65.0 MB/s eta 0:00:06\n",
      "   ---- ----------------------------------- 46.1/390.2 MB 55.4 MB/s eta 0:00:07\n",
      "   ------ --------------------------------- 58.7/390.2 MB 62.3 MB/s eta 0:00:06\n",
      "   ------ --------------------------------- 64.0/390.2 MB 52.3 MB/s eta 0:00:07\n",
      "   ------ --------------------------------- 67.1/390.2 MB 48.6 MB/s eta 0:00:07\n",
      "   ------ --------------------------------- 67.6/390.2 MB 41.5 MB/s eta 0:00:08\n",
      "   --------- ------------------------------ 88.3/390.2 MB 47.4 MB/s eta 0:00:07\n",
      "   --------- ------------------------------ 96.7/390.2 MB 46.8 MB/s eta 0:00:07\n",
      "   ----------- --------------------------- 113.5/390.2 MB 49.6 MB/s eta 0:00:06\n",
      "   ------------- ------------------------- 136.1/390.2 MB 54.3 MB/s eta 0:00:05\n",
      "   -------------- ------------------------ 147.8/390.2 MB 56.2 MB/s eta 0:00:05\n",
      "   --------------- ----------------------- 150.7/390.2 MB 51.8 MB/s eta 0:00:05\n",
      "   ----------------- --------------------- 174.6/390.2 MB 56.1 MB/s eta 0:00:04\n",
      "   ------------------- ------------------- 192.9/390.2 MB 58.4 MB/s eta 0:00:04\n",
      "   -------------------- ------------------ 201.9/390.2 MB 57.6 MB/s eta 0:00:04\n",
      "   ---------------------- ---------------- 226.0/390.2 MB 60.7 MB/s eta 0:00:03\n",
      "   ----------------------- --------------- 233.6/390.2 MB 59.5 MB/s eta 0:00:03\n",
      "   ------------------------- ------------- 251.9/390.2 MB 60.8 MB/s eta 0:00:03\n",
      "   -------------------------- ------------ 270.0/390.2 MB 61.2 MB/s eta 0:00:02\n",
      "   ---------------------------- ---------- 282.6/390.2 MB 59.4 MB/s eta 0:00:02\n",
      "   ------------------------------ -------- 305.4/390.2 MB 65.7 MB/s eta 0:00:02\n",
      "   ------------------------------- ------- 319.0/390.2 MB 64.5 MB/s eta 0:00:02\n",
      "   --------------------------------- ----- 334.8/390.2 MB 76.2 MB/s eta 0:00:01\n",
      "   ---------------------------------- ---- 341.0/390.2 MB 71.6 MB/s eta 0:00:01\n",
      "   ------------------------------------ -- 366.0/390.2 MB 74.5 MB/s eta 0:00:01\n",
      "   ------------------------------------- - 377.5/390.2 MB 75.8 MB/s eta 0:00:01\n",
      "   --------------------------------------  384.3/390.2 MB 70.7 MB/s eta 0:00:01\n",
      "   --------------------------------------  390.1/390.2 MB 70.4 MB/s eta 0:00:01\n",
      "   --------------------------------------  390.1/390.2 MB 70.4 MB/s eta 0:00:01\n",
      "   --------------------------------------  390.1/390.2 MB 70.4 MB/s eta 0:00:01\n",
      "   --------------------------------------- 390.2/390.2 MB 59.0 MB/s eta 0:00:00\n",
      "Using cached absl_py-2.1.0-py3-none-any.whl (133 kB)\n",
      "Using cached astunparse-1.6.3-py2.py3-none-any.whl (12 kB)\n",
      "Using cached flatbuffers-24.3.25-py2.py3-none-any.whl (26 kB)\n",
      "Using cached gast-0.6.0-py3-none-any.whl (21 kB)\n",
      "Using cached google_pasta-0.2.0-py3-none-any.whl (57 kB)\n",
      "Downloading h5py-3.12.1-cp311-cp311-win_amd64.whl (3.0 MB)\n",
      "   ---------------------------------------- 0.0/3.0 MB ? eta -:--:--\n",
      "   ---------------------------------------- 3.0/3.0 MB 88.5 MB/s eta 0:00:00\n",
      "Downloading keras-3.7.0-py3-none-any.whl (1.2 MB)\n",
      "   ---------------------------------------- 0.0/1.2 MB ? eta -:--:--\n",
      "   ---------------------------------------- 1.2/1.2 MB 60.4 MB/s eta 0:00:00\n",
      "Using cached libclang-18.1.1-py2.py3-none-win_amd64.whl (26.4 MB)\n",
      "Downloading ml_dtypes-0.4.1-cp311-cp311-win_amd64.whl (126 kB)\n",
      "Using cached opt_einsum-3.4.0-py3-none-any.whl (71 kB)\n",
      "Using cached tensorboard-2.18.0-py3-none-any.whl (5.5 MB)\n",
      "Downloading tensorflow_io_gcs_filesystem-0.31.0-cp311-cp311-win_amd64.whl (1.5 MB)\n",
      "   ---------------------------------------- 0.0/1.5 MB ? eta -:--:--\n",
      "   ---------------------------------------- 1.5/1.5 MB 39.5 MB/s eta 0:00:00\n",
      "Using cached termcolor-2.5.0-py3-none-any.whl (7.8 kB)\n",
      "Using cached Markdown-3.7-py3-none-any.whl (106 kB)\n",
      "Using cached tensorboard_data_server-0.7.2-py3-none-any.whl (2.4 kB)\n",
      "Using cached werkzeug-3.1.3-py3-none-any.whl (224 kB)\n",
      "Using cached namex-0.0.8-py3-none-any.whl (5.8 kB)\n",
      "Downloading optree-0.13.1-cp311-cp311-win_amd64.whl (292 kB)\n",
      "Installing collected packages: namex, libclang, flatbuffers, werkzeug, termcolor, tensorflow-io-gcs-filesystem, tensorboard-data-server, optree, opt-einsum, ml-dtypes, markdown, h5py, google-pasta, gast, astunparse, absl-py, tensorboard, keras, tensorflow-intel, tensorflow\n",
      "Successfully installed absl-py-2.1.0 astunparse-1.6.3 flatbuffers-24.3.25 gast-0.6.0 google-pasta-0.2.0 h5py-3.12.1 keras-3.7.0 libclang-18.1.1 markdown-3.7 ml-dtypes-0.4.1 namex-0.0.8 opt-einsum-3.4.0 optree-0.13.1 tensorboard-2.18.0 tensorboard-data-server-0.7.2 tensorflow-2.18.0 tensorflow-intel-2.18.0 tensorflow-io-gcs-filesystem-0.31.0 termcolor-2.5.0 werkzeug-3.1.3\n",
      "Note: you may need to restart the kernel to use updated packages.\n"
     ]
    }
   ],
   "source": [
    "# pip install tensorflow"
   ]
  },
  {
   "cell_type": "code",
   "execution_count": 61,
   "metadata": {},
   "outputs": [],
   "source": [
    "import numpy as np\n",
    "import pandas as pd\n",
    "import tensorflow as tf\n",
    "from tensorflow.keras import Sequential\n",
    "from tensorflow.keras.layers import LSTM, Dropout, Dense"
   ]
  },
  {
   "cell_type": "code",
   "execution_count": 62,
   "metadata": {},
   "outputs": [],
   "source": [
    "def MinMaxScaler(data):\n",
    "    k = data - np.min(data)\n",
    "    j = np.max(data,0) - np.mine(data,0)\n",
    "    return k / ( j + 1e-7)"
   ]
  },
  {
   "cell_type": "code",
   "execution_count": 63,
   "metadata": {},
   "outputs": [
    {
     "data": {
      "text/html": [
       "<div>\n",
       "<style scoped>\n",
       "    .dataframe tbody tr th:only-of-type {\n",
       "        vertical-align: middle;\n",
       "    }\n",
       "\n",
       "    .dataframe tbody tr th {\n",
       "        vertical-align: top;\n",
       "    }\n",
       "\n",
       "    .dataframe thead th {\n",
       "        text-align: right;\n",
       "    }\n",
       "</style>\n",
       "<table border=\"1\" class=\"dataframe\">\n",
       "  <thead>\n",
       "    <tr style=\"text-align: right;\">\n",
       "      <th></th>\n",
       "      <th>open</th>\n",
       "      <th>high</th>\n",
       "      <th>low</th>\n",
       "      <th>close</th>\n",
       "      <th>volume</th>\n",
       "      <th>value</th>\n",
       "    </tr>\n",
       "  </thead>\n",
       "  <tbody>\n",
       "    <tr>\n",
       "      <th>2024-12-03 08:00:00</th>\n",
       "      <td>133095000.0</td>\n",
       "      <td>133185000.0</td>\n",
       "      <td>133058000.0</td>\n",
       "      <td>133124000.0</td>\n",
       "      <td>3.742963</td>\n",
       "      <td>4.981927e+08</td>\n",
       "    </tr>\n",
       "    <tr>\n",
       "      <th>2024-12-03 08:01:00</th>\n",
       "      <td>133124000.0</td>\n",
       "      <td>133124000.0</td>\n",
       "      <td>133050000.0</td>\n",
       "      <td>133050000.0</td>\n",
       "      <td>1.535930</td>\n",
       "      <td>2.043716e+08</td>\n",
       "    </tr>\n",
       "    <tr>\n",
       "      <th>2024-12-03 08:02:00</th>\n",
       "      <td>133055000.0</td>\n",
       "      <td>133166000.0</td>\n",
       "      <td>133049000.0</td>\n",
       "      <td>133067000.0</td>\n",
       "      <td>1.465094</td>\n",
       "      <td>1.950331e+08</td>\n",
       "    </tr>\n",
       "    <tr>\n",
       "      <th>2024-12-03 08:03:00</th>\n",
       "      <td>133067000.0</td>\n",
       "      <td>133186000.0</td>\n",
       "      <td>133056000.0</td>\n",
       "      <td>133155000.0</td>\n",
       "      <td>1.545046</td>\n",
       "      <td>2.057155e+08</td>\n",
       "    </tr>\n",
       "    <tr>\n",
       "      <th>2024-12-03 08:04:00</th>\n",
       "      <td>133155000.0</td>\n",
       "      <td>133199000.0</td>\n",
       "      <td>133114000.0</td>\n",
       "      <td>133198000.0</td>\n",
       "      <td>2.116402</td>\n",
       "      <td>2.818256e+08</td>\n",
       "    </tr>\n",
       "  </tbody>\n",
       "</table>\n",
       "</div>"
      ],
      "text/plain": [
       "                            open         high          low        close  \\\n",
       "2024-12-03 08:00:00  133095000.0  133185000.0  133058000.0  133124000.0   \n",
       "2024-12-03 08:01:00  133124000.0  133124000.0  133050000.0  133050000.0   \n",
       "2024-12-03 08:02:00  133055000.0  133166000.0  133049000.0  133067000.0   \n",
       "2024-12-03 08:03:00  133067000.0  133186000.0  133056000.0  133155000.0   \n",
       "2024-12-03 08:04:00  133155000.0  133199000.0  133114000.0  133198000.0   \n",
       "\n",
       "                       volume         value  \n",
       "2024-12-03 08:00:00  3.742963  4.981927e+08  \n",
       "2024-12-03 08:01:00  1.535930  2.043716e+08  \n",
       "2024-12-03 08:02:00  1.465094  1.950331e+08  \n",
       "2024-12-03 08:03:00  1.545046  2.057155e+08  \n",
       "2024-12-03 08:04:00  2.116402  2.818256e+08  "
      ]
     },
     "execution_count": 63,
     "metadata": {},
     "output_type": "execute_result"
    }
   ],
   "source": [
    "df.head()"
   ]
  },
  {
   "cell_type": "code",
   "execution_count": 65,
   "metadata": {},
   "outputs": [
    {
     "data": {
      "text/html": [
       "<div>\n",
       "<style scoped>\n",
       "    .dataframe tbody tr th:only-of-type {\n",
       "        vertical-align: middle;\n",
       "    }\n",
       "\n",
       "    .dataframe tbody tr th {\n",
       "        vertical-align: top;\n",
       "    }\n",
       "\n",
       "    .dataframe thead th {\n",
       "        text-align: right;\n",
       "    }\n",
       "</style>\n",
       "<table border=\"1\" class=\"dataframe\">\n",
       "  <thead>\n",
       "    <tr style=\"text-align: right;\">\n",
       "      <th></th>\n",
       "      <th>open</th>\n",
       "      <th>high</th>\n",
       "      <th>low</th>\n",
       "      <th>close</th>\n",
       "      <th>volume</th>\n",
       "      <th>value</th>\n",
       "    </tr>\n",
       "  </thead>\n",
       "  <tbody>\n",
       "    <tr>\n",
       "      <th>2024-12-03 08:00:00</th>\n",
       "      <td>589.1</td>\n",
       "      <td>589.4</td>\n",
       "      <td>588.7</td>\n",
       "      <td>588.7</td>\n",
       "      <td>8.532063e+05</td>\n",
       "      <td>5.025885e+08</td>\n",
       "    </tr>\n",
       "    <tr>\n",
       "      <th>2024-12-03 08:01:00</th>\n",
       "      <td>589.0</td>\n",
       "      <td>589.1</td>\n",
       "      <td>588.6</td>\n",
       "      <td>589.0</td>\n",
       "      <td>4.421351e+05</td>\n",
       "      <td>2.603395e+08</td>\n",
       "    </tr>\n",
       "    <tr>\n",
       "      <th>2024-12-03 08:02:00</th>\n",
       "      <td>589.0</td>\n",
       "      <td>589.9</td>\n",
       "      <td>588.9</td>\n",
       "      <td>589.8</td>\n",
       "      <td>5.341500e+05</td>\n",
       "      <td>3.148723e+08</td>\n",
       "    </tr>\n",
       "    <tr>\n",
       "      <th>2024-12-03 08:03:00</th>\n",
       "      <td>589.8</td>\n",
       "      <td>591.6</td>\n",
       "      <td>589.7</td>\n",
       "      <td>591.4</td>\n",
       "      <td>1.347336e+06</td>\n",
       "      <td>7.959611e+08</td>\n",
       "    </tr>\n",
       "    <tr>\n",
       "      <th>2024-12-03 08:04:00</th>\n",
       "      <td>591.4</td>\n",
       "      <td>592.8</td>\n",
       "      <td>591.3</td>\n",
       "      <td>591.7</td>\n",
       "      <td>1.878868e+06</td>\n",
       "      <td>1.112347e+09</td>\n",
       "    </tr>\n",
       "  </tbody>\n",
       "</table>\n",
       "</div>"
      ],
      "text/plain": [
       "                      open   high    low  close        volume         value\n",
       "2024-12-03 08:00:00  589.1  589.4  588.7  588.7  8.532063e+05  5.025885e+08\n",
       "2024-12-03 08:01:00  589.0  589.1  588.6  589.0  4.421351e+05  2.603395e+08\n",
       "2024-12-03 08:02:00  589.0  589.9  588.9  589.8  5.341500e+05  3.148723e+08\n",
       "2024-12-03 08:03:00  589.8  591.6  589.7  591.4  1.347336e+06  7.959611e+08\n",
       "2024-12-03 08:04:00  591.4  592.8  591.3  591.7  1.878868e+06  1.112347e+09"
      ]
     },
     "execution_count": 65,
     "metadata": {},
     "output_type": "execute_result"
    }
   ],
   "source": [
    "df_doge.head()\n"
   ]
  },
  {
   "cell_type": "code",
   "execution_count": 73,
   "metadata": {},
   "outputs": [],
   "source": [
    "bit_normal_df = ((df['high']-df['high'].min())/(df['high'].max() - df['high'].min()))"
   ]
  },
  {
   "cell_type": "code",
   "execution_count": 82,
   "metadata": {},
   "outputs": [
    {
     "data": {
      "text/plain": [
       "2024-12-03 08:00:00    0.962465\n",
       "2024-12-03 08:01:00    0.960934\n",
       "2024-12-03 08:02:00    0.961988\n",
       "2024-12-03 08:03:00    0.962491\n",
       "2024-12-03 08:04:00    0.962817\n",
       "Name: high, dtype: float64"
      ]
     },
     "execution_count": 82,
     "metadata": {},
     "output_type": "execute_result"
    }
   ],
   "source": [
    "bit_normal_df.head()"
   ]
  },
  {
   "cell_type": "code",
   "execution_count": 87,
   "metadata": {},
   "outputs": [],
   "source": [
    "doge_normal_df = ((df_doge['high']-df_doge['high'].min())/(df_doge['high'].max() - df_doge['high'].min()))"
   ]
  },
  {
   "cell_type": "code",
   "execution_count": 88,
   "metadata": {},
   "outputs": [
    {
     "data": {
      "text/plain": [
       "2024-12-03 08:00:00    0.931004\n",
       "2024-12-03 08:01:00    0.929659\n",
       "2024-12-03 08:02:00    0.933244\n",
       "2024-12-03 08:03:00    0.940860\n",
       "2024-12-03 08:04:00    0.946237\n",
       "Name: high, dtype: float64"
      ]
     },
     "execution_count": 88,
     "metadata": {},
     "output_type": "execute_result"
    }
   ],
   "source": [
    "doge_normal_df.head()"
   ]
  },
  {
   "cell_type": "code",
   "execution_count": 92,
   "metadata": {},
   "outputs": [],
   "source": [
    "bit_volume_normal_df = ((df['volume']-df['volume'].min())/(df['volume'].max() - df['volume'].min()))"
   ]
  },
  {
   "cell_type": "code",
   "execution_count": 93,
   "metadata": {},
   "outputs": [],
   "source": [
    "Doge_volume_normal_df = ((df_doge['volume']-df_doge['volume'].min())/(df_doge['volume'].max() - df_doge['volume'].min()))"
   ]
  },
  {
   "cell_type": "code",
   "execution_count": 95,
   "metadata": {},
   "outputs": [
    {
     "data": {
      "image/png": "[encoded data removed]",
      "text/plain": [
       "<Figure size 1200x600 with 1 Axes>"
      ]
     },
     "metadata": {},
     "output_type": "display_data"
    }
   ],
   "source": [
    "plt.figure(figsize=(12,6))\n",
    "plt.plot(df.index,bit_normal_df,color = 'red',label = 'Bit coin high')\n",
    "plt.plot(df.index,doge_normal_df, color = 'blue', label = 'Doge coin high')\n",
    "\n",
    "plt.legend()\n",
    "plt.show()"
   ]
  },
  {
   "cell_type": "code",
   "execution_count": 96,
   "metadata": {},
   "outputs": [
    {
     "data": {
      "image/png": "[encoded data removed]",
      "text/plain": [
       "<Figure size 1200x600 with 1 Axes>"
      ]
     },
     "metadata": {},
     "output_type": "display_data"
    }
   ],
   "source": [
    "plt.figure(figsize=(12,6))\n",
    "plt.plot(df.index,bit_volume_normal_df,color = 'green',label = 'Bit coin volume')\n",
    "plt.plot(df.index,Doge_volume_normal_df,color = 'purple',label = 'Doge coin volume')\n",
    "plt.legend()\n",
    "plt.show()"
   ]
  },
  {
   "cell_type": "code",
   "execution_count": null,
   "metadata": {},
   "outputs": [],
   "source": []
  }
 ],
 "metadata": {
  "kernelspec": {
   "display_name": "Langchain",
   "language": "python",
   "name": "python3"
  },
  "language_info": {
   "codemirror_mode": {
    "name": "ipython",
    "version": 3
   },
   "file_extension": ".py",
   "mimetype": "text/x-python",
   "name": "python",
   "nbconvert_exporter": "python",
   "pygments_lexer": "ipython3",
   "version": "3.11.10"
  }
 },
 "nbformat": 4,
 "nbformat_minor": 2
}
