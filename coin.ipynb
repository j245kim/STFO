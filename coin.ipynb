{
 "cells": [
  {
   "cell_type": "code",
   "execution_count": 2,
   "metadata": {},
   "outputs": [],
   "source": [
    "# pip install pyupbit"
   ]
  },
  {
   "cell_type": "code",
   "execution_count": 3,
   "metadata": {},
   "outputs": [],
   "source": [
    "# pip install pyjwt"
   ]
  },
  {
   "cell_type": "code",
   "execution_count": 4,
   "metadata": {},
   "outputs": [],
   "source": [
    "import pyupbit\n"
   ]
  },
  {
   "cell_type": "code",
   "execution_count": 5,
   "metadata": {},
   "outputs": [
    {
     "name": "stdout",
     "output_type": "stream",
     "text": [
      "['KRW-BTC', 'KRW-ETH', 'BTC-ETH', 'BTC-XRP', 'BTC-ETC', 'BTC-CVC', 'BTC-DGB', 'BTC-SC', 'BTC-SNT', 'BTC-WAVES', 'BTC-NMR', 'BTC-XEM', 'BTC-QTUM', 'BTC-BAT', 'BTC-LSK', 'BTC-STEEM', 'BTC-DOGE', 'BTC-BNT', 'BTC-XLM', 'BTC-ARDR', 'BTC-ARK', 'BTC-STORJ', 'BTC-GRS', 'BTC-RLC', 'USDT-BTC', 'USDT-ETH', 'USDT-XRP', 'USDT-ETC', 'KRW-NEO', 'KRW-MTL', 'KRW-XRP', 'KRW-ETC', 'KRW-SNT', 'KRW-WAVES', 'KRW-XEM', 'KRW-QTUM', 'KRW-LSK', 'KRW-STEEM', 'KRW-XLM', 'KRW-ARDR', 'KRW-ARK', 'KRW-STORJ', 'KRW-GRS', 'KRW-ADA', 'BTC-ADA', 'BTC-MANA', 'KRW-SBD', 'BTC-SBD', 'KRW-POWR', 'BTC-POWR', 'KRW-BTG', 'USDT-ADA', 'BTC-DNT', 'BTC-ZRX', 'BTC-TRX', 'BTC-TUSD', 'BTC-LRC', 'KRW-ICX', 'KRW-EOS', 'USDT-TUSD', 'KRW-TRX', 'BTC-POLYX', 'USDT-SC', 'USDT-TRX', 'KRW-SC', 'KRW-ONT', 'KRW-ZIL', 'KRW-POLYX', 'KRW-ZRX', 'KRW-LOOM', 'BTC-BCH', 'USDT-BCH', 'KRW-BCH', 'BTC-HIFI', 'BTC-LOOM', 'KRW-BAT', 'KRW-IOST', 'USDT-DGB', 'KRW-CVC', 'KRW-IQ', 'KRW-IOTA', 'BTC-RVN', 'BTC-GO', 'BTC-BOUNTY', 'BTC-ENJ', 'KRW-HIFI', 'KRW-ONG', 'KRW-GAS', 'BTC-MTL', 'KRW-BOUNTY', 'KRW-ELF', 'USDT-DOGE', 'USDT-ZRX', 'USDT-RVN', 'USDT-BAT', 'KRW-KNC', 'BTC-MOC', 'BTC-ZIL', 'KRW-BSV', 'BTC-BSV', 'BTC-IOST', 'KRW-THETA', 'BTC-DENT', 'KRW-QKC', 'BTC-ELF', 'KRW-BTT', 'BTC-IOTX', 'BTC-SOLVE', 'BTC-NKN', 'BTC-META', 'KRW-MOC', 'BTC-ANKR', 'BTC-CRO', 'KRW-TFUEL', 'KRW-MANA', 'KRW-ANKR', 'BTC-ORBS', 'BTC-AERGO', 'KRW-AERGO', 'KRW-ATOM', 'KRW-TT', 'KRW-GAME2', 'BTC-ATOM', 'BTC-STPT', 'KRW-MBL', 'BTC-EOS', 'BTC-USDS', 'BTC-SKY', 'BTC-BORA', 'KRW-WAXP', 'BTC-WAXP', 'KRW-HBAR', 'KRW-MED', 'BTC-MED', 'BTC-MLK', 'KRW-MLK', 'KRW-STPT', 'BTC-VET', 'KRW-ORBS', 'BTC-CHZ', 'KRW-VET', 'BTC-FX', 'BTC-OGN', 'KRW-CHZ', 'BTC-XTZ', 'BTC-HIVE', 'BTC-HBD', 'BTC-OBSR', 'BTC-DKA', 'KRW-STMX', 'BTC-STMX', 'BTC-AHT', 'KRW-DKA', 'BTC-LINK', 'KRW-HIVE', 'KRW-KAVA', 'BTC-KAVA', 'KRW-AHT', 'KRW-LINK', 'KRW-XTZ', 'KRW-BORA', 'BTC-JST', 'BTC-CHR', 'BTC-DAD', 'BTC-TON', 'KRW-JST', 'BTC-CTSI', 'BTC-DOT', 'KRW-CRO', 'BTC-COMP', 'BTC-SXP', 'BTC-HUNT', 'KRW-TON', 'BTC-LWA', 'BTC-CRV', 'BTC-ALGO', 'BTC-RSR', 'KRW-SXP', 'BTC-OXT', 'KRW-HUNT', 'BTC-SAND', 'BTC-SUN', 'KRW-DOT', 'BTC-QTCON', 'BTC-MVL', 'KRW-MVL', 'BTC-REI', 'BTC-AQT', 'BTC-AXS', 'BTC-STRAX', 'KRW-STRAX', 'KRW-AQT', 'BTC-GLM', 'KRW-GLM', 'BTC-FCT2', 'KRW-META', 'KRW-FCT2', 'BTC-FIL', 'BTC-UNI', 'BTC-INJ', 'BTC-PROM', 'BTC-VAL', 'BTC-PSG', 'BTC-JUV', 'BTC-CBK', 'BTC-FOR', 'KRW-CBK', 'BTC-BFC', 'BTC-HPO', 'BTC-CELO', 'KRW-SAND', 'KRW-HPO', 'BTC-IQ', 'BTC-STX', 'KRW-DOGE', 'BTC-NEAR', 'BTC-AUCTION', 'BTC-FLOW', 'BTC-STRIKE', 'KRW-STRIKE', 'BTC-PUNDIX', 'KRW-PUNDIX', 'KRW-FLOW', 'KRW-AXS', 'KRW-STX', 'BTC-GRT', 'BTC-SNX', 'BTC-USDP', 'KRW-XEC', 'KRW-SOL', 'BTC-SOL', 'KRW-POL', 'BTC-POL', 'KRW-AAVE', 'KRW-1INCH', 'BTC-AAVE', 'BTC-1INCH', 'BTC-MASK', 'KRW-ALGO', 'BTC-AUDIO', 'KRW-NEAR', 'BTC-YGG', 'BTC-GTC', 'BTC-OCEAN', 'BTC-CTC', 'BTC-LPT', 'KRW-AVAX', 'BTC-AVAX', 'BTC-IMX', 'BTC-RENDER', 'BTC-RLY', 'KRW-T', 'BTC-T', 'KRW-CELO', 'BTC-RAD', 'BTC-AGLD', 'BTC-API3', 'BTC-ARPA', 'BTC-ENS', 'KRW-GMT', 'BTC-GMT', 'BTC-APE', 'BTC-RAY', 'KRW-APT', 'BTC-APT', 'BTC-ACM', 'BTC-AFC', 'BTC-ATM', 'BTC-BAR', 'BTC-CITY', 'BTC-INTER', 'BTC-NAP', 'KRW-SHIB', 'BTC-G', 'BTC-ASTR', 'BTC-BLUR', 'KRW-MASK', 'BTC-ACS', 'BTC-MAGIC', 'KRW-ARB', 'BTC-ARB', 'KRW-EGLD', 'BTC-EGLD', 'KRW-SUI', 'BTC-SUI', 'KRW-GRT', 'KRW-BLUR', 'BTC-MINA', 'KRW-IMX', 'BTC-STG', 'BTC-SEI', 'KRW-SEI', 'BTC-CYBER', 'BTC-GLMR', 'KRW-MINA', 'BTC-ID', 'BTC-AXL', 'KRW-CTC', 'KRW-ASTR', 'BTC-SPURS', 'KRW-ID', 'KRW-PYTH', 'BTC-PYTH', 'BTC-ALT', 'BTC-POKT', 'USDT-POKT', 'KRW-MNT', 'BTC-MNT', 'USDT-MNT', 'BTC-BIGTIME', 'USDT-BIGTIME', 'KRW-AKT', 'BTC-AKT', 'USDT-AKT', 'KRW-ZETA', 'BTC-ZETA', 'USDT-ZETA', 'BTC-OMNI', 'USDT-OMNI', 'BTC-OAS', 'USDT-OAS', 'KRW-AUCTION', 'KRW-STG', 'KRW-BEAM', 'BTC-BEAM', 'USDT-BEAM', 'KRW-TAIKO', 'BTC-TAIKO', 'USDT-TAIKO', 'KRW-USDT', 'BTC-USDT', 'KRW-ONDO', 'BTC-ONDO', 'USDT-ONDO', 'BTC-NEO', 'USDT-NEO', 'BTC-GAS', 'USDT-GAS', 'BTC-TT', 'BTC-GAME2', 'USDT-SOL', 'KRW-ZRO', 'BTC-ZRO', 'USDT-ZRO', 'KRW-BLAST', 'BTC-BLAST', 'USDT-BLAST', 'KRW-JUP', 'BTC-JUP', 'USDT-JUP', 'KRW-ENS', 'KRW-G', 'KRW-PENDLE', 'BTC-PENDLE', 'KRW-ATH', 'BTC-ATH', 'USDT-BRETT', 'USDT-PEPE', 'KRW-USDC', 'BTC-USDC', 'USDT-USDC', 'KRW-UXLINK', 'BTC-UXLINK', 'USDT-UXLINK', 'KRW-BIGTIME', 'KRW-CKB', 'BTC-CKB', 'USDT-CKB', 'BTC-MEW', 'USDT-MEW', 'KRW-W', 'BTC-W', 'USDT-W', 'KRW-CARV', 'BTC-CARV', 'USDT-CARV', 'KRW-INJ', 'USDT-INJ', 'KRW-MEW', 'USDT-BONK', 'KRW-UNI', 'USDT-UNI', 'KRW-SAFE', 'BTC-SAFE', 'USDT-SAFE', 'KRW-DRIFT', 'BTC-DRIFT', 'USDT-DRIFT', 'KRW-AGLD', 'USDT-AGLD', 'USDT-AHT', 'USDT-ARPA', 'USDT-ASTR', 'USDT-BNT', 'USDT-EGLD', 'USDT-FIL', 'USDT-LWA', 'USDT-NEAR', 'USDT-OXT', 'USDT-RAD', 'USDT-XLM', 'KRW-PEPE', 'KRW-BONK', 'BTC-JASMY', 'USDT-JASMY', 'BTC-NCT', 'USDT-NCT']\n"
     ]
    }
   ],
   "source": [
    "print(pyupbit.get_tickers())"
   ]
  },
  {
   "cell_type": "code",
   "execution_count": 6,
   "metadata": {},
   "outputs": [
    {
     "name": "stdout",
     "output_type": "stream",
     "text": [
      "['KRW-BTC', 'KRW-ETH', 'KRW-NEO', 'KRW-MTL', 'KRW-XRP', 'KRW-ETC', 'KRW-SNT', 'KRW-WAVES', 'KRW-XEM', 'KRW-QTUM', 'KRW-LSK', 'KRW-STEEM', 'KRW-XLM', 'KRW-ARDR', 'KRW-ARK', 'KRW-STORJ', 'KRW-GRS', 'KRW-ADA', 'KRW-SBD', 'KRW-POWR', 'KRW-BTG', 'KRW-ICX', 'KRW-EOS', 'KRW-TRX', 'KRW-SC', 'KRW-ONT', 'KRW-ZIL', 'KRW-POLYX', 'KRW-ZRX', 'KRW-LOOM', 'KRW-BCH', 'KRW-BAT', 'KRW-IOST', 'KRW-CVC', 'KRW-IQ', 'KRW-IOTA', 'KRW-HIFI', 'KRW-ONG', 'KRW-GAS', 'KRW-BOUNTY', 'KRW-ELF', 'KRW-KNC', 'KRW-BSV', 'KRW-THETA', 'KRW-QKC', 'KRW-BTT', 'KRW-MOC', 'KRW-TFUEL', 'KRW-MANA', 'KRW-ANKR', 'KRW-AERGO', 'KRW-ATOM', 'KRW-TT', 'KRW-GAME2', 'KRW-MBL', 'KRW-WAXP', 'KRW-HBAR', 'KRW-MED', 'KRW-MLK', 'KRW-STPT', 'KRW-ORBS', 'KRW-VET', 'KRW-CHZ', 'KRW-STMX', 'KRW-DKA', 'KRW-HIVE', 'KRW-KAVA', 'KRW-AHT', 'KRW-LINK', 'KRW-XTZ', 'KRW-BORA', 'KRW-JST', 'KRW-CRO', 'KRW-TON', 'KRW-SXP', 'KRW-HUNT', 'KRW-DOT', 'KRW-MVL', 'KRW-STRAX', 'KRW-AQT', 'KRW-GLM', 'KRW-META', 'KRW-FCT2', 'KRW-CBK', 'KRW-SAND', 'KRW-HPO', 'KRW-DOGE', 'KRW-STRIKE', 'KRW-PUNDIX', 'KRW-FLOW', 'KRW-AXS', 'KRW-STX', 'KRW-XEC', 'KRW-SOL', 'KRW-POL', 'KRW-AAVE', 'KRW-1INCH', 'KRW-ALGO', 'KRW-NEAR', 'KRW-AVAX', 'KRW-T', 'KRW-CELO', 'KRW-GMT', 'KRW-APT', 'KRW-SHIB', 'KRW-MASK', 'KRW-ARB', 'KRW-EGLD', 'KRW-SUI', 'KRW-GRT', 'KRW-BLUR', 'KRW-IMX', 'KRW-SEI', 'KRW-MINA', 'KRW-CTC', 'KRW-ASTR', 'KRW-ID', 'KRW-PYTH', 'KRW-MNT', 'KRW-AKT', 'KRW-ZETA', 'KRW-AUCTION', 'KRW-STG', 'KRW-BEAM', 'KRW-TAIKO', 'KRW-USDT', 'KRW-ONDO', 'KRW-ZRO', 'KRW-BLAST', 'KRW-JUP', 'KRW-ENS', 'KRW-G', 'KRW-PENDLE', 'KRW-ATH', 'KRW-USDC', 'KRW-UXLINK', 'KRW-BIGTIME', 'KRW-CKB', 'KRW-W', 'KRW-CARV', 'KRW-INJ', 'KRW-MEW', 'KRW-UNI', 'KRW-SAFE', 'KRW-DRIFT', 'KRW-AGLD', 'KRW-PEPE', 'KRW-BONK']\n"
     ]
    }
   ],
   "source": [
    "print(pyupbit.get_tickers(fiat=\"KRW\"))"
   ]
  },
  {
   "cell_type": "code",
   "execution_count": 7,
   "metadata": {},
   "outputs": [
    {
     "name": "stdout",
     "output_type": "stream",
     "text": [
      "135499000.0\n"
     ]
    }
   ],
   "source": [
    "print(pyupbit.get_current_price(\"KRW-BTC\"))"
   ]
  },
  {
   "cell_type": "code",
   "execution_count": 11,
   "metadata": {},
   "outputs": [
    {
     "name": "stdout",
     "output_type": "stream",
     "text": [
      "{'KRW-BTC': 135543000.0, 'KRW-XRP': 3740.0}\n"
     ]
    }
   ],
   "source": [
    "print(pyupbit.get_current_price([\"KRW-BTC\", \"KRW-XRP\"]))"
   ]
  },
  {
   "cell_type": "code",
   "execution_count": 9,
   "metadata": {},
   "outputs": [
    {
     "name": "stdout",
     "output_type": "stream",
     "text": [
      "                            open         high          low        close  \\\n",
      "2024-11-30 09:00:00  134542000.0  134809000.0  133600000.0  133701000.0   \n",
      "2024-12-01 09:00:00  133722000.0  135199000.0  133297000.0  133802000.0   \n",
      "2024-12-02 09:00:00  133802000.0  135800000.0  132260000.0  133535000.0   \n",
      "2024-12-03 09:00:00  133523000.0  134680000.0   88266000.0  133700000.0   \n",
      "2024-12-04 09:00:00  133720000.0  135601000.0  133600000.0  135534000.0   \n",
      "\n",
      "                           volume         value  \n",
      "2024-11-30 09:00:00   2374.866974  3.183615e+11  \n",
      "2024-12-01 09:00:00   2835.146498  3.809287e+11  \n",
      "2024-12-02 09:00:00   5356.774825  7.180606e+11  \n",
      "2024-12-03 09:00:00  18097.084256  2.304644e+12  \n",
      "2024-12-04 09:00:00   2217.436923  2.989295e+11  \n"
     ]
    }
   ],
   "source": [
    "df = pyupbit.get_ohlcv(\"KRW-BTC\")\n",
    "print(df.tail())"
   ]
  },
  {
   "cell_type": "code",
   "execution_count": 12,
   "metadata": {},
   "outputs": [],
   "source": [
    "df = pyupbit.get_ohlcv(\"KRW-BTC\", count=5)"
   ]
  },
  {
   "cell_type": "code",
   "execution_count": 13,
   "metadata": {},
   "outputs": [
    {
     "data": {
      "text/html": [
       "<div>\n",
       "<style scoped>\n",
       "    .dataframe tbody tr th:only-of-type {\n",
       "        vertical-align: middle;\n",
       "    }\n",
       "\n",
       "    .dataframe tbody tr th {\n",
       "        vertical-align: top;\n",
       "    }\n",
       "\n",
       "    .dataframe thead th {\n",
       "        text-align: right;\n",
       "    }\n",
       "</style>\n",
       "<table border=\"1\" class=\"dataframe\">\n",
       "  <thead>\n",
       "    <tr style=\"text-align: right;\">\n",
       "      <th></th>\n",
       "      <th>open</th>\n",
       "      <th>high</th>\n",
       "      <th>low</th>\n",
       "      <th>close</th>\n",
       "      <th>volume</th>\n",
       "      <th>value</th>\n",
       "    </tr>\n",
       "  </thead>\n",
       "  <tbody>\n",
       "    <tr>\n",
       "      <th>2024-11-30 09:00:00</th>\n",
       "      <td>134542000.0</td>\n",
       "      <td>134809000.0</td>\n",
       "      <td>133600000.0</td>\n",
       "      <td>133701000.0</td>\n",
       "      <td>2374.866974</td>\n",
       "      <td>3.183615e+11</td>\n",
       "    </tr>\n",
       "    <tr>\n",
       "      <th>2024-12-01 09:00:00</th>\n",
       "      <td>133722000.0</td>\n",
       "      <td>135199000.0</td>\n",
       "      <td>133297000.0</td>\n",
       "      <td>133802000.0</td>\n",
       "      <td>2835.146498</td>\n",
       "      <td>3.809287e+11</td>\n",
       "    </tr>\n",
       "    <tr>\n",
       "      <th>2024-12-02 09:00:00</th>\n",
       "      <td>133802000.0</td>\n",
       "      <td>135800000.0</td>\n",
       "      <td>132260000.0</td>\n",
       "      <td>133535000.0</td>\n",
       "      <td>5356.774825</td>\n",
       "      <td>7.180606e+11</td>\n",
       "    </tr>\n",
       "    <tr>\n",
       "      <th>2024-12-03 09:00:00</th>\n",
       "      <td>133523000.0</td>\n",
       "      <td>134680000.0</td>\n",
       "      <td>88266000.0</td>\n",
       "      <td>133700000.0</td>\n",
       "      <td>18097.084256</td>\n",
       "      <td>2.304644e+12</td>\n",
       "    </tr>\n",
       "    <tr>\n",
       "      <th>2024-12-04 09:00:00</th>\n",
       "      <td>133720000.0</td>\n",
       "      <td>135601000.0</td>\n",
       "      <td>133600000.0</td>\n",
       "      <td>135544000.0</td>\n",
       "      <td>2218.823565</td>\n",
       "      <td>2.991175e+11</td>\n",
       "    </tr>\n",
       "  </tbody>\n",
       "</table>\n",
       "</div>"
      ],
      "text/plain": [
       "                            open         high          low        close  \\\n",
       "2024-11-30 09:00:00  134542000.0  134809000.0  133600000.0  133701000.0   \n",
       "2024-12-01 09:00:00  133722000.0  135199000.0  133297000.0  133802000.0   \n",
       "2024-12-02 09:00:00  133802000.0  135800000.0  132260000.0  133535000.0   \n",
       "2024-12-03 09:00:00  133523000.0  134680000.0   88266000.0  133700000.0   \n",
       "2024-12-04 09:00:00  133720000.0  135601000.0  133600000.0  135544000.0   \n",
       "\n",
       "                           volume         value  \n",
       "2024-11-30 09:00:00   2374.866974  3.183615e+11  \n",
       "2024-12-01 09:00:00   2835.146498  3.809287e+11  \n",
       "2024-12-02 09:00:00   5356.774825  7.180606e+11  \n",
       "2024-12-03 09:00:00  18097.084256  2.304644e+12  \n",
       "2024-12-04 09:00:00   2218.823565  2.991175e+11  "
      ]
     },
     "execution_count": 13,
     "metadata": {},
     "output_type": "execute_result"
    }
   ],
   "source": [
    "df"
   ]
  },
  {
   "cell_type": "code",
   "execution_count": 14,
   "metadata": {},
   "outputs": [],
   "source": [
    "df = pyupbit.get_ohlcv(\"KRW-BTC\", count=600, period=1)"
   ]
  },
  {
   "cell_type": "code",
   "execution_count": 15,
   "metadata": {},
   "outputs": [
    {
     "data": {
      "text/html": [
       "<div>\n",
       "<style scoped>\n",
       "    .dataframe tbody tr th:only-of-type {\n",
       "        vertical-align: middle;\n",
       "    }\n",
       "\n",
       "    .dataframe tbody tr th {\n",
       "        vertical-align: top;\n",
       "    }\n",
       "\n",
       "    .dataframe thead th {\n",
       "        text-align: right;\n",
       "    }\n",
       "</style>\n",
       "<table border=\"1\" class=\"dataframe\">\n",
       "  <thead>\n",
       "    <tr style=\"text-align: right;\">\n",
       "      <th></th>\n",
       "      <th>open</th>\n",
       "      <th>high</th>\n",
       "      <th>low</th>\n",
       "      <th>close</th>\n",
       "      <th>volume</th>\n",
       "      <th>value</th>\n",
       "    </tr>\n",
       "  </thead>\n",
       "  <tbody>\n",
       "    <tr>\n",
       "      <th>2023-04-15 09:00:00</th>\n",
       "      <td>39804000.0</td>\n",
       "      <td>39999000.0</td>\n",
       "      <td>39752000.0</td>\n",
       "      <td>39800000.0</td>\n",
       "      <td>1938.560581</td>\n",
       "      <td>7.729005e+10</td>\n",
       "    </tr>\n",
       "    <tr>\n",
       "      <th>2023-04-16 09:00:00</th>\n",
       "      <td>39800000.0</td>\n",
       "      <td>39981000.0</td>\n",
       "      <td>39600000.0</td>\n",
       "      <td>39607000.0</td>\n",
       "      <td>2393.495282</td>\n",
       "      <td>9.512904e+10</td>\n",
       "    </tr>\n",
       "    <tr>\n",
       "      <th>2023-04-17 09:00:00</th>\n",
       "      <td>39612000.0</td>\n",
       "      <td>39673000.0</td>\n",
       "      <td>38506000.0</td>\n",
       "      <td>38700000.0</td>\n",
       "      <td>5420.857259</td>\n",
       "      <td>2.113226e+11</td>\n",
       "    </tr>\n",
       "    <tr>\n",
       "      <th>2023-04-18 09:00:00</th>\n",
       "      <td>38700000.0</td>\n",
       "      <td>39847000.0</td>\n",
       "      <td>38251000.0</td>\n",
       "      <td>39630000.0</td>\n",
       "      <td>4976.831513</td>\n",
       "      <td>1.951605e+11</td>\n",
       "    </tr>\n",
       "    <tr>\n",
       "      <th>2023-04-19 09:00:00</th>\n",
       "      <td>39637000.0</td>\n",
       "      <td>39719000.0</td>\n",
       "      <td>38181000.0</td>\n",
       "      <td>38300000.0</td>\n",
       "      <td>6118.482472</td>\n",
       "      <td>2.382898e+11</td>\n",
       "    </tr>\n",
       "    <tr>\n",
       "      <th>...</th>\n",
       "      <td>...</td>\n",
       "      <td>...</td>\n",
       "      <td>...</td>\n",
       "      <td>...</td>\n",
       "      <td>...</td>\n",
       "      <td>...</td>\n",
       "    </tr>\n",
       "    <tr>\n",
       "      <th>2024-11-30 09:00:00</th>\n",
       "      <td>134542000.0</td>\n",
       "      <td>134809000.0</td>\n",
       "      <td>133600000.0</td>\n",
       "      <td>133701000.0</td>\n",
       "      <td>2374.866974</td>\n",
       "      <td>3.183615e+11</td>\n",
       "    </tr>\n",
       "    <tr>\n",
       "      <th>2024-12-01 09:00:00</th>\n",
       "      <td>133722000.0</td>\n",
       "      <td>135199000.0</td>\n",
       "      <td>133297000.0</td>\n",
       "      <td>133802000.0</td>\n",
       "      <td>2835.146498</td>\n",
       "      <td>3.809287e+11</td>\n",
       "    </tr>\n",
       "    <tr>\n",
       "      <th>2024-12-02 09:00:00</th>\n",
       "      <td>133802000.0</td>\n",
       "      <td>135800000.0</td>\n",
       "      <td>132260000.0</td>\n",
       "      <td>133535000.0</td>\n",
       "      <td>5356.774825</td>\n",
       "      <td>7.180606e+11</td>\n",
       "    </tr>\n",
       "    <tr>\n",
       "      <th>2024-12-03 09:00:00</th>\n",
       "      <td>133523000.0</td>\n",
       "      <td>134680000.0</td>\n",
       "      <td>88266000.0</td>\n",
       "      <td>133700000.0</td>\n",
       "      <td>18097.084256</td>\n",
       "      <td>2.304644e+12</td>\n",
       "    </tr>\n",
       "    <tr>\n",
       "      <th>2024-12-04 09:00:00</th>\n",
       "      <td>133720000.0</td>\n",
       "      <td>135601000.0</td>\n",
       "      <td>133600000.0</td>\n",
       "      <td>135544000.0</td>\n",
       "      <td>2218.823565</td>\n",
       "      <td>2.991175e+11</td>\n",
       "    </tr>\n",
       "  </tbody>\n",
       "</table>\n",
       "<p>600 rows × 6 columns</p>\n",
       "</div>"
      ],
      "text/plain": [
       "                            open         high          low        close  \\\n",
       "2023-04-15 09:00:00   39804000.0   39999000.0   39752000.0   39800000.0   \n",
       "2023-04-16 09:00:00   39800000.0   39981000.0   39600000.0   39607000.0   \n",
       "2023-04-17 09:00:00   39612000.0   39673000.0   38506000.0   38700000.0   \n",
       "2023-04-18 09:00:00   38700000.0   39847000.0   38251000.0   39630000.0   \n",
       "2023-04-19 09:00:00   39637000.0   39719000.0   38181000.0   38300000.0   \n",
       "...                          ...          ...          ...          ...   \n",
       "2024-11-30 09:00:00  134542000.0  134809000.0  133600000.0  133701000.0   \n",
       "2024-12-01 09:00:00  133722000.0  135199000.0  133297000.0  133802000.0   \n",
       "2024-12-02 09:00:00  133802000.0  135800000.0  132260000.0  133535000.0   \n",
       "2024-12-03 09:00:00  133523000.0  134680000.0   88266000.0  133700000.0   \n",
       "2024-12-04 09:00:00  133720000.0  135601000.0  133600000.0  135544000.0   \n",
       "\n",
       "                           volume         value  \n",
       "2023-04-15 09:00:00   1938.560581  7.729005e+10  \n",
       "2023-04-16 09:00:00   2393.495282  9.512904e+10  \n",
       "2023-04-17 09:00:00   5420.857259  2.113226e+11  \n",
       "2023-04-18 09:00:00   4976.831513  1.951605e+11  \n",
       "2023-04-19 09:00:00   6118.482472  2.382898e+11  \n",
       "...                           ...           ...  \n",
       "2024-11-30 09:00:00   2374.866974  3.183615e+11  \n",
       "2024-12-01 09:00:00   2835.146498  3.809287e+11  \n",
       "2024-12-02 09:00:00   5356.774825  7.180606e+11  \n",
       "2024-12-03 09:00:00  18097.084256  2.304644e+12  \n",
       "2024-12-04 09:00:00   2218.823565  2.991175e+11  \n",
       "\n",
       "[600 rows x 6 columns]"
      ]
     },
     "execution_count": 15,
     "metadata": {},
     "output_type": "execute_result"
    }
   ],
   "source": [
    "df"
   ]
  },
  {
   "cell_type": "code",
   "execution_count": 16,
   "metadata": {},
   "outputs": [
    {
     "name": "stdout",
     "output_type": "stream",
     "text": [
      "                            open         high          low        close  \\\n",
      "2024-05-19 09:00:00   93066000.0   93990000.0   91843000.0   92185000.0   \n",
      "2024-05-20 09:00:00   92185000.0   97264000.0   91931000.0   97260000.0   \n",
      "2024-05-21 09:00:00   97260000.0   98150000.0   95571000.0   96700000.0   \n",
      "2024-05-22 09:00:00   96717000.0   96999000.0   94640000.0   95421000.0   \n",
      "2024-05-23 09:00:00   95421000.0   96881000.0   93000000.0   94900000.0   \n",
      "...                          ...          ...          ...          ...   \n",
      "2024-11-30 09:00:00  134542000.0  134809000.0  133600000.0  133701000.0   \n",
      "2024-12-01 09:00:00  133722000.0  135199000.0  133297000.0  133802000.0   \n",
      "2024-12-02 09:00:00  133802000.0  135800000.0  132260000.0  133535000.0   \n",
      "2024-12-03 09:00:00  133523000.0  134680000.0   88266000.0  133700000.0   \n",
      "2024-12-04 09:00:00  133720000.0  135601000.0  133600000.0  135544000.0   \n",
      "\n",
      "                           volume         value  \n",
      "2024-05-19 09:00:00   2335.848485  2.170376e+11  \n",
      "2024-05-20 09:00:00   4413.186165  4.168862e+11  \n",
      "2024-05-21 09:00:00   4609.756504  4.475724e+11  \n",
      "2024-05-22 09:00:00   2799.801570  2.685380e+11  \n",
      "2024-05-23 09:00:00   4396.134362  4.175072e+11  \n",
      "...                           ...           ...  \n",
      "2024-11-30 09:00:00   2374.866974  3.183615e+11  \n",
      "2024-12-01 09:00:00   2835.146498  3.809287e+11  \n",
      "2024-12-02 09:00:00   5356.774825  7.180606e+11  \n",
      "2024-12-03 09:00:00  18097.084256  2.304644e+12  \n",
      "2024-12-04 09:00:00   2219.316582  2.991843e+11  \n",
      "\n",
      "[200 rows x 6 columns]\n",
      "                            open         high          low        close  \\\n",
      "2024-12-04 14:22:00  134970000.0  134997000.0  134941000.0  134941000.0   \n",
      "2024-12-04 14:23:00  134941000.0  134990000.0  134922000.0  134965000.0   \n",
      "2024-12-04 14:24:00  134965000.0  134987000.0  134941000.0  134986000.0   \n",
      "2024-12-04 14:25:00  134986000.0  134987000.0  134981000.0  134987000.0   \n",
      "2024-12-04 14:26:00  134986000.0  134987000.0  134985000.0  134986000.0   \n",
      "...                          ...          ...          ...          ...   \n",
      "2024-12-04 17:37:00  135449000.0  135458000.0  135376000.0  135445000.0   \n",
      "2024-12-04 17:38:00  135445000.0  135457000.0  135377000.0  135451000.0   \n",
      "2024-12-04 17:39:00  135452000.0  135452000.0  135377000.0  135449000.0   \n",
      "2024-12-04 17:40:00  135442000.0  135468000.0  135378000.0  135468000.0   \n",
      "2024-12-04 17:41:00  135470000.0  135549000.0  135450000.0  135544000.0   \n",
      "\n",
      "                       volume         value  \n",
      "2024-12-04 14:22:00  5.961110  8.046149e+08  \n",
      "2024-12-04 14:23:00  2.036643  2.748567e+08  \n",
      "2024-12-04 14:24:00  2.077647  2.804296e+08  \n",
      "2024-12-04 14:25:00  1.723035  2.325857e+08  \n",
      "2024-12-04 14:26:00  3.193497  4.310797e+08  \n",
      "...                       ...           ...  \n",
      "2024-12-04 17:37:00  2.410733  3.264948e+08  \n",
      "2024-12-04 17:38:00  0.757322  1.025564e+08  \n",
      "2024-12-04 17:39:00  1.109600  1.502558e+08  \n",
      "2024-12-04 17:40:00  3.650687  4.944755e+08  \n",
      "2024-12-04 17:41:00  3.382295  4.583720e+08  \n",
      "\n",
      "[200 rows x 6 columns]\n",
      "                            open         high          low        close  \\\n",
      "2021-02-08 09:00:00   41921000.0   53380000.0   41562000.0   52706000.0   \n",
      "2021-02-15 09:00:00   52711000.0   65985000.0   50313000.0   65417000.0   \n",
      "2021-02-22 09:00:00   65416000.0   65488000.0   49755000.0   51798000.0   \n",
      "2021-03-01 09:00:00   51798000.0   59640000.0   51560000.0   58155000.0   \n",
      "2021-03-08 09:00:00   58155000.0   71450000.0   57187000.0   68587000.0   \n",
      "...                          ...          ...          ...          ...   \n",
      "2024-11-04 09:00:00   95987000.0  112470000.0   93083000.0  111440000.0   \n",
      "2024-11-11 09:00:00  111440000.0  131041000.0  111273000.0  126472000.0   \n",
      "2024-11-18 09:00:00  126469000.0  138770000.0  126133000.0  136096000.0   \n",
      "2024-11-25 09:00:00  136110000.0  136274000.0  127416000.0  133802000.0   \n",
      "2024-12-02 09:00:00  133802000.0  135800000.0   88266000.0  135544000.0   \n",
      "\n",
      "                            volume         value  \n",
      "2021-02-08 09:00:00   94981.312893  4.656545e+12  \n",
      "2021-02-15 09:00:00   79123.025896  4.654387e+12  \n",
      "2021-02-22 09:00:00  131610.258017  7.403670e+12  \n",
      "2021-03-01 09:00:00   64264.701639  3.615534e+12  \n",
      "2021-03-08 09:00:00   67036.978699  4.329845e+12  \n",
      "...                            ...           ...  \n",
      "2024-11-04 09:00:00   46951.927050  4.832412e+12  \n",
      "2024-11-11 09:00:00   62661.182692  7.788110e+12  \n",
      "2024-11-18 09:00:00   46529.960442  6.219953e+12  \n",
      "2024-11-25 09:00:00   28380.964184  3.755953e+12  \n",
      "2024-12-02 09:00:00   25673.175663  3.321889e+12  \n",
      "\n",
      "[200 rows x 6 columns]\n"
     ]
    }
   ],
   "source": [
    "print(pyupbit.get_ohlcv(\"KRW-BTC\", interval=\"day\"))              # 일봉 데이터 (5일)\n",
    "print(pyupbit.get_ohlcv(\"KRW-BTC\", interval=\"minute1\"))         # 분봉 데이터\n",
    "print(pyupbit.get_ohlcv(\"KRW-BTC\", interval=\"week\"))            # 주봉 데이터"
   ]
  },
  {
   "cell_type": "code",
   "execution_count": 17,
   "metadata": {},
   "outputs": [
    {
     "name": "stdout",
     "output_type": "stream",
     "text": [
      "                           open        high         low       close  \\\n",
      "2020-03-24 09:00:00   8047000.0   8412000.0   7892000.0   8367000.0   \n",
      "2020-03-25 09:00:00   8362000.0   8538000.0   8080000.0   8271000.0   \n",
      "2020-03-26 09:00:00   8276000.0   8344000.0   8091000.0   8272000.0   \n",
      "2020-03-27 09:00:00   8281000.0   8365000.0   7820000.0   7880000.0   \n",
      "2020-03-28 09:00:00   7883000.0   7885000.0   7403000.0   7656000.0   \n",
      "...                         ...         ...         ...         ...   \n",
      "2020-10-05 09:00:00  12446000.0  12545000.0  12385000.0  12536000.0   \n",
      "2020-10-06 09:00:00  12536000.0  12600000.0  12330000.0  12418000.0   \n",
      "2020-10-07 09:00:00  12408000.0  12435000.0  12337000.0  12423000.0   \n",
      "2020-10-08 09:00:00  12422000.0  12680000.0  12280000.0  12582000.0   \n",
      "2020-10-09 09:00:00  12582000.0  12750000.0  12503000.0  12638000.0   \n",
      "\n",
      "                           volume         value  \n",
      "2020-03-24 09:00:00  15158.039589  1.244216e+11  \n",
      "2020-03-25 09:00:00  12629.118008  1.043876e+11  \n",
      "2020-03-26 09:00:00   6160.813270  5.057246e+10  \n",
      "2020-03-27 09:00:00   6749.553055  5.514416e+10  \n",
      "2020-03-28 09:00:00   7702.102337  5.883592e+10  \n",
      "...                           ...           ...  \n",
      "2020-10-05 09:00:00   1578.027830  1.965762e+10  \n",
      "2020-10-06 09:00:00   1745.875329  2.175526e+10  \n",
      "2020-10-07 09:00:00   1357.358223  1.679513e+10  \n",
      "2020-10-08 09:00:00   2422.119262  3.014610e+10  \n",
      "2020-10-09 09:00:00   2245.607475  2.834224e+10  \n",
      "\n",
      "[200 rows x 6 columns]\n"
     ]
    }
   ],
   "source": [
    "print(pyupbit.get_ohlcv(\"KRW-BTC\", to=\"20201010\"))"
   ]
  },
  {
   "cell_type": "code",
   "execution_count": 18,
   "metadata": {},
   "outputs": [
    {
     "name": "stdout",
     "output_type": "stream",
     "text": [
      "데이터 거래 시간: 2024-12-05 08:31:11.725000\n",
      "현재 시간: 2024-12-05 08:31:12.820722\n",
      "데이터 지연 시간: 0:00:01.095722\n",
      "데이터는 최신입니다!\n"
     ]
    }
   ],
   "source": [
    "import requests\n",
    "import time\n",
    "from datetime import datetime\n",
    "\n",
    "# 1. API 요청을 보낼 URL 설정\n",
    "url = \"https://api.upbit.com/v1/ticker\"\n",
    "query = {\"markets\": \"KRW-BTC\"}  # 예: 비트코인\n",
    "\n",
    "# 2. 데이터 요청\n",
    "response = requests.get(url, params=query)\n",
    "data = response.json()\n",
    "\n",
    "# 3. API 응답 확인\n",
    "if response.status_code == 200 and data:\n",
    "    # 데이터의 타임스탬프 확인\n",
    "    trade_timestamp = data[0]['trade_timestamp']  # Unix 타임스탬프\n",
    "    trade_time = datetime.fromtimestamp(trade_timestamp / 1000)  # 밀리초를 초로 변환\n",
    "    \n",
    "    # 현재 시간과 비교\n",
    "    now = datetime.now()\n",
    "    time_diff = now - trade_time\n",
    "    \n",
    "    print(f\"데이터 거래 시간: {trade_time}\")\n",
    "    print(f\"현재 시간: {now}\")\n",
    "    print(f\"데이터 지연 시간: {time_diff}\")\n",
    "\n",
    "    # 데이터가 최근 10초 내에 업데이트되었는지 확인\n",
    "    if time_diff.total_seconds() < 10:\n",
    "        print(\"데이터는 최신입니다!\")\n",
    "    else:\n",
    "        print(\"데이터가 오래되었습니다.\")\n",
    "else:\n",
    "    print(f\"API 요청 실패: {response.status_code}\")\n"
   ]
  },
  {
   "cell_type": "code",
   "execution_count": 19,
   "metadata": {},
   "outputs": [],
   "source": [
    "df = pyupbit.get_ohlcv(\"KRW-BTC\",count = 12000,period=1,interval=\"day\")"
   ]
  },
  {
   "cell_type": "code",
   "execution_count": 20,
   "metadata": {},
   "outputs": [
    {
     "data": {
      "text/html": [
       "<div>\n",
       "<style scoped>\n",
       "    .dataframe tbody tr th:only-of-type {\n",
       "        vertical-align: middle;\n",
       "    }\n",
       "\n",
       "    .dataframe tbody tr th {\n",
       "        vertical-align: top;\n",
       "    }\n",
       "\n",
       "    .dataframe thead th {\n",
       "        text-align: right;\n",
       "    }\n",
       "</style>\n",
       "<table border=\"1\" class=\"dataframe\">\n",
       "  <thead>\n",
       "    <tr style=\"text-align: right;\">\n",
       "      <th></th>\n",
       "      <th>open</th>\n",
       "      <th>high</th>\n",
       "      <th>low</th>\n",
       "      <th>close</th>\n",
       "      <th>volume</th>\n",
       "      <th>value</th>\n",
       "    </tr>\n",
       "  </thead>\n",
       "  <tbody>\n",
       "    <tr>\n",
       "      <th>2017-09-25 09:00:00</th>\n",
       "      <td>4201000.0</td>\n",
       "      <td>4333000.0</td>\n",
       "      <td>4175000.0</td>\n",
       "      <td>4322000.0</td>\n",
       "      <td>132.484755</td>\n",
       "      <td>5.602146e+08</td>\n",
       "    </tr>\n",
       "    <tr>\n",
       "      <th>2017-09-26 09:00:00</th>\n",
       "      <td>4317000.0</td>\n",
       "      <td>4418000.0</td>\n",
       "      <td>4311000.0</td>\n",
       "      <td>4321000.0</td>\n",
       "      <td>22.788340</td>\n",
       "      <td>9.950724e+07</td>\n",
       "    </tr>\n",
       "    <tr>\n",
       "      <th>2017-09-27 09:00:00</th>\n",
       "      <td>4322000.0</td>\n",
       "      <td>4677000.0</td>\n",
       "      <td>4318000.0</td>\n",
       "      <td>4657000.0</td>\n",
       "      <td>32.269662</td>\n",
       "      <td>1.448276e+08</td>\n",
       "    </tr>\n",
       "    <tr>\n",
       "      <th>2017-09-28 09:00:00</th>\n",
       "      <td>4657000.0</td>\n",
       "      <td>4772000.0</td>\n",
       "      <td>4519000.0</td>\n",
       "      <td>4586000.0</td>\n",
       "      <td>80.588243</td>\n",
       "      <td>3.721860e+08</td>\n",
       "    </tr>\n",
       "    <tr>\n",
       "      <th>2017-09-29 09:00:00</th>\n",
       "      <td>4586000.0</td>\n",
       "      <td>4709000.0</td>\n",
       "      <td>4476000.0</td>\n",
       "      <td>4657000.0</td>\n",
       "      <td>59.352373</td>\n",
       "      <td>2.724558e+08</td>\n",
       "    </tr>\n",
       "  </tbody>\n",
       "</table>\n",
       "</div>"
      ],
      "text/plain": [
       "                          open       high        low      close      volume  \\\n",
       "2017-09-25 09:00:00  4201000.0  4333000.0  4175000.0  4322000.0  132.484755   \n",
       "2017-09-26 09:00:00  4317000.0  4418000.0  4311000.0  4321000.0   22.788340   \n",
       "2017-09-27 09:00:00  4322000.0  4677000.0  4318000.0  4657000.0   32.269662   \n",
       "2017-09-28 09:00:00  4657000.0  4772000.0  4519000.0  4586000.0   80.588243   \n",
       "2017-09-29 09:00:00  4586000.0  4709000.0  4476000.0  4657000.0   59.352373   \n",
       "\n",
       "                            value  \n",
       "2017-09-25 09:00:00  5.602146e+08  \n",
       "2017-09-26 09:00:00  9.950724e+07  \n",
       "2017-09-27 09:00:00  1.448276e+08  \n",
       "2017-09-28 09:00:00  3.721860e+08  \n",
       "2017-09-29 09:00:00  2.724558e+08  "
      ]
     },
     "execution_count": 20,
     "metadata": {},
     "output_type": "execute_result"
    }
   ],
   "source": [
    "df.head()"
   ]
  },
  {
   "cell_type": "code",
   "execution_count": 21,
   "metadata": {},
   "outputs": [
    {
     "data": {
      "text/plain": [
       "2628"
      ]
     },
     "execution_count": 21,
     "metadata": {},
     "output_type": "execute_result"
    }
   ],
   "source": [
    "len(df)"
   ]
  },
  {
   "cell_type": "code",
   "execution_count": 22,
   "metadata": {},
   "outputs": [],
   "source": [
    "del df['value']"
   ]
  },
  {
   "cell_type": "code",
   "execution_count": 24,
   "metadata": {},
   "outputs": [
    {
     "data": {
      "text/html": [
       "<div>\n",
       "<style scoped>\n",
       "    .dataframe tbody tr th:only-of-type {\n",
       "        vertical-align: middle;\n",
       "    }\n",
       "\n",
       "    .dataframe tbody tr th {\n",
       "        vertical-align: top;\n",
       "    }\n",
       "\n",
       "    .dataframe thead th {\n",
       "        text-align: right;\n",
       "    }\n",
       "</style>\n",
       "<table border=\"1\" class=\"dataframe\">\n",
       "  <thead>\n",
       "    <tr style=\"text-align: right;\">\n",
       "      <th></th>\n",
       "      <th>open</th>\n",
       "      <th>high</th>\n",
       "      <th>low</th>\n",
       "      <th>close</th>\n",
       "      <th>volume</th>\n",
       "    </tr>\n",
       "  </thead>\n",
       "  <tbody>\n",
       "    <tr>\n",
       "      <th>2017-09-25 09:00:00</th>\n",
       "      <td>4201000.0</td>\n",
       "      <td>4333000.0</td>\n",
       "      <td>4175000.0</td>\n",
       "      <td>4322000.0</td>\n",
       "      <td>132.484755</td>\n",
       "    </tr>\n",
       "    <tr>\n",
       "      <th>2017-09-26 09:00:00</th>\n",
       "      <td>4317000.0</td>\n",
       "      <td>4418000.0</td>\n",
       "      <td>4311000.0</td>\n",
       "      <td>4321000.0</td>\n",
       "      <td>22.788340</td>\n",
       "    </tr>\n",
       "    <tr>\n",
       "      <th>2017-09-27 09:00:00</th>\n",
       "      <td>4322000.0</td>\n",
       "      <td>4677000.0</td>\n",
       "      <td>4318000.0</td>\n",
       "      <td>4657000.0</td>\n",
       "      <td>32.269662</td>\n",
       "    </tr>\n",
       "    <tr>\n",
       "      <th>2017-09-28 09:00:00</th>\n",
       "      <td>4657000.0</td>\n",
       "      <td>4772000.0</td>\n",
       "      <td>4519000.0</td>\n",
       "      <td>4586000.0</td>\n",
       "      <td>80.588243</td>\n",
       "    </tr>\n",
       "    <tr>\n",
       "      <th>2017-09-29 09:00:00</th>\n",
       "      <td>4586000.0</td>\n",
       "      <td>4709000.0</td>\n",
       "      <td>4476000.0</td>\n",
       "      <td>4657000.0</td>\n",
       "      <td>59.352373</td>\n",
       "    </tr>\n",
       "  </tbody>\n",
       "</table>\n",
       "</div>"
      ],
      "text/plain": [
       "                          open       high        low      close      volume\n",
       "2017-09-25 09:00:00  4201000.0  4333000.0  4175000.0  4322000.0  132.484755\n",
       "2017-09-26 09:00:00  4317000.0  4418000.0  4311000.0  4321000.0   22.788340\n",
       "2017-09-27 09:00:00  4322000.0  4677000.0  4318000.0  4657000.0   32.269662\n",
       "2017-09-28 09:00:00  4657000.0  4772000.0  4519000.0  4586000.0   80.588243\n",
       "2017-09-29 09:00:00  4586000.0  4709000.0  4476000.0  4657000.0   59.352373"
      ]
     },
     "execution_count": 24,
     "metadata": {},
     "output_type": "execute_result"
    }
   ],
   "source": [
    "df.head()"
   ]
  },
  {
   "cell_type": "code",
   "execution_count": null,
   "metadata": {},
   "outputs": [
    {
     "name": "stdout",
     "output_type": "stream",
     "text": [
      "Collecting matplotlib\n",
      "  Downloading matplotlib-3.9.3-cp311-cp311-win_amd64.whl.metadata (11 kB)\n",
      "Collecting contourpy>=1.0.1 (from matplotlib)\n",
      "  Downloading contourpy-1.3.1-cp311-cp311-win_amd64.whl.metadata (5.4 kB)\n",
      "Collecting cycler>=0.10 (from matplotlib)\n",
      "  Using cached cycler-0.12.1-py3-none-any.whl.metadata (3.8 kB)\n",
      "Collecting fonttools>=4.22.0 (from matplotlib)\n",
      "  Downloading fonttools-4.55.1-cp311-cp311-win_amd64.whl.metadata (168 kB)\n",
      "Collecting kiwisolver>=1.3.1 (from matplotlib)\n",
      "  Downloading kiwisolver-1.4.7-cp311-cp311-win_amd64.whl.metadata (6.4 kB)\n",
      "Requirement already satisfied: numpy>=1.23 in c:\\users\\rmarket\\anaconda3\\envs\\langchain\\lib\\site-packages (from matplotlib) (1.26.4)\n",
      "Requirement already satisfied: packaging>=20.0 in c:\\users\\rmarket\\anaconda3\\envs\\langchain\\lib\\site-packages (from matplotlib) (24.2)\n",
      "Requirement already satisfied: pillow>=8 in c:\\users\\rmarket\\anaconda3\\envs\\langchain\\lib\\site-packages (from matplotlib) (11.0.0)\n",
      "Requirement already satisfied: pyparsing>=2.3.1 in c:\\users\\rmarket\\anaconda3\\envs\\langchain\\lib\\site-packages (from matplotlib) (3.2.0)\n",
      "Requirement already satisfied: python-dateutil>=2.7 in c:\\users\\rmarket\\anaconda3\\envs\\langchain\\lib\\site-packages (from matplotlib) (2.9.0.post0)\n",
      "Requirement already satisfied: six>=1.5 in c:\\users\\rmarket\\anaconda3\\envs\\langchain\\lib\\site-packages (from python-dateutil>=2.7->matplotlib) (1.16.0)\n",
      "Downloading matplotlib-3.9.3-cp311-cp311-win_amd64.whl (7.8 MB)\n",
      "   ---------------------------------------- 0.0/7.8 MB ? eta -:--:--\n",
      "   ---------------------------------------- 7.8/7.8 MB 97.0 MB/s eta 0:00:00\n",
      "Downloading contourpy-1.3.1-cp311-cp311-win_amd64.whl (219 kB)\n",
      "Using cached cycler-0.12.1-py3-none-any.whl (8.3 kB)\n",
      "Downloading fonttools-4.55.1-cp311-cp311-win_amd64.whl (2.2 MB)\n",
      "   ---------------------------------------- 0.0/2.2 MB ? eta -:--:--\n",
      "   ---------------------------------------- 2.2/2.2 MB 25.0 MB/s eta 0:00:00\n",
      "Downloading kiwisolver-1.4.7-cp311-cp311-win_amd64.whl (56 kB)\n",
      "Installing collected packages: kiwisolver, fonttools, cycler, contourpy, matplotlib\n",
      "Successfully installed contourpy-1.3.1 cycler-0.12.1 fonttools-4.55.1 kiwisolver-1.4.7 matplotlib-3.9.3\n",
      "Note: you may need to restart the kernel to use updated packages.\n"
     ]
    }
   ],
   "source": [
    "# pip install matplotlib"
   ]
  },
  {
   "cell_type": "code",
   "execution_count": 38,
   "metadata": {},
   "outputs": [
    {
     "data": {
      "image/png": "[encoded data removed]",
      "text/plain": [
       "<Figure size 600x600 with 1 Axes>"
      ]
     },
     "metadata": {},
     "output_type": "display_data"
    }
   ],
   "source": [
    "import matplotlib.pyplot as plt\n",
    "\n",
    "plt.figure(figsize=(6,6))\n",
    "# plt.plot(df.index,df['open'],color = 'red')\n",
    "# plt.plot(df.index,df['high'],color = 'blue')\n",
    "# plt.plot(df.index,df['low'],color = 'green')\n",
    "# plt.plot(df.index,df['close'],color ='yellow')\n",
    "plt.plot(df.index,df['volume'],color = 'purple')\n",
    "plt.xlabel('time')\n",
    "plt.ylabel('')\n",
    "plt.show()"
   ]
  },
  {
   "cell_type": "code",
   "execution_count": null,
   "metadata": {},
   "outputs": [
    {
     "name": "stdout",
     "output_type": "stream",
     "text": [
      "Collecting tensorflow\n",
      "  Downloading tensorflow-2.18.0-cp311-cp311-win_amd64.whl.metadata (3.3 kB)\n",
      "Collecting tensorflow-intel==2.18.0 (from tensorflow)\n",
      "  Downloading tensorflow_intel-2.18.0-cp311-cp311-win_amd64.whl.metadata (4.9 kB)\n",
      "Collecting absl-py>=1.0.0 (from tensorflow-intel==2.18.0->tensorflow)\n",
      "  Using cached absl_py-2.1.0-py3-none-any.whl.metadata (2.3 kB)\n",
      "Collecting astunparse>=1.6.0 (from tensorflow-intel==2.18.0->tensorflow)\n",
      "  Using cached astunparse-1.6.3-py2.py3-none-any.whl.metadata (4.4 kB)\n",
      "Collecting flatbuffers>=24.3.25 (from tensorflow-intel==2.18.0->tensorflow)\n",
      "  Using cached flatbuffers-24.3.25-py2.py3-none-any.whl.metadata (850 bytes)\n",
      "Collecting gast!=0.5.0,!=0.5.1,!=0.5.2,>=0.2.1 (from tensorflow-intel==2.18.0->tensorflow)\n",
      "  Using cached gast-0.6.0-py3-none-any.whl.metadata (1.3 kB)\n",
      "Collecting google-pasta>=0.1.1 (from tensorflow-intel==2.18.0->tensorflow)\n",
      "  Using cached google_pasta-0.2.0-py3-none-any.whl.metadata (814 bytes)\n",
      "Collecting libclang>=13.0.0 (from tensorflow-intel==2.18.0->tensorflow)\n",
      "  Using cached libclang-18.1.1-py2.py3-none-win_amd64.whl.metadata (5.3 kB)\n",
      "Collecting opt-einsum>=2.3.2 (from tensorflow-intel==2.18.0->tensorflow)\n",
      "  Using cached opt_einsum-3.4.0-py3-none-any.whl.metadata (6.3 kB)\n",
      "Requirement already satisfied: packaging in c:\\users\\rmarket\\anaconda3\\envs\\langchain\\lib\\site-packages (from tensorflow-intel==2.18.0->tensorflow) (24.2)\n",
      "Requirement already satisfied: protobuf!=4.21.0,!=4.21.1,!=4.21.2,!=4.21.3,!=4.21.4,!=4.21.5,<6.0.0dev,>=3.20.3 in c:\\users\\rmarket\\anaconda3\\envs\\langchain\\lib\\site-packages (from tensorflow-intel==2.18.0->tensorflow) (4.25.5)\n",
      "Requirement already satisfied: requests<3,>=2.21.0 in c:\\users\\rmarket\\anaconda3\\envs\\langchain\\lib\\site-packages (from tensorflow-intel==2.18.0->tensorflow) (2.32.3)\n",
      "Requirement already satisfied: setuptools in c:\\users\\rmarket\\anaconda3\\envs\\langchain\\lib\\site-packages (from tensorflow-intel==2.18.0->tensorflow) (75.1.0)\n",
      "Requirement already satisfied: six>=1.12.0 in c:\\users\\rmarket\\anaconda3\\envs\\langchain\\lib\\site-packages (from tensorflow-intel==2.18.0->tensorflow) (1.16.0)\n",
      "Collecting termcolor>=1.1.0 (from tensorflow-intel==2.18.0->tensorflow)\n",
      "  Using cached termcolor-2.5.0-py3-none-any.whl.metadata (6.1 kB)\n",
      "Requirement already satisfied: typing-extensions>=3.6.6 in c:\\users\\rmarket\\anaconda3\\envs\\langchain\\lib\\site-packages (from tensorflow-intel==2.18.0->tensorflow) (4.12.2)\n",
      "Requirement already satisfied: wrapt>=1.11.0 in c:\\users\\rmarket\\anaconda3\\envs\\langchain\\lib\\site-packages (from tensorflow-intel==2.18.0->tensorflow) (1.17.0)\n",
      "Requirement already satisfied: grpcio<2.0,>=1.24.3 in c:\\users\\rmarket\\anaconda3\\envs\\langchain\\lib\\site-packages (from tensorflow-intel==2.18.0->tensorflow) (1.68.0)\n",
      "Collecting tensorboard<2.19,>=2.18 (from tensorflow-intel==2.18.0->tensorflow)\n",
      "  Using cached tensorboard-2.18.0-py3-none-any.whl.metadata (1.6 kB)\n",
      "Collecting keras>=3.5.0 (from tensorflow-intel==2.18.0->tensorflow)\n",
      "  Downloading keras-3.7.0-py3-none-any.whl.metadata (5.8 kB)\n",
      "Requirement already satisfied: numpy<2.1.0,>=1.26.0 in c:\\users\\rmarket\\anaconda3\\envs\\langchain\\lib\\site-packages (from tensorflow-intel==2.18.0->tensorflow) (1.26.4)\n",
      "Collecting h5py>=3.11.0 (from tensorflow-intel==2.18.0->tensorflow)\n",
      "  Downloading h5py-3.12.1-cp311-cp311-win_amd64.whl.metadata (2.5 kB)\n",
      "Collecting ml-dtypes<0.5.0,>=0.4.0 (from tensorflow-intel==2.18.0->tensorflow)\n",
      "  Downloading ml_dtypes-0.4.1-cp311-cp311-win_amd64.whl.metadata (20 kB)\n",
      "Collecting tensorflow-io-gcs-filesystem>=0.23.1 (from tensorflow-intel==2.18.0->tensorflow)\n",
      "  Downloading tensorflow_io_gcs_filesystem-0.31.0-cp311-cp311-win_amd64.whl.metadata (14 kB)\n",
      "Requirement already satisfied: wheel<1.0,>=0.23.0 in c:\\users\\rmarket\\anaconda3\\envs\\langchain\\lib\\site-packages (from astunparse>=1.6.0->tensorflow-intel==2.18.0->tensorflow) (0.44.0)\n",
      "Requirement already satisfied: rich in c:\\users\\rmarket\\anaconda3\\envs\\langchain\\lib\\site-packages (from keras>=3.5.0->tensorflow-intel==2.18.0->tensorflow) (13.9.4)\n",
      "Collecting namex (from keras>=3.5.0->tensorflow-intel==2.18.0->tensorflow)\n",
      "  Using cached namex-0.0.8-py3-none-any.whl.metadata (246 bytes)\n",
      "Collecting optree (from keras>=3.5.0->tensorflow-intel==2.18.0->tensorflow)\n",
      "  Downloading optree-0.13.1-cp311-cp311-win_amd64.whl.metadata (48 kB)\n",
      "Requirement already satisfied: charset-normalizer<4,>=2 in c:\\users\\rmarket\\anaconda3\\envs\\langchain\\lib\\site-packages (from requests<3,>=2.21.0->tensorflow-intel==2.18.0->tensorflow) (3.4.0)\n",
      "Requirement already satisfied: idna<4,>=2.5 in c:\\users\\rmarket\\anaconda3\\envs\\langchain\\lib\\site-packages (from requests<3,>=2.21.0->tensorflow-intel==2.18.0->tensorflow) (3.10)\n",
      "Requirement already satisfied: urllib3<3,>=1.21.1 in c:\\users\\rmarket\\anaconda3\\envs\\langchain\\lib\\site-packages (from requests<3,>=2.21.0->tensorflow-intel==2.18.0->tensorflow) (2.2.3)\n",
      "Requirement already satisfied: certifi>=2017.4.17 in c:\\users\\rmarket\\anaconda3\\envs\\langchain\\lib\\site-packages (from requests<3,>=2.21.0->tensorflow-intel==2.18.0->tensorflow) (2024.8.30)\n",
      "Collecting markdown>=2.6.8 (from tensorboard<2.19,>=2.18->tensorflow-intel==2.18.0->tensorflow)\n",
      "  Using cached Markdown-3.7-py3-none-any.whl.metadata (7.0 kB)\n",
      "Collecting tensorboard-data-server<0.8.0,>=0.7.0 (from tensorboard<2.19,>=2.18->tensorflow-intel==2.18.0->tensorflow)\n",
      "  Using cached tensorboard_data_server-0.7.2-py3-none-any.whl.metadata (1.1 kB)\n",
      "Collecting werkzeug>=1.0.1 (from tensorboard<2.19,>=2.18->tensorflow-intel==2.18.0->tensorflow)\n",
      "  Using cached werkzeug-3.1.3-py3-none-any.whl.metadata (3.7 kB)\n",
      "Requirement already satisfied: MarkupSafe>=2.1.1 in c:\\users\\rmarket\\anaconda3\\envs\\langchain\\lib\\site-packages (from werkzeug>=1.0.1->tensorboard<2.19,>=2.18->tensorflow-intel==2.18.0->tensorflow) (3.0.2)\n",
      "Requirement already satisfied: markdown-it-py>=2.2.0 in c:\\users\\rmarket\\anaconda3\\envs\\langchain\\lib\\site-packages (from rich->keras>=3.5.0->tensorflow-intel==2.18.0->tensorflow) (3.0.0)\n",
      "Requirement already satisfied: pygments<3.0.0,>=2.13.0 in c:\\users\\rmarket\\anaconda3\\envs\\langchain\\lib\\site-packages (from rich->keras>=3.5.0->tensorflow-intel==2.18.0->tensorflow) (2.18.0)\n",
      "Requirement already satisfied: mdurl~=0.1 in c:\\users\\rmarket\\anaconda3\\envs\\langchain\\lib\\site-packages (from markdown-it-py>=2.2.0->rich->keras>=3.5.0->tensorflow-intel==2.18.0->tensorflow) (0.1.2)\n",
      "Downloading tensorflow-2.18.0-cp311-cp311-win_amd64.whl (7.5 kB)\n",
      "Downloading tensorflow_intel-2.18.0-cp311-cp311-win_amd64.whl (390.2 MB)\n",
      "   ---------------------------------------- 0.0/390.2 MB ? eta -:--:--\n",
      "   -- ------------------------------------ 23.3/390.2 MB 113.6 MB/s eta 0:00:04\n",
      "   --- ------------------------------------ 32.8/390.2 MB 77.0 MB/s eta 0:00:05\n",
      "   ---- ----------------------------------- 40.9/390.2 MB 65.0 MB/s eta 0:00:06\n",
      "   ---- ----------------------------------- 46.1/390.2 MB 55.4 MB/s eta 0:00:07\n",
      "   ------ --------------------------------- 58.7/390.2 MB 62.3 MB/s eta 0:00:06\n",
      "   ------ --------------------------------- 64.0/390.2 MB 52.3 MB/s eta 0:00:07\n",
      "   ------ --------------------------------- 67.1/390.2 MB 48.6 MB/s eta 0:00:07\n",
      "   ------ --------------------------------- 67.6/390.2 MB 41.5 MB/s eta 0:00:08\n",
      "   --------- ------------------------------ 88.3/390.2 MB 47.4 MB/s eta 0:00:07\n",
      "   --------- ------------------------------ 96.7/390.2 MB 46.8 MB/s eta 0:00:07\n",
      "   ----------- --------------------------- 113.5/390.2 MB 49.6 MB/s eta 0:00:06\n",
      "   ------------- ------------------------- 136.1/390.2 MB 54.3 MB/s eta 0:00:05\n",
      "   -------------- ------------------------ 147.8/390.2 MB 56.2 MB/s eta 0:00:05\n",
      "   --------------- ----------------------- 150.7/390.2 MB 51.8 MB/s eta 0:00:05\n",
      "   ----------------- --------------------- 174.6/390.2 MB 56.1 MB/s eta 0:00:04\n",
      "   ------------------- ------------------- 192.9/390.2 MB 58.4 MB/s eta 0:00:04\n",
      "   -------------------- ------------------ 201.9/390.2 MB 57.6 MB/s eta 0:00:04\n",
      "   ---------------------- ---------------- 226.0/390.2 MB 60.7 MB/s eta 0:00:03\n",
      "   ----------------------- --------------- 233.6/390.2 MB 59.5 MB/s eta 0:00:03\n",
      "   ------------------------- ------------- 251.9/390.2 MB 60.8 MB/s eta 0:00:03\n",
      "   -------------------------- ------------ 270.0/390.2 MB 61.2 MB/s eta 0:00:02\n",
      "   ---------------------------- ---------- 282.6/390.2 MB 59.4 MB/s eta 0:00:02\n",
      "   ------------------------------ -------- 305.4/390.2 MB 65.7 MB/s eta 0:00:02\n",
      "   ------------------------------- ------- 319.0/390.2 MB 64.5 MB/s eta 0:00:02\n",
      "   --------------------------------- ----- 334.8/390.2 MB 76.2 MB/s eta 0:00:01\n",
      "   ---------------------------------- ---- 341.0/390.2 MB 71.6 MB/s eta 0:00:01\n",
      "   ------------------------------------ -- 366.0/390.2 MB 74.5 MB/s eta 0:00:01\n",
      "   ------------------------------------- - 377.5/390.2 MB 75.8 MB/s eta 0:00:01\n",
      "   --------------------------------------  384.3/390.2 MB 70.7 MB/s eta 0:00:01\n",
      "   --------------------------------------  390.1/390.2 MB 70.4 MB/s eta 0:00:01\n",
      "   --------------------------------------  390.1/390.2 MB 70.4 MB/s eta 0:00:01\n",
      "   --------------------------------------  390.1/390.2 MB 70.4 MB/s eta 0:00:01\n",
      "   --------------------------------------- 390.2/390.2 MB 59.0 MB/s eta 0:00:00\n",
      "Using cached absl_py-2.1.0-py3-none-any.whl (133 kB)\n",
      "Using cached astunparse-1.6.3-py2.py3-none-any.whl (12 kB)\n",
      "Using cached flatbuffers-24.3.25-py2.py3-none-any.whl (26 kB)\n",
      "Using cached gast-0.6.0-py3-none-any.whl (21 kB)\n",
      "Using cached google_pasta-0.2.0-py3-none-any.whl (57 kB)\n",
      "Downloading h5py-3.12.1-cp311-cp311-win_amd64.whl (3.0 MB)\n",
      "   ---------------------------------------- 0.0/3.0 MB ? eta -:--:--\n",
      "   ---------------------------------------- 3.0/3.0 MB 88.5 MB/s eta 0:00:00\n",
      "Downloading keras-3.7.0-py3-none-any.whl (1.2 MB)\n",
      "   ---------------------------------------- 0.0/1.2 MB ? eta -:--:--\n",
      "   ---------------------------------------- 1.2/1.2 MB 60.4 MB/s eta 0:00:00\n",
      "Using cached libclang-18.1.1-py2.py3-none-win_amd64.whl (26.4 MB)\n",
      "Downloading ml_dtypes-0.4.1-cp311-cp311-win_amd64.whl (126 kB)\n",
      "Using cached opt_einsum-3.4.0-py3-none-any.whl (71 kB)\n",
      "Using cached tensorboard-2.18.0-py3-none-any.whl (5.5 MB)\n",
      "Downloading tensorflow_io_gcs_filesystem-0.31.0-cp311-cp311-win_amd64.whl (1.5 MB)\n",
      "   ---------------------------------------- 0.0/1.5 MB ? eta -:--:--\n",
      "   ---------------------------------------- 1.5/1.5 MB 39.5 MB/s eta 0:00:00\n",
      "Using cached termcolor-2.5.0-py3-none-any.whl (7.8 kB)\n",
      "Using cached Markdown-3.7-py3-none-any.whl (106 kB)\n",
      "Using cached tensorboard_data_server-0.7.2-py3-none-any.whl (2.4 kB)\n",
      "Using cached werkzeug-3.1.3-py3-none-any.whl (224 kB)\n",
      "Using cached namex-0.0.8-py3-none-any.whl (5.8 kB)\n",
      "Downloading optree-0.13.1-cp311-cp311-win_amd64.whl (292 kB)\n",
      "Installing collected packages: namex, libclang, flatbuffers, werkzeug, termcolor, tensorflow-io-gcs-filesystem, tensorboard-data-server, optree, opt-einsum, ml-dtypes, markdown, h5py, google-pasta, gast, astunparse, absl-py, tensorboard, keras, tensorflow-intel, tensorflow\n",
      "Successfully installed absl-py-2.1.0 astunparse-1.6.3 flatbuffers-24.3.25 gast-0.6.0 google-pasta-0.2.0 h5py-3.12.1 keras-3.7.0 libclang-18.1.1 markdown-3.7 ml-dtypes-0.4.1 namex-0.0.8 opt-einsum-3.4.0 optree-0.13.1 tensorboard-2.18.0 tensorboard-data-server-0.7.2 tensorflow-2.18.0 tensorflow-intel-2.18.0 tensorflow-io-gcs-filesystem-0.31.0 termcolor-2.5.0 werkzeug-3.1.3\n",
      "Note: you may need to restart the kernel to use updated packages.\n"
     ]
    }
   ],
   "source": [
    "# pip install tensorflow"
   ]
  },
  {
   "cell_type": "code",
   "execution_count": 34,
   "metadata": {},
   "outputs": [],
   "source": [
    "import numpy as np\n",
    "import pandas as pd\n",
    "import tensorflow as tf\n",
    "from tensorflow.keras import Sequential\n",
    "from tensorflow.keras.layers import LSTM, Dropout, Dense"
   ]
  },
  {
   "cell_type": "code",
   "execution_count": 35,
   "metadata": {},
   "outputs": [],
   "source": [
    "def MinMaxScaler(data):\n",
    "    k = data - np.min(data)\n",
    "    j = np.max(data,0) - np.mine(data,0)\n",
    "    return k / ( j + 1e-7)"
   ]
  },
  {
   "cell_type": "code",
   "execution_count": null,
   "metadata": {},
   "outputs": [],
   "source": []
  }
 ],
 "metadata": {
  "kernelspec": {
   "display_name": "Langchain",
   "language": "python",
   "name": "python3"
  },
  "language_info": {
   "codemirror_mode": {
    "name": "ipython",
    "version": 3
   },
   "file_extension": ".py",
   "mimetype": "text/x-python",
   "name": "python",
   "nbconvert_exporter": "python",
   "pygments_lexer": "ipython3",
   "version": "3.11.10"
  }
 },
 "nbformat": 4,
 "nbformat_minor": 2
}
