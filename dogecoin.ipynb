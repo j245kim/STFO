{
 "cells": [
  {
   "cell_type": "code",
   "execution_count": 54,
   "metadata": {},
   "outputs": [],
   "source": [
    "# pip install pyupbit"
   ]
  },
  {
   "cell_type": "code",
   "execution_count": 55,
   "metadata": {},
   "outputs": [],
   "source": [
    "# pip install pyjwt"
   ]
  },
  {
   "cell_type": "code",
   "execution_count": 56,
   "metadata": {},
   "outputs": [],
   "source": [
    "import pyupbit\n"
   ]
  },
  {
   "cell_type": "code",
   "execution_count": 57,
   "metadata": {},
   "outputs": [
    {
     "name": "stdout",
     "output_type": "stream",
     "text": [
      "['KRW-BTC', 'KRW-ETH', 'BTC-ETH', 'BTC-XRP', 'BTC-ETC', 'BTC-CVC', 'BTC-DGB', 'BTC-SC', 'BTC-SNT', 'BTC-WAVES', 'BTC-NMR', 'BTC-XEM', 'BTC-QTUM', 'BTC-BAT', 'BTC-LSK', 'BTC-STEEM', 'BTC-DOGE', 'BTC-BNT', 'BTC-XLM', 'BTC-ARDR', 'BTC-ARK', 'BTC-STORJ', 'BTC-GRS', 'BTC-RLC', 'USDT-BTC', 'USDT-ETH', 'USDT-XRP', 'USDT-ETC', 'KRW-NEO', 'KRW-MTL', 'KRW-XRP', 'KRW-ETC', 'KRW-SNT', 'KRW-WAVES', 'KRW-XEM', 'KRW-QTUM', 'KRW-LSK', 'KRW-STEEM', 'KRW-XLM', 'KRW-ARDR', 'KRW-ARK', 'KRW-STORJ', 'KRW-GRS', 'KRW-ADA', 'BTC-ADA', 'BTC-MANA', 'KRW-SBD', 'BTC-SBD', 'KRW-POWR', 'BTC-POWR', 'KRW-BTG', 'USDT-ADA', 'BTC-DNT', 'BTC-ZRX', 'BTC-TRX', 'BTC-TUSD', 'BTC-LRC', 'KRW-ICX', 'KRW-EOS', 'USDT-TUSD', 'KRW-TRX', 'BTC-POLYX', 'USDT-SC', 'USDT-TRX', 'KRW-SC', 'KRW-ONT', 'KRW-ZIL', 'KRW-POLYX', 'KRW-ZRX', 'KRW-LOOM', 'BTC-BCH', 'USDT-BCH', 'KRW-BCH', 'BTC-HIFI', 'BTC-LOOM', 'KRW-BAT', 'KRW-IOST', 'USDT-DGB', 'KRW-CVC', 'KRW-IQ', 'KRW-IOTA', 'BTC-RVN', 'BTC-GO', 'BTC-BOUNTY', 'BTC-ENJ', 'KRW-HIFI', 'KRW-ONG', 'KRW-GAS', 'BTC-MTL', 'KRW-BOUNTY', 'KRW-ELF', 'USDT-DOGE', 'USDT-ZRX', 'USDT-RVN', 'USDT-BAT', 'KRW-KNC', 'BTC-MOC', 'BTC-ZIL', 'KRW-BSV', 'BTC-BSV', 'BTC-IOST', 'KRW-THETA', 'BTC-DENT', 'KRW-QKC', 'BTC-ELF', 'KRW-BTT', 'BTC-IOTX', 'BTC-SOLVE', 'BTC-NKN', 'BTC-META', 'KRW-MOC', 'BTC-ANKR', 'BTC-CRO', 'KRW-TFUEL', 'KRW-MANA', 'KRW-ANKR', 'BTC-ORBS', 'BTC-AERGO', 'KRW-AERGO', 'KRW-ATOM', 'KRW-TT', 'KRW-GAME2', 'BTC-ATOM', 'BTC-STPT', 'KRW-MBL', 'BTC-EOS', 'BTC-USDS', 'BTC-SKY', 'BTC-BORA', 'KRW-WAXP', 'BTC-WAXP', 'KRW-HBAR', 'KRW-MED', 'BTC-MED', 'BTC-MLK', 'KRW-MLK', 'KRW-STPT', 'BTC-VET', 'KRW-ORBS', 'BTC-CHZ', 'KRW-VET', 'BTC-FX', 'BTC-OGN', 'KRW-CHZ', 'BTC-XTZ', 'BTC-HIVE', 'BTC-HBD', 'BTC-OBSR', 'BTC-DKA', 'KRW-STMX', 'BTC-STMX', 'BTC-AHT', 'KRW-DKA', 'BTC-LINK', 'KRW-HIVE', 'KRW-KAVA', 'BTC-KAVA', 'KRW-AHT', 'KRW-LINK', 'KRW-XTZ', 'KRW-BORA', 'BTC-JST', 'BTC-CHR', 'BTC-DAD', 'BTC-TON', 'KRW-JST', 'BTC-CTSI', 'BTC-DOT', 'KRW-CRO', 'BTC-COMP', 'BTC-SXP', 'BTC-HUNT', 'KRW-TON', 'BTC-LWA', 'BTC-CRV', 'BTC-ALGO', 'BTC-RSR', 'KRW-SXP', 'BTC-OXT', 'KRW-HUNT', 'BTC-SAND', 'BTC-SUN', 'KRW-DOT', 'BTC-QTCON', 'BTC-MVL', 'KRW-MVL', 'BTC-REI', 'BTC-AQT', 'BTC-AXS', 'BTC-STRAX', 'KRW-STRAX', 'KRW-AQT', 'BTC-GLM', 'KRW-GLM', 'BTC-FCT2', 'KRW-META', 'KRW-FCT2', 'BTC-FIL', 'BTC-UNI', 'BTC-INJ', 'BTC-PROM', 'BTC-VAL', 'BTC-PSG', 'BTC-JUV', 'BTC-CBK', 'BTC-FOR', 'KRW-CBK', 'BTC-BFC', 'BTC-HPO', 'BTC-CELO', 'KRW-SAND', 'KRW-HPO', 'BTC-IQ', 'BTC-STX', 'KRW-DOGE', 'BTC-NEAR', 'BTC-AUCTION', 'BTC-FLOW', 'BTC-STRIKE', 'KRW-STRIKE', 'BTC-PUNDIX', 'KRW-PUNDIX', 'KRW-FLOW', 'KRW-AXS', 'KRW-STX', 'BTC-GRT', 'BTC-SNX', 'BTC-USDP', 'KRW-XEC', 'KRW-SOL', 'BTC-SOL', 'KRW-POL', 'BTC-POL', 'KRW-AAVE', 'KRW-1INCH', 'BTC-AAVE', 'BTC-1INCH', 'BTC-MASK', 'KRW-ALGO', 'BTC-AUDIO', 'KRW-NEAR', 'BTC-YGG', 'BTC-GTC', 'BTC-OCEAN', 'BTC-CTC', 'BTC-LPT', 'KRW-AVAX', 'BTC-AVAX', 'BTC-IMX', 'BTC-RENDER', 'BTC-RLY', 'KRW-T', 'BTC-T', 'KRW-CELO', 'BTC-RAD', 'BTC-AGLD', 'BTC-API3', 'BTC-ARPA', 'BTC-ENS', 'KRW-GMT', 'BTC-GMT', 'BTC-APE', 'BTC-RAY', 'KRW-APT', 'BTC-APT', 'BTC-ACM', 'BTC-AFC', 'BTC-ATM', 'BTC-BAR', 'BTC-CITY', 'BTC-INTER', 'BTC-NAP', 'KRW-SHIB', 'BTC-G', 'BTC-ASTR', 'BTC-BLUR', 'KRW-MASK', 'BTC-ACS', 'BTC-MAGIC', 'KRW-ARB', 'BTC-ARB', 'KRW-EGLD', 'BTC-EGLD', 'KRW-SUI', 'BTC-SUI', 'KRW-GRT', 'KRW-BLUR', 'BTC-MINA', 'KRW-IMX', 'BTC-STG', 'BTC-SEI', 'KRW-SEI', 'BTC-CYBER', 'BTC-GLMR', 'KRW-MINA', 'BTC-ID', 'BTC-AXL', 'KRW-CTC', 'KRW-ASTR', 'BTC-SPURS', 'KRW-ID', 'KRW-PYTH', 'BTC-PYTH', 'BTC-ALT', 'BTC-POKT', 'USDT-POKT', 'KRW-MNT', 'BTC-MNT', 'USDT-MNT', 'BTC-BIGTIME', 'USDT-BIGTIME', 'KRW-AKT', 'BTC-AKT', 'USDT-AKT', 'KRW-ZETA', 'BTC-ZETA', 'USDT-ZETA', 'BTC-OMNI', 'USDT-OMNI', 'BTC-OAS', 'USDT-OAS', 'KRW-AUCTION', 'KRW-STG', 'KRW-BEAM', 'BTC-BEAM', 'USDT-BEAM', 'KRW-TAIKO', 'BTC-TAIKO', 'USDT-TAIKO', 'KRW-USDT', 'BTC-USDT', 'KRW-ONDO', 'BTC-ONDO', 'USDT-ONDO', 'BTC-NEO', 'USDT-NEO', 'BTC-GAS', 'USDT-GAS', 'BTC-TT', 'BTC-GAME2', 'USDT-SOL', 'KRW-ZRO', 'BTC-ZRO', 'USDT-ZRO', 'KRW-BLAST', 'BTC-BLAST', 'USDT-BLAST', 'KRW-JUP', 'BTC-JUP', 'USDT-JUP', 'KRW-ENS', 'KRW-G', 'KRW-PENDLE', 'BTC-PENDLE', 'KRW-ATH', 'BTC-ATH', 'USDT-BRETT', 'USDT-PEPE', 'KRW-USDC', 'BTC-USDC', 'USDT-USDC', 'KRW-UXLINK', 'BTC-UXLINK', 'USDT-UXLINK', 'KRW-BIGTIME', 'KRW-CKB', 'BTC-CKB', 'USDT-CKB', 'BTC-MEW', 'USDT-MEW', 'KRW-W', 'BTC-W', 'USDT-W', 'KRW-CARV', 'BTC-CARV', 'USDT-CARV', 'KRW-INJ', 'USDT-INJ', 'KRW-MEW', 'USDT-BONK', 'KRW-UNI', 'USDT-UNI', 'KRW-SAFE', 'BTC-SAFE', 'USDT-SAFE', 'KRW-DRIFT', 'BTC-DRIFT', 'USDT-DRIFT', 'KRW-AGLD', 'USDT-AGLD', 'USDT-AHT', 'USDT-ARPA', 'USDT-ASTR', 'USDT-BNT', 'USDT-EGLD', 'USDT-FIL', 'USDT-LWA', 'USDT-NEAR', 'USDT-OXT', 'USDT-RAD', 'USDT-XLM', 'KRW-PEPE', 'KRW-BONK', 'BTC-JASMY', 'USDT-JASMY', 'BTC-NCT', 'USDT-NCT']\n",
      "407\n"
     ]
    }
   ],
   "source": [
    "# 모든 티커를 조회 하기\n",
    "\n",
    "tickers = pyupbit.get_tickers()\n",
    "print(tickers)\n",
    "print(len(tickers))"
   ]
  },
  {
   "cell_type": "code",
   "execution_count": 68,
   "metadata": {},
   "outputs": [
    {
     "data": {
      "text/plain": [
       "list"
      ]
     },
     "execution_count": 68,
     "metadata": {},
     "output_type": "execute_result"
    }
   ],
   "source": [
    "type(tickers) "
   ]
  },
  {
   "cell_type": "code",
   "execution_count": null,
   "metadata": {},
   "outputs": [],
   "source": []
  },
  {
   "cell_type": "code",
   "execution_count": 58,
   "metadata": {},
   "outputs": [
    {
     "name": "stdout",
     "output_type": "stream",
     "text": [
      "                      open   high    low  close        volume         value\n",
      "2024-12-05 08:05:00  592.4  594.3  592.4  593.8  1.308611e+06  7.767644e+08\n",
      "2024-12-05 08:06:00  593.5  594.7  592.5  594.0  1.784335e+06  1.058576e+09\n",
      "2024-12-05 08:07:00  594.1  595.9  594.1  595.4  1.878546e+06  1.118199e+09\n",
      "2024-12-05 08:08:00  595.4  597.6  595.2  596.9  2.056088e+06  1.226775e+09\n",
      "2024-12-05 08:09:00  597.2  597.9  596.2  596.9  1.538869e+06  9.187047e+08\n",
      "...                    ...    ...    ...    ...           ...           ...\n",
      "2024-12-05 11:20:00  588.4  588.5  587.7  587.8  9.679281e+05  5.692779e+08\n",
      "2024-12-05 11:21:00  587.8  588.2  587.7  588.1  7.964802e+05  4.682198e+08\n",
      "2024-12-05 11:22:00  588.1  588.5  587.8  587.9  9.170177e+05  5.393554e+08\n",
      "2024-12-05 11:23:00  587.9  588.5  587.8  588.4  5.107454e+05  3.004088e+08\n",
      "2024-12-05 11:24:00  588.5  588.7  588.4  588.7  6.378089e+05  3.754033e+08\n",
      "\n",
      "[200 rows x 6 columns]\n",
      "<class 'pandas.core.frame.DataFrame'> (200, 6)\n"
     ]
    }
   ],
   "source": [
    "minute1 = pyupbit.get_ohlcv(\"KRW-DOGE\", \"minute1\")\n",
    "print(minute1)\n",
    "print(type(minute1), minute1.shape)"
   ]
  },
  {
   "cell_type": "code",
   "execution_count": 59,
   "metadata": {},
   "outputs": [],
   "source": [
    "# df = pyupbit.get_ohlcv(\"KRW-BTC\", \"day\", count=3)\n",
    "# print(df)"
   ]
  },
  {
   "cell_type": "code",
   "execution_count": 60,
   "metadata": {},
   "outputs": [],
   "source": [
    "# print(pyupbit.get_ohlcv(\"KRW-BTC\", interval='minute1', count = 1360, to=\"20241204\"))"
   ]
  },
  {
   "cell_type": "code",
   "execution_count": 61,
   "metadata": {},
   "outputs": [],
   "source": [
    "# df = pyupbit.get_ohlcv(\"KRW-BTC\", interval='minute1', count = 1360, to=\"20241204\")"
   ]
  },
  {
   "cell_type": "code",
   "execution_count": 62,
   "metadata": {},
   "outputs": [
    {
     "name": "stdout",
     "output_type": "stream",
     "text": [
      "                      open   high    low  close        volume         value\n",
      "2024-12-03 10:20:00  585.2  585.3  583.2  583.6  5.293250e+06  3.094540e+09\n",
      "2024-12-03 10:21:00  583.6  583.9  583.2  583.5  3.178877e+06  1.854736e+09\n",
      "2024-12-03 10:22:00  583.6  583.7  582.1  582.2  3.332044e+06  1.942425e+09\n",
      "2024-12-03 10:23:00  582.3  582.7  580.6  582.2  4.873212e+06  2.833583e+09\n",
      "2024-12-03 10:24:00  582.4  583.5  581.3  582.7  2.740236e+06  1.596222e+09\n",
      "...                    ...    ...    ...    ...           ...           ...\n",
      "2024-12-04 08:55:00  570.1  570.3  569.6  569.6  1.853616e+06  1.056368e+09\n",
      "2024-12-04 08:56:00  569.6  569.8  568.7  568.7  1.391487e+06  7.918508e+08\n",
      "2024-12-04 08:57:00  568.7  568.9  567.7  567.9  1.919945e+06  1.090897e+09\n",
      "2024-12-04 08:58:00  567.9  568.6  567.8  568.1  1.909842e+06  1.085069e+09\n",
      "2024-12-04 08:59:00  568.2  568.2  567.3  567.4  2.096185e+06  1.190158e+09\n",
      "\n",
      "[1360 rows x 6 columns]\n"
     ]
    }
   ],
   "source": [
    "print(pyupbit.get_ohlcv(\"KRW-DOGE\", interval='minute1', count = 1360, to=\"20241204\"))"
   ]
  },
  {
   "cell_type": "code",
   "execution_count": 79,
   "metadata": {},
   "outputs": [],
   "source": [
    "df = pyupbit.get_ohlcv(\"KRW-DOGE\", interval='minute1', count = 1360, to=\"20241204\")"
   ]
  },
  {
   "cell_type": "code",
   "execution_count": 80,
   "metadata": {},
   "outputs": [
    {
     "data": {
      "text/html": [
       "<div>\n",
       "<style scoped>\n",
       "    .dataframe tbody tr th:only-of-type {\n",
       "        vertical-align: middle;\n",
       "    }\n",
       "\n",
       "    .dataframe tbody tr th {\n",
       "        vertical-align: top;\n",
       "    }\n",
       "\n",
       "    .dataframe thead th {\n",
       "        text-align: right;\n",
       "    }\n",
       "</style>\n",
       "<table border=\"1\" class=\"dataframe\">\n",
       "  <thead>\n",
       "    <tr style=\"text-align: right;\">\n",
       "      <th></th>\n",
       "      <th>open</th>\n",
       "      <th>high</th>\n",
       "      <th>low</th>\n",
       "      <th>close</th>\n",
       "      <th>volume</th>\n",
       "      <th>value</th>\n",
       "    </tr>\n",
       "  </thead>\n",
       "  <tbody>\n",
       "    <tr>\n",
       "      <th>2024-12-03 10:20:00</th>\n",
       "      <td>585.2</td>\n",
       "      <td>585.3</td>\n",
       "      <td>583.2</td>\n",
       "      <td>583.6</td>\n",
       "      <td>5.293250e+06</td>\n",
       "      <td>3.094540e+09</td>\n",
       "    </tr>\n",
       "    <tr>\n",
       "      <th>2024-12-03 10:21:00</th>\n",
       "      <td>583.6</td>\n",
       "      <td>583.9</td>\n",
       "      <td>583.2</td>\n",
       "      <td>583.5</td>\n",
       "      <td>3.178877e+06</td>\n",
       "      <td>1.854736e+09</td>\n",
       "    </tr>\n",
       "    <tr>\n",
       "      <th>2024-12-03 10:22:00</th>\n",
       "      <td>583.6</td>\n",
       "      <td>583.7</td>\n",
       "      <td>582.1</td>\n",
       "      <td>582.2</td>\n",
       "      <td>3.332044e+06</td>\n",
       "      <td>1.942425e+09</td>\n",
       "    </tr>\n",
       "    <tr>\n",
       "      <th>2024-12-03 10:23:00</th>\n",
       "      <td>582.3</td>\n",
       "      <td>582.7</td>\n",
       "      <td>580.6</td>\n",
       "      <td>582.2</td>\n",
       "      <td>4.873212e+06</td>\n",
       "      <td>2.833583e+09</td>\n",
       "    </tr>\n",
       "    <tr>\n",
       "      <th>2024-12-03 10:24:00</th>\n",
       "      <td>582.4</td>\n",
       "      <td>583.5</td>\n",
       "      <td>581.3</td>\n",
       "      <td>582.7</td>\n",
       "      <td>2.740236e+06</td>\n",
       "      <td>1.596222e+09</td>\n",
       "    </tr>\n",
       "  </tbody>\n",
       "</table>\n",
       "</div>"
      ],
      "text/plain": [
       "                      open   high    low  close        volume         value\n",
       "2024-12-03 10:20:00  585.2  585.3  583.2  583.6  5.293250e+06  3.094540e+09\n",
       "2024-12-03 10:21:00  583.6  583.9  583.2  583.5  3.178877e+06  1.854736e+09\n",
       "2024-12-03 10:22:00  583.6  583.7  582.1  582.2  3.332044e+06  1.942425e+09\n",
       "2024-12-03 10:23:00  582.3  582.7  580.6  582.2  4.873212e+06  2.833583e+09\n",
       "2024-12-03 10:24:00  582.4  583.5  581.3  582.7  2.740236e+06  1.596222e+09"
      ]
     },
     "execution_count": 80,
     "metadata": {},
     "output_type": "execute_result"
    }
   ],
   "source": [
    "df.head()"
   ]
  },
  {
   "cell_type": "code",
   "execution_count": 64,
   "metadata": {},
   "outputs": [],
   "source": [
    "# import matplotlib.pyplot as plt\n",
    "\n",
    "# plt.figure(figsize=(6,6))\n",
    "# plt.plot(df.index,df['high'],color = 'red')\n",
    "# plt.xlabel('time')\n",
    "# plt.ylabel('')"
   ]
  },
  {
   "cell_type": "code",
   "execution_count": 81,
   "metadata": {},
   "outputs": [
    {
     "data": {
      "text/plain": [
       "Text(0, 0.5, '')"
      ]
     },
     "execution_count": 81,
     "metadata": {},
     "output_type": "execute_result"
    },
    {
     "data": {
      "image/png": "[encoded data removed]",
      "text/plain": [
       "<Figure size 600x600 with 1 Axes>"
      ]
     },
     "metadata": {},
     "output_type": "display_data"
    }
   ],
   "source": [
    "import matplotlib.pyplot as plt\n",
    "\n",
    "plt.figure(figsize=(6,6))\n",
    "plt.plot(df.index,df['high'],color = 'red')\n",
    "plt.xlabel('time')\n",
    "plt.ylabel('')"
   ]
  },
  {
   "cell_type": "code",
   "execution_count": null,
   "metadata": {},
   "outputs": [],
   "source": []
  }
 ],
 "metadata": {
  "kernelspec": {
   "display_name": "base",
   "language": "python",
   "name": "python3"
  },
  "language_info": {
   "codemirror_mode": {
    "name": "ipython",
    "version": 3
   },
   "file_extension": ".py",
   "mimetype": "text/x-python",
   "name": "python",
   "nbconvert_exporter": "python",
   "pygments_lexer": "ipython3",
   "version": "3.12.4"
  }
 },
 "nbformat": 4,
 "nbformat_minor": 2
}
