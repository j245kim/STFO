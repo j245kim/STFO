{
 "cells": [
  {
   "cell_type": "code",
   "execution_count": 20,
   "metadata": {},
   "outputs": [],
   "source": [
    "import pyupbit\n",
    "import pandas as pd"
   ]
  },
  {
   "cell_type": "code",
   "execution_count": 43,
   "metadata": {},
   "outputs": [],
   "source": [
    "import json"
   ]
  },
  {
   "cell_type": "code",
   "execution_count": 47,
   "metadata": {},
   "outputs": [],
   "source": [
    "from langchain.text_splitter import CharacterTextSplitter\n"
   ]
  },
  {
   "cell_type": "code",
   "execution_count": 49,
   "metadata": {},
   "outputs": [],
   "source": [
    "from langchain.embeddings.openai import OpenAIEmbeddings\n"
   ]
  },
  {
   "cell_type": "code",
   "execution_count": 50,
   "metadata": {},
   "outputs": [
    {
     "data": {
      "text/plain": [
       "True"
      ]
     },
     "execution_count": 50,
     "metadata": {},
     "output_type": "execute_result"
    }
   ],
   "source": [
    "from dotenv import load_dotenv\n",
    "load_dotenv()"
   ]
  },
  {
   "cell_type": "code",
   "execution_count": 51,
   "metadata": {},
   "outputs": [],
   "source": [
    "embeddings = OpenAIEmbeddings()"
   ]
  },
  {
   "cell_type": "code",
   "execution_count": 52,
   "metadata": {},
   "outputs": [],
   "source": [
    "from langchain.vectorstores import FAISS\n"
   ]
  },
  {
   "cell_type": "code",
   "execution_count": 36,
   "metadata": {},
   "outputs": [],
   "source": [
    "import pandas as pd"
   ]
  },
  {
   "cell_type": "markdown",
   "metadata": {},
   "source": [
    "1.  pyupbit로 한달 코인 데이터 불러오기"
   ]
  },
  {
   "cell_type": "code",
   "execution_count": 10,
   "metadata": {},
   "outputs": [],
   "source": [
    "Bit_df_new = pyupbit.get_ohlcv(\"KRW-BTC\",count = 824, period=1,interval= \"minute60\", to=\"20241205\")\n",
    "Ether_df_new = pyupbit.get_ohlcv(\"KRW-ETH\",count = 824, period=1,interval= \"minute60\", to=\"20241205\")\n",
    "tether_df_new = pyupbit.get_ohlcv(\"KRW-USDT\",count = 824, period=1,interval= \"minute60\", to=\"20241205\")\n",
    "Doge_df_new = pyupbit.get_ohlcv(\"KRW-DOGE\",count = 824, period=1,interval= \"minute60\", to=\"20241205\")\n",
    "Sand_df_new = pyupbit.get_ohlcv(\"KRW-SAND\",count = 824, period=1,interval= \"minute60\", to=\"20241205\")\n",
    "XRP_df_new = pyupbit.get_ohlcv(\"KRW-XRP\",count = 824, period=1,interval= \"minute60\", to=\"20241205\")\n",
    "Solana_df_new = pyupbit.get_ohlcv(\"KRW-SOL\",count = 824, period=1,interval= \"minute60\", to=\"20241205\")\n",
    "Shib_df_new = pyupbit.get_ohlcv(\"KRW-SHIB\",count = 824, period=1,interval= \"minute60\", to=\"20241205\")"
   ]
  },
  {
   "cell_type": "markdown",
   "metadata": {},
   "source": [
    "2. 가져온 값 고가, 저가, 거래량으로 나누기"
   ]
  },
  {
   "cell_type": "code",
   "execution_count": 153,
   "metadata": {},
   "outputs": [],
   "source": [
    "coin_list = [Bit_df_new,Ether_df_new,tether_df_new,Doge_df_new,Sand_df_new,XRP_df_new,Solana_df_new,Shib_df_new]\n",
    "coin_list_name = ['Bit','Ether','tether','Doge','Sand','XRP','Solana','Shib']\n",
    "coin_list_high = []\n",
    "for i in coin_list:\n",
    "    coin_list_high.append(i['high'])\n",
    "\n",
    "df_coin_high_new = pd.concat(coin_list_high,axis=1,keys=coin_list_name)"
   ]
  },
  {
   "cell_type": "code",
   "execution_count": 154,
   "metadata": {},
   "outputs": [],
   "source": [
    "coin_list = [Bit_df_new,Ether_df_new,tether_df_new,Doge_df_new,Sand_df_new,XRP_df_new,Solana_df_new,Shib_df_new]\n",
    "coin_list_name = ['Bit','Ether','tether','Doge','Sand','XRP','Solana','Shib']\n",
    "coin_list_low = []\n",
    "for i in coin_list:\n",
    "    coin_list_low.append(i['low'])\n",
    "\n",
    "df_coin_low_new = pd.concat(coin_list_low,axis=1,keys=coin_list_name)"
   ]
  },
  {
   "cell_type": "code",
   "execution_count": 156,
   "metadata": {},
   "outputs": [],
   "source": [
    "coin_list = [Bit_df_new,Ether_df_new,tether_df_new,Doge_df_new,Sand_df_new,XRP_df_new,Solana_df_new,Shib_df_new]\n",
    "coin_list_name = ['Bit','Ether','tether','Doge','Sand','XRP','Solana','Shib']\n",
    "coin_list_volume = []\n",
    "for i in coin_list:\n",
    "    coin_list_volume.append(i['volume'])\n",
    "\n",
    "df_coin_volume_new = pd.concat(coin_list_volume,axis=1,keys=coin_list_name)"
   ]
  },
  {
   "cell_type": "code",
   "execution_count": 158,
   "metadata": {},
   "outputs": [
    {
     "data": {
      "text/html": [
       "<div>\n",
       "<style scoped>\n",
       "    .dataframe tbody tr th:only-of-type {\n",
       "        vertical-align: middle;\n",
       "    }\n",
       "\n",
       "    .dataframe tbody tr th {\n",
       "        vertical-align: top;\n",
       "    }\n",
       "\n",
       "    .dataframe thead th {\n",
       "        text-align: right;\n",
       "    }\n",
       "</style>\n",
       "<table border=\"1\" class=\"dataframe\">\n",
       "  <thead>\n",
       "    <tr style=\"text-align: right;\">\n",
       "      <th></th>\n",
       "      <th>Bit</th>\n",
       "      <th>Ether</th>\n",
       "      <th>tether</th>\n",
       "      <th>Doge</th>\n",
       "      <th>Sand</th>\n",
       "      <th>XRP</th>\n",
       "      <th>Solana</th>\n",
       "      <th>Shib</th>\n",
       "    </tr>\n",
       "  </thead>\n",
       "  <tbody>\n",
       "    <tr>\n",
       "      <th>2024-11-01 01:00:00</th>\n",
       "      <td>99045000.0</td>\n",
       "      <td>3582000.0</td>\n",
       "      <td>1398.0</td>\n",
       "      <td>232.9</td>\n",
       "      <td>346.0</td>\n",
       "      <td>716.5</td>\n",
       "      <td>238450.0</td>\n",
       "      <td>0.02562</td>\n",
       "    </tr>\n",
       "    <tr>\n",
       "      <th>2024-11-01 02:00:00</th>\n",
       "      <td>99000000.0</td>\n",
       "      <td>3581000.0</td>\n",
       "      <td>1399.0</td>\n",
       "      <td>233.1</td>\n",
       "      <td>346.0</td>\n",
       "      <td>714.5</td>\n",
       "      <td>238800.0</td>\n",
       "      <td>0.02542</td>\n",
       "    </tr>\n",
       "    <tr>\n",
       "      <th>2024-11-01 03:00:00</th>\n",
       "      <td>98977000.0</td>\n",
       "      <td>3559000.0</td>\n",
       "      <td>1401.0</td>\n",
       "      <td>232.7</td>\n",
       "      <td>342.0</td>\n",
       "      <td>712.0</td>\n",
       "      <td>238150.0</td>\n",
       "      <td>0.02531</td>\n",
       "    </tr>\n",
       "    <tr>\n",
       "      <th>2024-11-01 04:00:00</th>\n",
       "      <td>98827000.0</td>\n",
       "      <td>3539000.0</td>\n",
       "      <td>1399.0</td>\n",
       "      <td>229.8</td>\n",
       "      <td>342.0</td>\n",
       "      <td>710.7</td>\n",
       "      <td>238200.0</td>\n",
       "      <td>0.02528</td>\n",
       "    </tr>\n",
       "    <tr>\n",
       "      <th>2024-11-01 05:00:00</th>\n",
       "      <td>98231000.0</td>\n",
       "      <td>3535000.0</td>\n",
       "      <td>1399.0</td>\n",
       "      <td>225.0</td>\n",
       "      <td>340.0</td>\n",
       "      <td>712.9</td>\n",
       "      <td>237750.0</td>\n",
       "      <td>0.02514</td>\n",
       "    </tr>\n",
       "  </tbody>\n",
       "</table>\n",
       "</div>"
      ],
      "text/plain": [
       "                            Bit      Ether  tether   Doge   Sand    XRP  \\\n",
       "2024-11-01 01:00:00  99045000.0  3582000.0  1398.0  232.9  346.0  716.5   \n",
       "2024-11-01 02:00:00  99000000.0  3581000.0  1399.0  233.1  346.0  714.5   \n",
       "2024-11-01 03:00:00  98977000.0  3559000.0  1401.0  232.7  342.0  712.0   \n",
       "2024-11-01 04:00:00  98827000.0  3539000.0  1399.0  229.8  342.0  710.7   \n",
       "2024-11-01 05:00:00  98231000.0  3535000.0  1399.0  225.0  340.0  712.9   \n",
       "\n",
       "                       Solana     Shib  \n",
       "2024-11-01 01:00:00  238450.0  0.02562  \n",
       "2024-11-01 02:00:00  238800.0  0.02542  \n",
       "2024-11-01 03:00:00  238150.0  0.02531  \n",
       "2024-11-01 04:00:00  238200.0  0.02528  \n",
       "2024-11-01 05:00:00  237750.0  0.02514  "
      ]
     },
     "execution_count": 158,
     "metadata": {},
     "output_type": "execute_result"
    }
   ],
   "source": [
    "df_coin_high_new.head()"
   ]
  },
  {
   "cell_type": "markdown",
   "metadata": {},
   "source": [
    "3. csv파일으로 저장하기"
   ]
  },
  {
   "cell_type": "code",
   "execution_count": 16,
   "metadata": {},
   "outputs": [],
   "source": [
    "df_coin_high_new.to_csv('coin_high_new.csv',index=True)\n",
    "df_coin_low_new.to_csv('coin_low_new.csv',index=True)\n",
    "df_coin_volume_new.to_csv('coin_volume_new.csv',index=True)"
   ]
  },
  {
   "cell_type": "code",
   "execution_count": 17,
   "metadata": {},
   "outputs": [],
   "source": [
    "import json"
   ]
  },
  {
   "cell_type": "markdown",
   "metadata": {},
   "source": [
    "4. 크롤링한 데이터 json파일로 불러오기"
   ]
  },
  {
   "cell_type": "code",
   "execution_count": 58,
   "metadata": {},
   "outputs": [],
   "source": [
    "investing_path = 'C:\\github\\STFO\\Investing_Data.json'\n",
    "hankyung_path = 'C:\\github\\STFO\\Hankyung_Data.json'\n",
    "\n",
    "with open(investing_path,'r',encoding=\"utf-8\") as file:\n",
    "    data1 = json.load(file) \n",
    "\n",
    "with open(hankyung_path,'r',encoding=\"utf-8\") as file:\n",
    "    data2 = json.load(file) \n",
    "\n",
    "data_all = data1 + data2"
   ]
  },
  {
   "cell_type": "code",
   "execution_count": 81,
   "metadata": {},
   "outputs": [],
   "source": [
    "df1 = pd.read_json(investing_path, orient='records', encoding='utf-8', dtype='string')\n",
    "df2 = pd.read_json(hankyung_path, orient='records', encoding='utf-8', dtype='string')\n"
   ]
  },
  {
   "cell_type": "code",
   "execution_count": 84,
   "metadata": {},
   "outputs": [],
   "source": [
    "df1_1 = df1[['news_title', 'news_first_upload_time', 'news_last_upload_time', \n",
    "             'news_content', 'news_url', 'news_website']]"
   ]
  },
  {
   "cell_type": "code",
   "execution_count": 82,
   "metadata": {},
   "outputs": [],
   "source": [
    "df2_1 = df2[['news_title', 'news_first_upload_time', 'news_last_upload_time',  \n",
    "             'news_content', 'news_url', 'news_website']]\n"
   ]
  },
  {
   "cell_type": "code",
   "execution_count": 85,
   "metadata": {},
   "outputs": [],
   "source": [
    "df_combined = pd.concat([df1_1, df2_1], ignore_index=True)"
   ]
  },
  {
   "cell_type": "code",
   "execution_count": 86,
   "metadata": {},
   "outputs": [
    {
     "data": {
      "text/html": [
       "<div>\n",
       "<style scoped>\n",
       "    .dataframe tbody tr th:only-of-type {\n",
       "        vertical-align: middle;\n",
       "    }\n",
       "\n",
       "    .dataframe tbody tr th {\n",
       "        vertical-align: top;\n",
       "    }\n",
       "\n",
       "    .dataframe thead th {\n",
       "        text-align: right;\n",
       "    }\n",
       "</style>\n",
       "<table border=\"1\" class=\"dataframe\">\n",
       "  <thead>\n",
       "    <tr style=\"text-align: right;\">\n",
       "      <th></th>\n",
       "      <th>news_title</th>\n",
       "      <th>news_first_upload_time</th>\n",
       "      <th>news_last_upload_time</th>\n",
       "      <th>news_content</th>\n",
       "      <th>news_url</th>\n",
       "      <th>news_website</th>\n",
       "    </tr>\n",
       "  </thead>\n",
       "  <tbody>\n",
       "    <tr>\n",
       "      <th>0</th>\n",
       "      <td>XRP 가격이 10% 상승</td>\n",
       "      <td>2024-12-08 AM 01:06</td>\n",
       "      <td>&lt;NA&gt;</td>\n",
       "      <td>Investing.com - XRP 가격이 Investing.com Index에서 ...</td>\n",
       "      <td>https://kr.investing.com/news/cryptocurrency-n...</td>\n",
       "      <td>Investing</td>\n",
       "    </tr>\n",
       "    <tr>\n",
       "      <th>1</th>\n",
       "      <td>스탠다드차타드 \"비트코인, 내년까지 20만달러 돌파 가능\"</td>\n",
       "      <td>2024-12-07 PM 08:45</td>\n",
       "      <td>&lt;NA&gt;</td>\n",
       "      <td>비트코인\n",
       "(BTC)이 내년까지 20만달러를 돌파할 수 있다는 전망이 나왔다.\n",
       "6일(...</td>\n",
       "      <td>https://kr.investing.com/news/cryptocurrency-n...</td>\n",
       "      <td>Investing</td>\n",
       "    </tr>\n",
       "    <tr>\n",
       "      <th>2</th>\n",
       "      <td>\"바이낸스 상장으로 9.5배 수익\"…50대 노린 꼼수 사기 기승</td>\n",
       "      <td>2024-12-07 PM 06:00</td>\n",
       "      <td>&lt;NA&gt;</td>\n",
       "      <td>최근 가상자산 가격이 폭등하면서 ‘포모(Fear of Missing Out·FOMO...</td>\n",
       "      <td>https://kr.investing.com/news/cryptocurrency-n...</td>\n",
       "      <td>Investing</td>\n",
       "    </tr>\n",
       "    <tr>\n",
       "      <th>3</th>\n",
       "      <td>[코인 리포트] \"프로젝트 고문이 '가상자산 차르'\"…제로엑스(ZRX) 40% 급등</td>\n",
       "      <td>2024-12-07 AM 03:13</td>\n",
       "      <td>&lt;NA&gt;</td>\n",
       "      <td>백악관 내 가상자산 정책 전담 직책으로 신설돼 업계의 이목이 집중됐던 ‘가상자산 차...</td>\n",
       "      <td>https://kr.investing.com/news/cryptocurrency-n...</td>\n",
       "      <td>Investing</td>\n",
       "    </tr>\n",
       "    <tr>\n",
       "      <th>4</th>\n",
       "      <td>폴 앳킨스 SEC 위원장 지명 소식에 업계 \"대환영\"</td>\n",
       "      <td>2024-12-07 AM 01:22</td>\n",
       "      <td>&lt;NA&gt;</td>\n",
       "      <td>폴 앳킨스 전 미국 증권거래위원회(SEC) 위원의 차기 SEC 위원장 지명 소식에 ...</td>\n",
       "      <td>https://kr.investing.com/news/cryptocurrency-n...</td>\n",
       "      <td>Investing</td>\n",
       "    </tr>\n",
       "  </tbody>\n",
       "</table>\n",
       "</div>"
      ],
      "text/plain": [
       "                                       news_title news_first_upload_time  \\\n",
       "0                                  XRP 가격이 10% 상승    2024-12-08 AM 01:06   \n",
       "1                스탠다드차타드 \"비트코인, 내년까지 20만달러 돌파 가능\"    2024-12-07 PM 08:45   \n",
       "2             \"바이낸스 상장으로 9.5배 수익\"…50대 노린 꼼수 사기 기승    2024-12-07 PM 06:00   \n",
       "3  [코인 리포트] \"프로젝트 고문이 '가상자산 차르'\"…제로엑스(ZRX) 40% 급등    2024-12-07 AM 03:13   \n",
       "4                   폴 앳킨스 SEC 위원장 지명 소식에 업계 \"대환영\"    2024-12-07 AM 01:22   \n",
       "\n",
       "  news_last_upload_time                                       news_content  \\\n",
       "0                  <NA>  Investing.com - XRP 가격이 Investing.com Index에서 ...   \n",
       "1                  <NA>  비트코인\n",
       "(BTC)이 내년까지 20만달러를 돌파할 수 있다는 전망이 나왔다.\n",
       "6일(...   \n",
       "2                  <NA>  최근 가상자산 가격이 폭등하면서 ‘포모(Fear of Missing Out·FOMO...   \n",
       "3                  <NA>  백악관 내 가상자산 정책 전담 직책으로 신설돼 업계의 이목이 집중됐던 ‘가상자산 차...   \n",
       "4                  <NA>  폴 앳킨스 전 미국 증권거래위원회(SEC) 위원의 차기 SEC 위원장 지명 소식에 ...   \n",
       "\n",
       "                                            news_url news_website  \n",
       "0  https://kr.investing.com/news/cryptocurrency-n...    Investing  \n",
       "1  https://kr.investing.com/news/cryptocurrency-n...    Investing  \n",
       "2  https://kr.investing.com/news/cryptocurrency-n...    Investing  \n",
       "3  https://kr.investing.com/news/cryptocurrency-n...    Investing  \n",
       "4  https://kr.investing.com/news/cryptocurrency-n...    Investing  "
      ]
     },
     "execution_count": 86,
     "metadata": {},
     "output_type": "execute_result"
    }
   ],
   "source": [
    "df_combined.head()"
   ]
  },
  {
   "cell_type": "code",
   "execution_count": 87,
   "metadata": {},
   "outputs": [],
   "source": [
    "df_sorted = df_combined.sort_values(by=\"news_first_upload_time\", ascending=False)\n"
   ]
  },
  {
   "cell_type": "code",
   "execution_count": 88,
   "metadata": {},
   "outputs": [],
   "source": [
    "df_sorted_cleaned = df_sorted.dropna(subset=[\"news_title\"])"
   ]
  },
  {
   "cell_type": "code",
   "execution_count": 89,
   "metadata": {},
   "outputs": [],
   "source": [
    "df_final = df_sorted_cleaned.sort_values(by=\"news_first_upload_time\", ascending=False)"
   ]
  },
  {
   "cell_type": "code",
   "execution_count": 115,
   "metadata": {},
   "outputs": [
    {
     "data": {
      "text/plain": [
       "news_title                          가상자산 시장, 하루 6조 원 오갔다…상반기 거래소 영업이익 2배 껑충\n",
       "news_first_upload_time                                  2024-11-01 AM 01:18\n",
       "news_last_upload_time                                                  <NA>\n",
       "news_content              올해 상반기 국내 가상자산 시장에서 하루 평균 6조 원 규모의 거래가 이뤄졌다. 거...\n",
       "news_url                  https://kr.investing.com/news/cryptocurrency-n...\n",
       "news_website                                                      Investing\n",
       "Name: 383, dtype: string"
      ]
     },
     "execution_count": 115,
     "metadata": {},
     "output_type": "execute_result"
    }
   ],
   "source": [
    "df_final.iloc[522]"
   ]
  },
  {
   "cell_type": "markdown",
   "metadata": {},
   "source": [
    "5. 크롤링한 데이터 나누기"
   ]
  },
  {
   "cell_type": "code",
   "execution_count": null,
   "metadata": {},
   "outputs": [],
   "source": [
    "df_indexing = df_final.iloc[:522].reset_index(drop=True)"
   ]
  },
  {
   "cell_type": "code",
   "execution_count": null,
   "metadata": {},
   "outputs": [
    {
     "data": {
      "text/html": [
       "<div>\n",
       "<style scoped>\n",
       "    .dataframe tbody tr th:only-of-type {\n",
       "        vertical-align: middle;\n",
       "    }\n",
       "\n",
       "    .dataframe tbody tr th {\n",
       "        vertical-align: top;\n",
       "    }\n",
       "\n",
       "    .dataframe thead th {\n",
       "        text-align: right;\n",
       "    }\n",
       "</style>\n",
       "<table border=\"1\" class=\"dataframe\">\n",
       "  <thead>\n",
       "    <tr style=\"text-align: right;\">\n",
       "      <th></th>\n",
       "      <th>news_title</th>\n",
       "      <th>news_first_upload_time</th>\n",
       "      <th>news_last_upload_time</th>\n",
       "      <th>news_content</th>\n",
       "      <th>news_url</th>\n",
       "      <th>news_website</th>\n",
       "    </tr>\n",
       "  </thead>\n",
       "  <tbody>\n",
       "    <tr>\n",
       "      <th>0</th>\n",
       "      <td>XRP 가격이 10% 상승</td>\n",
       "      <td>2024-12-08 AM 01:06</td>\n",
       "      <td>&lt;NA&gt;</td>\n",
       "      <td>Investing.com - XRP 가격이 Investing.com Index에서 ...</td>\n",
       "      <td>https://kr.investing.com/news/cryptocurrency-n...</td>\n",
       "      <td>Investing</td>\n",
       "    </tr>\n",
       "    <tr>\n",
       "      <th>1</th>\n",
       "      <td>스탠다드차타드 \"비트코인, 내년까지 20만달러 돌파 가능\"</td>\n",
       "      <td>2024-12-07 PM 08:45</td>\n",
       "      <td>&lt;NA&gt;</td>\n",
       "      <td>비트코인\n",
       "(BTC)이 내년까지 20만달러를 돌파할 수 있다는 전망이 나왔다.\n",
       "6일(...</td>\n",
       "      <td>https://kr.investing.com/news/cryptocurrency-n...</td>\n",
       "      <td>Investing</td>\n",
       "    </tr>\n",
       "    <tr>\n",
       "      <th>2</th>\n",
       "      <td>해시드 이머전트, '인도 블록체인 위크 2024' 성황리 마쳐</td>\n",
       "      <td>2024-12-07 PM 07:06</td>\n",
       "      <td>2024-12-07 PM 07:06</td>\n",
       "      <td>인도 및 신흥시장 전문 웹3 벤처캐피털 해시드 이머전트(Hashed Emergent...</td>\n",
       "      <td>https://www.hankyung.com/article/202412071413g</td>\n",
       "      <td>Hankyung</td>\n",
       "    </tr>\n",
       "    <tr>\n",
       "      <th>3</th>\n",
       "      <td>\"바이낸스 상장으로 9.5배 수익\"…50대 노린 꼼수 사기 기승</td>\n",
       "      <td>2024-12-07 PM 06:00</td>\n",
       "      <td>&lt;NA&gt;</td>\n",
       "      <td>최근 가상자산 가격이 폭등하면서 ‘포모(Fear of Missing Out·FOMO...</td>\n",
       "      <td>https://kr.investing.com/news/cryptocurrency-n...</td>\n",
       "      <td>Investing</td>\n",
       "    </tr>\n",
       "    <tr>\n",
       "      <th>4</th>\n",
       "      <td>비트코인 10만달러 재탈환…이더리움도 '껑충'</td>\n",
       "      <td>2024-12-07 AM 11:13</td>\n",
       "      <td>2024-12-07 AM 11:13</td>\n",
       "      <td>가상화폐 대장주 비트코인 가격이 6일(현지시간) 10만 달러선을 재탈환했다. 시가총...</td>\n",
       "      <td>https://www.hankyung.com/article/2024120709145</td>\n",
       "      <td>Hankyung</td>\n",
       "    </tr>\n",
       "  </tbody>\n",
       "</table>\n",
       "</div>"
      ],
      "text/plain": [
       "                            news_title news_first_upload_time  \\\n",
       "0                       XRP 가격이 10% 상승    2024-12-08 AM 01:06   \n",
       "1     스탠다드차타드 \"비트코인, 내년까지 20만달러 돌파 가능\"    2024-12-07 PM 08:45   \n",
       "2   해시드 이머전트, '인도 블록체인 위크 2024' 성황리 마쳐    2024-12-07 PM 07:06   \n",
       "3  \"바이낸스 상장으로 9.5배 수익\"…50대 노린 꼼수 사기 기승    2024-12-07 PM 06:00   \n",
       "4            비트코인 10만달러 재탈환…이더리움도 '껑충'    2024-12-07 AM 11:13   \n",
       "\n",
       "  news_last_upload_time                                       news_content  \\\n",
       "0                  <NA>  Investing.com - XRP 가격이 Investing.com Index에서 ...   \n",
       "1                  <NA>  비트코인\n",
       "(BTC)이 내년까지 20만달러를 돌파할 수 있다는 전망이 나왔다.\n",
       "6일(...   \n",
       "2   2024-12-07 PM 07:06  인도 및 신흥시장 전문 웹3 벤처캐피털 해시드 이머전트(Hashed Emergent...   \n",
       "3                  <NA>  최근 가상자산 가격이 폭등하면서 ‘포모(Fear of Missing Out·FOMO...   \n",
       "4   2024-12-07 AM 11:13  가상화폐 대장주 비트코인 가격이 6일(현지시간) 10만 달러선을 재탈환했다. 시가총...   \n",
       "\n",
       "                                            news_url news_website  \n",
       "0  https://kr.investing.com/news/cryptocurrency-n...    Investing  \n",
       "1  https://kr.investing.com/news/cryptocurrency-n...    Investing  \n",
       "2     https://www.hankyung.com/article/202412071413g     Hankyung  \n",
       "3  https://kr.investing.com/news/cryptocurrency-n...    Investing  \n",
       "4     https://www.hankyung.com/article/2024120709145     Hankyung  "
      ]
     },
     "execution_count": 134,
     "metadata": {},
     "output_type": "execute_result"
    }
   ],
   "source": [
    "df_indexing.head()"
   ]
  },
  {
   "cell_type": "markdown",
   "metadata": {},
   "source": [
    "6. 뉴스데이터 json으로 저장하기"
   ]
  },
  {
   "cell_type": "code",
   "execution_count": 135,
   "metadata": {},
   "outputs": [],
   "source": [
    "df_indexing.to_json('data_indexing.json', orient=\"records\", indent=4, force_ascii=False)"
   ]
  }
 ],
 "metadata": {
  "kernelspec": {
   "display_name": "Langchain",
   "language": "python",
   "name": "python3"
  },
  "language_info": {
   "codemirror_mode": {
    "name": "ipython",
    "version": 3
   },
   "file_extension": ".py",
   "mimetype": "text/x-python",
   "name": "python",
   "nbconvert_exporter": "python",
   "pygments_lexer": "ipython3",
   "version": "3.11.10"
  }
 },
 "nbformat": 4,
 "nbformat_minor": 2
}
