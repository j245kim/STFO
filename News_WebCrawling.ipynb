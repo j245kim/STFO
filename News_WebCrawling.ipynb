{
 "cells": [
  {
   "cell_type": "code",
   "execution_count": 1,
   "metadata": {},
   "outputs": [
    {
     "name": "stdout",
     "output_type": "stream",
     "text": [
      "Collecting selenium\n",
      "  Downloading selenium-4.27.1-py3-none-any.whl.metadata (7.1 kB)\n",
      "Collecting urllib3<3,>=1.26 (from urllib3[socks]<3,>=1.26->selenium)\n",
      "  Using cached urllib3-2.2.3-py3-none-any.whl.metadata (6.5 kB)\n",
      "Collecting trio~=0.17 (from selenium)\n",
      "  Downloading trio-0.27.0-py3-none-any.whl.metadata (8.6 kB)\n",
      "Collecting trio-websocket~=0.9 (from selenium)\n",
      "  Downloading trio_websocket-0.11.1-py3-none-any.whl.metadata (4.7 kB)\n",
      "Collecting certifi>=2021.10.8 (from selenium)\n",
      "  Using cached certifi-2024.8.30-py3-none-any.whl.metadata (2.2 kB)\n",
      "Requirement already satisfied: typing_extensions~=4.9 in c:\\users\\rmarket\\anaconda3\\envs\\test\\lib\\site-packages (from selenium) (4.12.2)\n",
      "Collecting websocket-client~=1.8 (from selenium)\n",
      "  Downloading websocket_client-1.8.0-py3-none-any.whl.metadata (8.0 kB)\n",
      "Collecting attrs>=23.2.0 (from trio~=0.17->selenium)\n",
      "  Using cached attrs-24.2.0-py3-none-any.whl.metadata (11 kB)\n",
      "Collecting sortedcontainers (from trio~=0.17->selenium)\n",
      "  Downloading sortedcontainers-2.4.0-py2.py3-none-any.whl.metadata (10 kB)\n",
      "Collecting idna (from trio~=0.17->selenium)\n",
      "  Using cached idna-3.10-py3-none-any.whl.metadata (10 kB)\n",
      "Collecting outcome (from trio~=0.17->selenium)\n",
      "  Downloading outcome-1.3.0.post0-py2.py3-none-any.whl.metadata (2.6 kB)\n",
      "Collecting sniffio>=1.3.0 (from trio~=0.17->selenium)\n",
      "  Using cached sniffio-1.3.1-py3-none-any.whl.metadata (3.9 kB)\n",
      "Collecting cffi>=1.14 (from trio~=0.17->selenium)\n",
      "  Using cached cffi-1.17.1-cp311-cp311-win_amd64.whl.metadata (1.6 kB)\n",
      "Collecting wsproto>=0.14 (from trio-websocket~=0.9->selenium)\n",
      "  Downloading wsproto-1.2.0-py3-none-any.whl.metadata (5.6 kB)\n",
      "Collecting pysocks!=1.5.7,<2.0,>=1.5.6 (from urllib3[socks]<3,>=1.26->selenium)\n",
      "  Downloading PySocks-1.7.1-py3-none-any.whl.metadata (13 kB)\n",
      "Collecting pycparser (from cffi>=1.14->trio~=0.17->selenium)\n",
      "  Using cached pycparser-2.22-py3-none-any.whl.metadata (943 bytes)\n",
      "Collecting h11<1,>=0.9.0 (from wsproto>=0.14->trio-websocket~=0.9->selenium)\n",
      "  Using cached h11-0.14.0-py3-none-any.whl.metadata (8.2 kB)\n",
      "Downloading selenium-4.27.1-py3-none-any.whl (9.7 MB)\n",
      "   ---------------------------------------- 0.0/9.7 MB ? eta -:--:--\n",
      "   ----------------- ---------------------- 4.2/9.7 MB 22.9 MB/s eta 0:00:01\n",
      "   ---------------------------------------- 9.7/9.7 MB 25.2 MB/s eta 0:00:00\n",
      "Using cached certifi-2024.8.30-py3-none-any.whl (167 kB)\n",
      "Downloading trio-0.27.0-py3-none-any.whl (481 kB)\n",
      "Downloading trio_websocket-0.11.1-py3-none-any.whl (17 kB)\n",
      "Using cached urllib3-2.2.3-py3-none-any.whl (126 kB)\n",
      "Downloading websocket_client-1.8.0-py3-none-any.whl (58 kB)\n",
      "Using cached attrs-24.2.0-py3-none-any.whl (63 kB)\n",
      "Using cached cffi-1.17.1-cp311-cp311-win_amd64.whl (181 kB)\n",
      "Downloading PySocks-1.7.1-py3-none-any.whl (16 kB)\n",
      "Using cached sniffio-1.3.1-py3-none-any.whl (10 kB)\n",
      "Downloading wsproto-1.2.0-py3-none-any.whl (24 kB)\n",
      "Using cached idna-3.10-py3-none-any.whl (70 kB)\n",
      "Downloading outcome-1.3.0.post0-py2.py3-none-any.whl (10 kB)\n",
      "Downloading sortedcontainers-2.4.0-py2.py3-none-any.whl (29 kB)\n",
      "Using cached h11-0.14.0-py3-none-any.whl (58 kB)\n",
      "Using cached pycparser-2.22-py3-none-any.whl (117 kB)\n",
      "Installing collected packages: sortedcontainers, websocket-client, urllib3, sniffio, pysocks, pycparser, idna, h11, certifi, attrs, wsproto, outcome, cffi, trio, trio-websocket, selenium\n",
      "Successfully installed attrs-24.2.0 certifi-2024.8.30 cffi-1.17.1 h11-0.14.0 idna-3.10 outcome-1.3.0.post0 pycparser-2.22 pysocks-1.7.1 selenium-4.27.1 sniffio-1.3.1 sortedcontainers-2.4.0 trio-0.27.0 trio-websocket-0.11.1 urllib3-2.2.3 websocket-client-1.8.0 wsproto-1.2.0\n"
     ]
    }
   ],
   "source": [
    "!pip install selenium"
   ]
  },
  {
   "cell_type": "code",
   "execution_count": 42,
   "metadata": {},
   "outputs": [
    {
     "name": "stdout",
     "output_type": "stream",
     "text": [
      "Collecting beautifulsoup4\n",
      "  Using cached beautifulsoup4-4.12.3-py3-none-any.whl.metadata (3.8 kB)\n",
      "Collecting soupsieve>1.2 (from beautifulsoup4)\n",
      "  Using cached soupsieve-2.6-py3-none-any.whl.metadata (4.6 kB)\n",
      "Using cached beautifulsoup4-4.12.3-py3-none-any.whl (147 kB)\n",
      "Using cached soupsieve-2.6-py3-none-any.whl (36 kB)\n",
      "Installing collected packages: soupsieve, beautifulsoup4\n",
      "Successfully installed beautifulsoup4-4.12.3 soupsieve-2.6\n"
     ]
    }
   ],
   "source": [
    "!pip install beautifulsoup4"
   ]
  },
  {
   "cell_type": "code",
   "execution_count": 35,
   "metadata": {},
   "outputs": [
    {
     "name": "stdout",
     "output_type": "stream",
     "text": [
      "Collecting requests\n",
      "  Using cached requests-2.32.3-py3-none-any.whl.metadata (4.6 kB)\n",
      "Collecting charset-normalizer<4,>=2 (from requests)\n",
      "  Using cached charset_normalizer-3.4.0-cp311-cp311-win_amd64.whl.metadata (34 kB)\n",
      "Requirement already satisfied: idna<4,>=2.5 in c:\\users\\rmarket\\anaconda3\\envs\\test\\lib\\site-packages (from requests) (3.10)\n",
      "Requirement already satisfied: urllib3<3,>=1.21.1 in c:\\users\\rmarket\\anaconda3\\envs\\test\\lib\\site-packages (from requests) (2.2.3)\n",
      "Requirement already satisfied: certifi>=2017.4.17 in c:\\users\\rmarket\\anaconda3\\envs\\test\\lib\\site-packages (from requests) (2024.8.30)\n",
      "Using cached requests-2.32.3-py3-none-any.whl (64 kB)\n",
      "Using cached charset_normalizer-3.4.0-cp311-cp311-win_amd64.whl (101 kB)\n",
      "Installing collected packages: charset-normalizer, requests\n",
      "Successfully installed charset-normalizer-3.4.0 requests-2.32.3\n"
     ]
    }
   ],
   "source": [
    "!pip install requests"
   ]
  },
  {
   "cell_type": "markdown",
   "metadata": {},
   "source": [
    "# 라이브러리"
   ]
  },
  {
   "cell_type": "code",
   "execution_count": 57,
   "metadata": {},
   "outputs": [],
   "source": [
    "# 파이썬 표준 라이브러리\n",
    "import os\n",
    "import requests\n",
    "import re\n",
    "from time import time\n",
    "from concurrent import futures\n",
    "\n",
    "# 파이썬 서드파티 라이브러리\n",
    "from bs4 import BeautifulSoup\n",
    "import selenium\n",
    "from selenium import webdriver\n",
    "from selenium.webdriver import ActionChains\n",
    "from selenium.webdriver.common.keys import Keys\n",
    "from selenium.webdriver.common.by import By\n",
    "from selenium.webdriver.support import expected_conditions as EC\n",
    "from selenium.webdriver.support.ui import Select\n",
    "from selenium.webdriver.support.ui import WebDriverWait\n",
    "from selenium.webdriver.chrome.options import Options\n",
    "# from selenium.webdriver.chrome.service import Service\n",
    "# from webdriver_manager.chrome import ChromeDriverManager"
   ]
  },
  {
   "cell_type": "markdown",
   "metadata": {},
   "source": [
    "# 전역 변수"
   ]
  },
  {
   "cell_type": "code",
   "execution_count": 6,
   "metadata": {},
   "outputs": [
    {
     "name": "stdout",
     "output_type": "stream",
     "text": [
      "8\n"
     ]
    }
   ],
   "source": [
    "# cpu 갯수\n",
    "workers = os.cpu_count()\n",
    "print(workers)"
   ]
  },
  {
   "cell_type": "code",
   "execution_count": null,
   "metadata": {},
   "outputs": [],
   "source": [
    "news_websites_dict = {\n",
    "                    'investing': 'https://kr.investing.com/news/cryptocurrency-news',\n",
    "                    'hankyung': 'https://www.hankyung.com/koreamarket/news/crypto',\n",
    "                    'bloomingbit': 'https://bloomingbit.io/feed',\n",
    "                    'coinness': 'https://coinness.com/',\n",
    "                    'coinreaders': 'https://www.coinreaders.com/',\n",
    "                    'cryptonews': 'https://cryptonews.com/kr/news/',\n",
    "                      }"
   ]
  },
  {
   "cell_type": "code",
   "execution_count": 19,
   "metadata": {},
   "outputs": [],
   "source": [
    "# Chrome 옵션 설정\n",
    "options = Options()\n",
    "options.add_argument(\"--headless\")\n",
    "options.add_argument(\"--disable-gpu\")\n",
    "options.add_argument(\"--no-sandbox\")\n",
    "options.add_argument(\"--disable-dev-shm-usage\")"
   ]
  },
  {
   "cell_type": "markdown",
   "metadata": {},
   "source": [
    "# 함수"
   ]
  },
  {
   "cell_type": "code",
   "execution_count": null,
   "metadata": {},
   "outputs": [],
   "source": [
    "def crawling(website: str):\n",
    "    \"\"\"Crawling을 하는 함수\n",
    "\n",
    "    Args:\n",
    "        website: 웹사이트 이름, str\n",
    "\n",
    "    Returns:\n",
    "\n",
    "    \"\"\"\n",
    "\n",
    "    assert website in news_websites_dict, f'{website} is not target website.'\n",
    "\n",
    "    driver = webdriver.Chrome(service=service, options=options)\n",
    "\n",
    "    match website:\n",
    "        case 'investing':\n",
    "            web_page = 'https://kr.investing.com/news/cryptocurrency-news'\n",
    "            page_num = 1\n",
    "            # 웹 페이지 열기\n",
    "            while True:\n",
    "                driver.get(web_page)\n",
    "                driver.find_element()\n",
    "                driver.find_element_by_xpath('//*[@id=\"google_search\"]')\n",
    "\n",
    "        case 'hankyung':\n",
    "\n",
    "\n",
    "        case 'bloomingbit':\n",
    "\n",
    "        case 'coinness':\n",
    "\n",
    "        case 'coinreaders':\n",
    "\n",
    "        case 'cryptonews':\n",
    "\n",
    "    driver = webdriver.Chrome()\n",
    "    # 웹 페이지 열기\n",
    "    driver.get(\"https://www.google.com\")\n",
    "\n",
    "    # 페이지가 완전히 로딩되도록 3초동안 기다림\n",
    "    time.sleep(3)\n"
   ]
  },
  {
   "cell_type": "markdown",
   "metadata": {},
   "source": [
    "# Main"
   ]
  },
  {
   "cell_type": "code",
   "execution_count": null,
   "metadata": {},
   "outputs": [],
   "source": [
    "with futures.THreadPoolExecuteor(workers=workers) as executor:\n",
    "    future_to_url = {executor.submit(crawling, url, 60): url for url in news_websites_dict}\n",
    "\n",
    "    results = []\n",
    "    for future in futures.as_completed(future_to_url):\n",
    "        response = future_to_url[future]\n",
    "        try:\n",
    "            data = response.result()\n",
    "            results.append(data)\n",
    "            print(f'{response} is complete.')\n",
    "        except Exception as exc:\n",
    "            print('%r generated an exception: %s' % (response, exc))\n",
    "        else:\n",
    "            print('%r page is %d bytes' % (response, len(data)))"
   ]
  },
  {
   "cell_type": "code",
   "execution_count": null,
   "metadata": {},
   "outputs": [],
   "source": [
    "results"
   ]
  },
  {
   "cell_type": "code",
   "execution_count": 37,
   "metadata": {},
   "outputs": [],
   "source": [
    "driver = webdriver.Chrome(options=options)\n",
    "web_page = 'https://kr.investing.com/news/cryptocurrency-news'\n",
    "page_num = 1\n",
    "\n",
    "# 웹 페이지 열기\n",
    "driver.get(web_page)\n",
    "elements = driver.find_elements(By.CSS_SELECTOR, \"a[data-test='article-title-link']\")"
   ]
  },
  {
   "cell_type": "code",
   "execution_count": 75,
   "metadata": {},
   "outputs": [
    {
     "name": "stdout",
     "output_type": "stream",
     "text": [
      "파월 의장 \"비트코인, 달러 아닌 금과 경쟁\"\n",
      "2024- 12- 06- 오전 12:52\n",
      "[<p> </p>, <p>제롬 파월 미국 연방준비제도 의장이 <span class=\"aqPopupWrapper js-hover-me-wrapper\"><a class=\"aqlink js-hover-me\" data-pairid=\"1057391\" hoverme=\"aql\" href=\"/crypto/bitcoin\" id=\"675163ca7e025\">비트코인</a></span>(BTC)을 금과 비교 대상으로 언급하면서 BTC 가격이 상승세를 보였다.</p>, <p>4일(현지시간) 더블록은 파월 연준 의장이 뉴욕타임스 딜북 행사에서 “사람들이 BTC를 결제 수단이 아닌 투기 자산으로 사용하고 있다”며 “BTC는 변동성이 너무 커 달러와 같은 가치 저장 수단이 되기는 어렵다”고 밝혔다고 보도했다. 그는 “BTC는 가상이고, 디지털일 뿐이므로 달러를 대체할 수 없다”며 “BTC의 경쟁자는 금”이라고 강조했다.</p>, <p>파월 의장의 발언 이후 BTC는 10시간 동안 7.9% 상승하며 10만 달러를 돌파했다. 현재 BTC의 시가총액은 2조 433억 6772만 9294달러로, 전 세계 자산 중 7위 규모를 기록하고 있다.</p>, <p>이날 행사에서 파월 의장은 “기존 은행의 건전성을 해치지 않는 선에서 가상자산 기업과 은행의 거래는 허용될 수 있다”며 \"연준이 직접 가상자산을 규제하지는 않을 것\"이라고 말했다. 그는 가상자산을 개인적으로 소유할 의향이 있냐는 질문에는 “그럴 수 없다\"고 답했다.</p>, <p>파월 의장은 지난 2021년 “연준은 BTC를 금지하지 않을 것”이라고 밝혔다. 지난해 6월에는 의원들에게 “BTC가 지속적으로 영향을 미치고 있다”고 언급한 바 있다.</p>, <p>한편 도널드 트럼프 미국 대통령 당선인의 연준 통화정책 비판과 관련해 파월 의장은 지난달 \"연준은 정치적 압력으로부터 독립성을 보장받도록 설계된 기관\"이라며 \"트럼프 당선인의 사임 압력에도 임기를 완수하겠다\"는 입장을 밝혔다.</p>, <p><a href=\"https://decenter.kr/NewsView/2DI055QTWF/GZ0304\" rel=\"nofollow\" target=\"_blank\">디센터에서 읽기</a></p>]\n"
     ]
    }
   ],
   "source": [
    "data = []\n",
    "\n",
    "for ele in elements:\n",
    "    info = {}\n",
    "    url = ele.get_attribute(\"href\")\n",
    "    html = requests.get(url).text\n",
    "    soup = BeautifulSoup(html, 'html.parser')\n",
    "\n",
    "    title = soup.find('h1', id='articleTitle').text\n",
    "\n",
    "    start_time = None\n",
    "    div = soup.find_all('div', {'class': 'flex flex-row items-center'})\n",
    "    span = div[1].find('span')\n",
    "    end_time = re.split(r'\\s+\\r\\n\\s+', span.text)[1]\n",
    "\n",
    "    author = None\n",
    "\n",
    "    div = soup.find('div', id='article')\n",
    "    news_content = div.find_all('p')\n",
    "\n",
    "\n",
    "    info['news_title'] = title\n",
    "    info['news_upload_start_time'] = start_time\n",
    "    info['news_upload_end_time'] = end_time\n",
    "    info['author'] = author\n",
    "\n",
    "    info['news_url'] = url\n",
    "    info['news_website'] = 'investing'\n",
    "\n",
    "\n",
    "    print(title)\n",
    "    print(end_time)\n",
    "    print(news_content)\n",
    "    break"
   ]
  },
  {
   "cell_type": "code",
   "execution_count": 76,
   "metadata": {},
   "outputs": [],
   "source": [
    "if '읽기' in news_content[-1]:\n",
    "    del news_content[-1]\n",
    "\n",
    "i = -1\n",
    "\n",
    "for t in news_content[:]:\n",
    "    t = re.sub(r'\\s+', '', t.text)\n",
    "    if t != '':\n",
    "        break\n",
    "    i += 1"
   ]
  },
  {
   "cell_type": "code",
   "execution_count": 77,
   "metadata": {},
   "outputs": [
    {
     "name": "stdout",
     "output_type": "stream",
     "text": [
      " \n",
      "\n",
      "제롬 파월 미국 연방준비제도 의장이 비트코인(BTC)을 금과 비교 대상으로 언급하면서 BTC 가격이 상승세를 보였다.\n",
      "\n",
      "4일(현지시간) 더블록은 파월 연준 의장이 뉴욕타임스 딜북 행사에서 “사람들이 BTC를 결제 수단이 아닌 투기 자산으로 사용하고 있다”며 “BTC는 변동성이 너무 커 달러와 같은 가치 저장 수단이 되기는 어렵다”고 밝혔다고 보도했다. 그는 “BTC는 가상이고, 디지털일 뿐이므로 달러를 대체할 수 없다”며 “BTC의 경쟁자는 금”이라고 강조했다.\n",
      "\n",
      "파월 의장의 발언 이후 BTC는 10시간 동안 7.9% 상승하며 10만 달러를 돌파했다. 현재 BTC의 시가총액은 2조 433억 6772만 9294달러로, 전 세계 자산 중 7위 규모를 기록하고 있다.\n",
      "\n",
      "이날 행사에서 파월 의장은 “기존 은행의 건전성을 해치지 않는 선에서 가상자산 기업과 은행의 거래는 허용될 수 있다”며 \"연준이 직접 가상자산을 규제하지는 않을 것\"이라고 말했다. 그는 가상자산을 개인적으로 소유할 의향이 있냐는 질문에는 “그럴 수 없다\"고 답했다.\n",
      "\n",
      "파월 의장은 지난 2021년 “연준은 BTC를 금지하지 않을 것”이라고 밝혔다. 지난해 6월에는 의원들에게 “BTC가 지속적으로 영향을 미치고 있다”고 언급한 바 있다.\n",
      "\n",
      "한편 도널드 트럼프 미국 대통령 당선인의 연준 통화정책 비판과 관련해 파월 의장은 지난달 \"연준은 정치적 압력으로부터 독립성을 보장받도록 설계된 기관\"이라며 \"트럼프 당선인의 사임 압력에도 임기를 완수하겠다\"는 입장을 밝혔다.\n",
      "\n",
      "디센터에서 읽기\n",
      "\n"
     ]
    }
   ],
   "source": [
    "for t in news_content[i:]:\n",
    "    text = t.text\n",
    "    print(text)\n",
    "    print()"
   ]
  },
  {
   "cell_type": "code",
   "execution_count": null,
   "metadata": {},
   "outputs": [],
   "source": [
    "news_content"
   ]
  }
 ],
 "metadata": {
  "kernelspec": {
   "display_name": "test",
   "language": "python",
   "name": "python3"
  },
  "language_info": {
   "codemirror_mode": {
    "name": "ipython",
    "version": 3
   },
   "file_extension": ".py",
   "mimetype": "text/x-python",
   "name": "python",
   "nbconvert_exporter": "python",
   "pygments_lexer": "ipython3",
   "version": "3.11.10"
  }
 },
 "nbformat": 4,
 "nbformat_minor": 2
}
