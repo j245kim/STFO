{
 "cells": [
  {
   "cell_type": "code",
   "execution_count": 13,
   "metadata": {
    "colab": {
     "base_uri": "https://localhost:8080/"
    },
    "executionInfo": {
     "elapsed": 14345,
     "status": "ok",
     "timestamp": 1733586568195,
     "user": {
      "displayName": "Seung Hoon Lee",
      "userId": "06197787624635186839"
     },
     "user_tz": -540
    },
    "id": "9HokvFOG2ICx",
    "outputId": "d9c303a8-dc89-45cc-941a-e5b735d02dcd"
   },
   "outputs": [],
   "source": [
    "# !pip install requests"
   ]
  },
  {
   "cell_type": "code",
   "execution_count": 14,
   "metadata": {
    "colab": {
     "base_uri": "https://localhost:8080/"
    },
    "executionInfo": {
     "elapsed": 10814,
     "status": "ok",
     "timestamp": 1733586579007,
     "user": {
      "displayName": "Seung Hoon Lee",
      "userId": "06197787624635186839"
     },
     "user_tz": -540
    },
    "id": "oKtWa7v02ICx",
    "outputId": "010a47b4-bff7-4ac7-e294-59fc0f062de2"
   },
   "outputs": [],
   "source": [
    "# !pip install beautifulsoup4"
   ]
  },
  {
   "cell_type": "code",
   "execution_count": 15,
   "metadata": {
    "colab": {
     "base_uri": "https://localhost:8080/"
    },
    "executionInfo": {
     "elapsed": 6792,
     "status": "ok",
     "timestamp": 1733586585797,
     "user": {
      "displayName": "Seung Hoon Lee",
      "userId": "06197787624635186839"
     },
     "user_tz": -540
    },
    "id": "2Zf1EfhFiiH9",
    "outputId": "6c49166f-fa78-4ce8-be90-231ebe539291"
   },
   "outputs": [],
   "source": [
    "# !pip install tqdm"
   ]
  },
  {
   "cell_type": "code",
   "execution_count": 16,
   "metadata": {
    "colab": {
     "base_uri": "https://localhost:8080/"
    },
    "executionInfo": {
     "elapsed": 6689,
     "status": "ok",
     "timestamp": 1733586592483,
     "user": {
      "displayName": "Seung Hoon Lee",
      "userId": "06197787624635186839"
     },
     "user_tz": -540
    },
    "id": "QTKX8KU0isEP",
    "outputId": "151ddd56-2e75-4602-b25e-9428e1d4ef47"
   },
   "outputs": [],
   "source": [
    "# !pip install pandas"
   ]
  },
  {
   "cell_type": "markdown",
   "metadata": {
    "id": "dcXucBjY20Ci"
   },
   "source": [
    "# 문제점\n",
    "\n",
    "1. 암호화폐 뉴스 사이트들 대부분이 서로 크롤링 하는 경우가 많아서 이미 해당 사건으로부터 몇 십분에서 몇 시간, 며칠이 지난 후에 뉴스가 올라오는 경우가 되게 많음\n",
    "\n",
    "예: A사이트는 B사이트를 크롤링해서 뉴스 게재 -> B사이트는 C사이트를 크롤링해서 뉴스 게재 -> C사이트는 A사이트를 크롤링해서 게재\n",
    "\n",
    "2. 원인 불명의 문제로 인해 크롤링할 때 일부 뉴스 데이터들이 누락"
   ]
  },
  {
   "cell_type": "markdown",
   "metadata": {
    "id": "4H1DYrC82ICy"
   },
   "source": [
    "# 라이브러리"
   ]
  },
  {
   "cell_type": "code",
   "execution_count": 17,
   "metadata": {
    "executionInfo": {
     "elapsed": 250,
     "status": "ok",
     "timestamp": 1733665110553,
     "user": {
      "displayName": "Seung Hoon Lee",
      "userId": "06197787624635186839"
     },
     "user_tz": -540
    },
    "id": "auvaotrw2ICz"
   },
   "outputs": [],
   "source": [
    "# 파이썬 표준 라이브러리\n",
    "import os\n",
    "import json\n",
    "import re\n",
    "import random\n",
    "import time\n",
    "import traceback\n",
    "from datetime import datetime\n",
    "from functools import partial\n",
    "from concurrent import futures\n",
    "\n",
    "# 파이썬 서드파티 라이브러리\n",
    "import requests\n",
    "import bs4\n",
    "from bs4 import BeautifulSoup\n",
    "from tqdm import tqdm\n",
    "\n",
    "import pandas as pd"
   ]
  },
  {
   "cell_type": "markdown",
   "metadata": {
    "id": "tmXGHL6A2IC2"
   },
   "source": [
    "# 전역 변수"
   ]
  },
  {
   "cell_type": "code",
   "execution_count": null,
   "metadata": {
    "colab": {
     "base_uri": "https://localhost:8080/"
    },
    "executionInfo": {
     "elapsed": 5,
     "status": "ok",
     "timestamp": 1733653287009,
     "user": {
      "displayName": "Seung Hoon Lee",
      "userId": "06197787624635186839"
     },
     "user_tz": -540
    },
    "id": "PGEBuqd12IC4",
    "outputId": "f36b1f0a-eccc-49ae-c240-8a6da0ff8457"
   },
   "outputs": [],
   "source": [
    "# cpu 갯수\n",
    "workers = os.cpu_count()\n",
    "print(workers)"
   ]
  },
  {
   "cell_type": "code",
   "execution_count": 19,
   "metadata": {
    "executionInfo": {
     "elapsed": 3,
     "status": "ok",
     "timestamp": 1733653287009,
     "user": {
      "displayName": "Seung Hoon Lee",
      "userId": "06197787624635186839"
     },
     "user_tz": -540
    },
    "id": "qHdZy9_T2IC6"
   },
   "outputs": [],
   "source": [
    "news_websites_dict = {\n",
    "                        'Investing': 'https://kr.investing.com/news/cryptocurrency-news',\n",
    "                        'Hankyung': 'https://www.hankyung.com/koreamarket/news/crypto',\n",
    "                        'Bloomingbit': 'https://bloomingbit.io/feed',\n",
    "                        'Coinreaders': 'https://www.coinreaders.com/'\n",
    "                      }"
   ]
  },
  {
   "cell_type": "code",
   "execution_count": 20,
   "metadata": {
    "executionInfo": {
     "elapsed": 263,
     "status": "ok",
     "timestamp": 1733671665384,
     "user": {
      "displayName": "Seung Hoon Lee",
      "userId": "06197787624635186839"
     },
     "user_tz": -540
    },
    "id": "aYVn0-Sh2IC9"
   },
   "outputs": [],
   "source": [
    "# User-Agent 변경을 위한 옵션 설정\n",
    "user_agent = \"Mozilla/5.0 (Windows NT 10.0; Win64; x64) AppleWebKit/537.36 (KHTML, like Gecko) Chrome/91.0.4472.124 Safari/537.36\"\n",
    "headers = {'User-Agent': user_agent}\n",
    "\n",
    "# requests 파라미터\n",
    "allow_redirects = True\n",
    "timeout = 90\n",
    "\n",
    "# 경로\n",
    "investing_path = r'C:\\Users\\User\\Desktop\\STFO_Project\\Data\\Investing_Data.json'\n",
    "hankyung_path = r'C:\\Users\\User\\Desktop\\STFO_Project\\Data\\Hankyung_Data.json'"
   ]
  },
  {
   "cell_type": "markdown",
   "metadata": {
    "id": "bxDIDmyG2IDA"
   },
   "source": [
    "# 함수"
   ]
  },
  {
   "cell_type": "code",
   "execution_count": 21,
   "metadata": {
    "executionInfo": {
     "elapsed": 395,
     "status": "ok",
     "timestamp": 1733669946448,
     "user": {
      "displayName": "Seung Hoon Lee",
      "userId": "06197787624635186839"
     },
     "user_tz": -540
    },
    "id": "jdcV0NWCW0rV"
   },
   "outputs": [],
   "source": [
    "def investing(news_url_tag: bs4.element.Tag, headers: dict[str, str], allow_redirects: bool, timeout: int,\n",
    "              p0:re.Pattern, p1: re.Pattern, p2: re.Pattern, p3: re.Pattern) -> dict[str, str, None] | None:\n",
    "    \"\"\"뉴스 URL을 바탕으로 크롤링을 하는 함수\n",
    "\n",
    "    Args:\n",
    "        news_url_tag: 뉴스 URL 태그\n",
    "        headers: 식별 정보\n",
    "        allow_redirects: 리다이렉트 허용 여부\n",
    "        timeout: 타임아웃 허용 시간\n",
    "        p0: \"입력: \\r\\n 2024- 12- 07- 오후 08:45\"와같은 텍스트에서 ' \\r\\n '를 기준으로 분리하는 패턴\n",
    "        p1: 디셉터에서 읽기 / Provided COINNESS / 이승훈 기자 123@gmail.com 등의 불필요한 텍스트 패턴\n",
    "        p2: \"발표했습니다.그리고\"와 같이 마침표 다음에 유니코드 문자열이 바로 붙어있는 텍스트 패턴\n",
    "        p3: \"\\xa0\"가 1개 이상 연달아 붙어있는 텍스트 패턴\n",
    "\n",
    "    Returns:\n",
    "        {\n",
    "            \"news_title\": 뉴스 제목, str\n",
    "            \"news_first_upload_time\": 뉴스 최초 업로드 시각, str | None\n",
    "            \"newsfinal_upload_time\": 뉴스 최종 수정 시각, str | None\n",
    "            \"author\": 뉴스 작성자, str | None\n",
    "            \"news_content\": 뉴스 본문, str\n",
    "            \"news_url\": 뉴스 URL, str\n",
    "            \"news_website\": 뉴스 웹사이트, str\n",
    "            \"note\": 비고, str | None\n",
    "        }\n",
    "\n",
    "        or\n",
    "\n",
    "        None\n",
    "    \"\"\"\n",
    "    info = {} # 뉴스 데이터 정보 Dictionary\n",
    "\n",
    "    # news_url를 찾아서 requests로 HTML GET\n",
    "    url = news_url_tag.find(\"a\")[\"href\"]\n",
    "    html = requests.get(url, headers=headers, allow_redirects=allow_redirects, timeout=timeout)\n",
    "    # HTML 문서 정보를 불러오는 것에 실패하면 None 반환\n",
    "    if html is None:\n",
    "        return None\n",
    "    else:\n",
    "        html = html.text\n",
    "    # BeautifulSoup로 parser\n",
    "    soup = BeautifulSoup(html, 'html.parser')\n",
    "\n",
    "    # 1. 뉴스 데이터의 제목\n",
    "    title = soup.find('h1', id='articleTitle')\n",
    "    if title is None:\n",
    "        title = None\n",
    "    else:\n",
    "        title = title.text\n",
    "\n",
    "    # 2. 뉴스 데이터의 최초 업로드 시각과 최종 수정 시각\n",
    "    div = soup.find_all('div', {'class': 'flex flex-row items-center'})\n",
    "    if div:\n",
    "        span = div[1].find('span')\n",
    "        if span is None:\n",
    "            first_upload_time = None\n",
    "        else:\n",
    "            span = span.text\n",
    "            first_upload_time_list = p0.split(span)[1].split()\n",
    "            y_m_d = '-'.join(times[:-1] for times in first_upload_time_list[:3])\n",
    "            if first_upload_time_list[3] == '오전':\n",
    "                ap = 'AM'\n",
    "            else:\n",
    "                ap = 'PM'\n",
    "\n",
    "            first_upload_time = y_m_d + ' ' + ap + ' ' + first_upload_time_list[4]\n",
    "        last_upload_time = None\n",
    "    else:\n",
    "        first_upload_time = None\n",
    "        last_upload_time = None\n",
    "\n",
    "    # 3. 뉴스 데이터의 기사 작성자\n",
    "    author = None\n",
    "\n",
    "    # 4. 뉴스 데이터의 본문\n",
    "    article = soup.find('div', id='article')\n",
    "    if article is None:\n",
    "        content = ''\n",
    "    else:\n",
    "        while article.find(\"td\") is not None:\n",
    "            article.find(\"td\").decompose()\n",
    "        news_content = article.get_text(separator=\"\\n\", strip=True).split('\\n')\n",
    "        # 뉴스 데이터 본문의 데이터 전처리1\n",
    "        # 디셉터에서 읽기 / Provided COINNESS / 이승훈 기자 123@gmail.com 등의 불필요한 텍스트 제거\n",
    "        while True:\n",
    "            if news_content and p1.search(string=news_content[-1]) is not None:\n",
    "                del news_content[-1]\n",
    "                continue\n",
    "            break\n",
    "        # 뉴스 데이터 본문의 데이터 전처리2\n",
    "        # - 하나의 텍스트로 결합한 다음, 맨 앞/뒤의 화이트스페이스(whitespace) 문자 제거\n",
    "        # - \"발표했습니다.그리고\"와 같이 마침표 다음에 유니코드 문자열이 바로 붙어있는 경우, 띄어쓰기 보정\n",
    "        # - \"\\xa0\"를 \" \"로 변경\n",
    "        content = '\\n'.join(news_content)\n",
    "        content = p2.sub(repl=r'\\g<1>. \\g<2>', string=content)\n",
    "        content = p3.sub(repl=' ', string=content)\n",
    "        content = content.strip(' \\t\\n\\r\\f\\v')\n",
    "\n",
    "    # 5. 뉴스 웹사이트 이름\n",
    "    website = 'Investing'\n",
    "\n",
    "    # 6. 비고\n",
    "    note = None\n",
    "\n",
    "    info['news_title'] = title\n",
    "    info['news_first_upload_time'] = first_upload_time\n",
    "    info['news_last_upload_time'] = last_upload_time\n",
    "    info['author'] = author\n",
    "    info['news_content'] = content\n",
    "    info['news_url'] = url\n",
    "    info['news_website'] = website\n",
    "    info['note'] = note\n",
    "\n",
    "    return info"
   ]
  },
  {
   "cell_type": "code",
   "execution_count": 22,
   "metadata": {
    "executionInfo": {
     "elapsed": 2,
     "status": "ok",
     "timestamp": 1733669946843,
     "user": {
      "displayName": "Seung Hoon Lee",
      "userId": "06197787624635186839"
     },
     "user_tz": -540
    },
    "id": "3MFKvcUcUq9_"
   },
   "outputs": [],
   "source": [
    "def hankyung(news_url_tag: bs4.element.Tag, headers: dict[str, str], allow_redirects: bool, timeout: int,\n",
    "              p0:re.Pattern) -> dict[str, str, None] | None:\n",
    "    \"\"\"뉴스 URL을 바탕으로 크롤링을 하는 함수\n",
    "\n",
    "    Args:\n",
    "        news_url_tag: 뉴스 URL 태그\n",
    "        headers: 식별 정보\n",
    "        allow_redirects: 리다이렉트 허용 여부\n",
    "        timeout: 타임아웃 허용 시간\n",
    "        p0: 인도 벵갈루루=양한나 블루밍비트 기자 sheep@bloomingbit.io / (사진=연합뉴스)와같은 텍스트 패턴\n",
    "\n",
    "    Returns:\n",
    "        {\n",
    "            \"news_title\": 뉴스 제목, str\n",
    "            \"news_first_upload_time\": 뉴스 최초 업로드 시각, str | None\n",
    "            \"newsfinal_upload_time\": 뉴스 최종 수정 시각, str | None\n",
    "            \"author\": 뉴스 작성자, str | None\n",
    "            \"news_content\": 뉴스 본문, str\n",
    "            \"news_url\": 뉴스 URL, str\n",
    "            \"news_website\": 뉴스 웹사이트, str\n",
    "            \"note\": 비고, str | None\n",
    "        }\n",
    "\n",
    "        or\n",
    "\n",
    "        None\n",
    "    \"\"\"\n",
    "    info = {} # 뉴스 데이터 정보 Dictionary\n",
    "\n",
    "    # news_url를 찾아서 requests로 HTML GET\n",
    "    url = news_url_tag.find(\"a\")[\"href\"]\n",
    "    html = requests.get(url, headers=headers, allow_redirects=allow_redirects, timeout=timeout)\n",
    "    # HTML 문서 정보를 불러오는 것에 실패하면 None 반환\n",
    "    if html is None:\n",
    "        return None\n",
    "    else:\n",
    "        html = html.text\n",
    "    # BeautifulSoup로 parser\n",
    "    soup = BeautifulSoup(html, 'html.parser')\n",
    "\n",
    "    # 1. 뉴스 데이터의 제목\n",
    "    title = soup.find('h1', {\"class\": \"headline\"})\n",
    "    if title is None:\n",
    "        title = None\n",
    "    else:\n",
    "        title = title.text.strip(' \\t\\n\\r\\f\\v')\n",
    "\n",
    "    # 2. 뉴스 데이터의 최초 업로드 시각과 최종 수정 시각\n",
    "    upload_times = soup.find_all('span', {\"class\": \"txt-date\"})\n",
    "    if upload_times:\n",
    "        first_upload_time = upload_times[0].text\n",
    "        first_upload_time = datetime.strptime(first_upload_time, '%Y.%m.%d %H:%M')\n",
    "        first_upload_time = datetime.strftime(first_upload_time, '%Y-%m-%d %p %I:%M')\n",
    "        last_upload_time = upload_times[1].text\n",
    "        last_upload_time = datetime.strptime(last_upload_time, '%Y.%m.%d %H:%M')\n",
    "        last_upload_time = datetime.strftime(last_upload_time, '%Y-%m-%d %p %I:%M')\n",
    "    else:\n",
    "        first_upload_time = None\n",
    "        last_upload_time = None\n",
    "\n",
    "    # 3. 뉴스 데이터의 기사 작성자\n",
    "    author_list = soup.find_all('div', {\"class\": \"author link subs_author_list\"})\n",
    "    if author_list:\n",
    "        author_list = map(lambda x: x.find(\"a\").text, author_list)\n",
    "        author = ', '.join(author_list)\n",
    "    else:\n",
    "        author = None\n",
    "\n",
    "    # 4. 뉴스 데이터의 본문\n",
    "    articletxt = soup.find(\"div\", id=\"articletxt\")\n",
    "    while articletxt.find(\"strong\") is not None:\n",
    "        articletxt.find(\"strong\").decompose()\n",
    "    while articletxt.find(\"figcaption\") is not None:\n",
    "        articletxt.find(\"figcaption\").decompose()\n",
    "    text_list = articletxt.get_text(separator=\"\\n\", strip=True).split('\\n')\n",
    "    while True:\n",
    "        if text_list and p0.search(string=text_list[-1]) is not None:\n",
    "            del text_list[-1]\n",
    "            continue\n",
    "        break\n",
    "    content = '\\n'.join(text_list).strip(' \\t\\n\\r\\f\\v')\n",
    "\n",
    "    # 5. 뉴스 웹사이트 이름\n",
    "    website = 'Hankyung'\n",
    "\n",
    "    # 6. 비고\n",
    "    note = None\n",
    "\n",
    "    info['news_title'] = title\n",
    "    info['news_first_upload_time'] = first_upload_time\n",
    "    info['news_last_upload_time'] = last_upload_time\n",
    "    info['author'] = author\n",
    "    info['news_content'] = content\n",
    "    info['news_url'] = url\n",
    "    info['news_website'] = website\n",
    "    info['note'] = note\n",
    "\n",
    "    return info"
   ]
  },
  {
   "cell_type": "code",
   "execution_count": 23,
   "metadata": {
    "executionInfo": {
     "elapsed": 2,
     "status": "ok",
     "timestamp": 1733669946843,
     "user": {
      "displayName": "Seung Hoon Lee",
      "userId": "06197787624635186839"
     },
     "user_tz": -540
    },
    "id": "ham3rmXQ2IDA"
   },
   "outputs": [],
   "source": [
    "def crawling(website: str):\n",
    "    \"\"\"Crawling을 하는 함수\n",
    "\n",
    "    Args:\n",
    "        website: 웹사이트 이름, str\n",
    "\n",
    "    Returns:\n",
    "        pass\n",
    "    \"\"\"\n",
    "\n",
    "    assert website in news_websites_dict, f'{website} is not target website.'\n",
    "\n",
    "    match website:\n",
    "        case 'Investing':\n",
    "            pass\n",
    "\n",
    "        case 'Hankyung':\n",
    "            pass\n",
    "\n",
    "        case 'Bloomingbit':\n",
    "            pass\n",
    "\n",
    "        case 'Coinreaders':\n",
    "            pass"
   ]
  },
  {
   "cell_type": "markdown",
   "metadata": {
    "id": "Bycij_yb2IDB"
   },
   "source": [
    "# Main"
   ]
  },
  {
   "cell_type": "markdown",
   "metadata": {
    "id": "qwxuzzaF2IDC"
   },
   "source": [
    "## https://kr.investing.com/news/cryptocurrency-news"
   ]
  },
  {
   "cell_type": "markdown",
   "metadata": {
    "id": "qUegd-BSCjwG"
   },
   "source": [
    "### 크롤링"
   ]
  },
  {
   "cell_type": "code",
   "execution_count": 24,
   "metadata": {
    "colab": {
     "base_uri": "https://localhost:8080/"
    },
    "executionInfo": {
     "elapsed": 1263346,
     "status": "ok",
     "timestamp": 1733671553966,
     "user": {
      "displayName": "Seung Hoon Lee",
      "userId": "06197787624635186839"
     },
     "user_tz": -540
    },
    "id": "Ltv-G6ZTU_0p",
    "outputId": "1810bf2b-abe8-48f8-843d-dbf40bc19dc5"
   },
   "outputs": [
    {
     "name": "stderr",
     "output_type": "stream",
     "text": [
      " 35%|███▍      | 697/2000 [1:13:05<2:15:08,  6.22s/it]"
     ]
    },
    {
     "name": "stdout",
     "output_type": "stream",
     "text": [
      "\n",
      "-698번 페이지-\n",
      "{'news_title': '[도기자의 한 주 정리] 비트코인 상승 랠리 놓쳤다면 주목해야 할 주식 12개', 'news_first_upload_time': '2021-10-15 PM 05:30', 'news_last_upload_time': None, 'author': None, 'news_content': '비트코인\\n(BTC) 상승 랠리가 지속되면서 암호화폐 시장에 대한 투자자 관심도 높아지고 있습니다. 그런데 만약 이번 기회를 놓쳤다면 어떻게 해야 할까요? 뱅크오브아메리카는 주식에서 기회를 노리라고 조언했습니다. 뱅크오브아메리카가 지목한 12개 종목에는 월트디즈니, 워너뮤직 등 큰 관련이 없어 보이는 종목도 있는데요.\\n자세한 내용 함께 살펴보도록 하겠습니다.\\n한 주 간 이슈를 콕 집어 정리해 드리는 도기자의 한 주 정리입니다.\\n?지난 12일(현지시간) CNBC는 뱅크오브아메리카 (NYSE:\\nBAC\\n) 애널리스트가 12개 종목을 추천했다고 보도했습니다. 뱅크오브아메리카는 “암호화폐는 무시하기에는 자산 규모가 너무 크다”며 “흐름을 타고 싶다면 주목해야 할 종목이 있다”고 분석했습니다.\\n━\\n암호화폐 사업에 적극적인 금융사 3곳\\n암호화폐 관련 금융주로는 페이팔(PYPL), JP모건체이스(JPM), 모건스탠리(MS)를 추천했습니다. 페이팔은 비트코인을 직접 매입하기도 했고, 관련 결제 시스템 도입에도 속도를 내고 있습니다. 모건스탠리도 지난 3월 일반 투자자 대상 비트코인 펀드 3종을 출시했습니다.\\n흥미로운 종목은 JP모건체이스입니다. 제이미 다이먼 JP모건체이스 회장은 암호화폐 비판론자로 알려져 있습니다. 비트코인에 자산가치가 없다고 비판했습니다. 수장이 나서서 비트코인을 비판하고 있지만 이는 개인 의견일 뿐 회사 차원에서 관련 사업에 발빠르게 진출했습니다. JP모건은 지난 2019년 미국계 은행으로는 최초로 암호화폐를 지원했습니다. 지난 4월에는 부유층 고객을 상대로 비트코인 펀드에 대한 투자 제안도 준비하고 있는 것으로 전해졌습니다. 앞뒤가 다른 모습은 또 다른 전략일까요? 속내가 궁금해집니다.\\n━\\nNFT 열기 뜨거워…관련 미디어 주\\n다음 분야는 암호화폐 관련 미디어주입니다. 폭스코퍼레이션(FOX), 아이하트미디어(IHRT), 월트디즈니(DIS), 워너뮤직(WMG)을 추천했습니다. 대체불가능한토큰(NFT)에 대한 투자 열기가 뜨거워지고 있어 이들 기업이 수혜를 볼 수 있다는 분석입니다.\\n━\\n채굴업자, 친환경에너지·저렴한 비용 선호…에너지 기업 수요 증가\\n이 외에도 암호화폐 관련 에너지주로 엑셀론(EXC), NRG에너지(NRG), 비스트라 에너지(VST)를 언급했습니다. 친환경 에너지, 저렴한 비용 등이 암호화폐 채굴에 있어 주요한 요소인 만큼 암호화폐 채굴업자 사이에서 수요가 증가할 수 있다는 평가입니다. 특히 원자력 에너지는 친화경적 요소가 24시간 가동되는 채굴기에 사용될 수 있다고 부연했습니다.\\n━\\n중국 규제로 채굴업자 미국으로 이동…데이터센터 관련주에 기회\\n마지막으로 데이터센터 관련주로 디지털리얼티(DLR), 이퀴닉스(EQIX)를 소개했습니다. 중국 규제로 암호화폐 채굴업자들이 북미지역으로 이동하고 있는데, 데이터 센터 기업들이 이 틈새시장을 공략해 기회를 노릴 수 있다는 진단입니다. 실제 13일(현지시간) 코인텔레그래프에 따르면 중국이 대대적으로 비트코인 채굴을 단속한 이후 미국이 해시레이트 점유율 1위로 올라섰죠.\\n뱅크오브아메리카는 이들 기업이 향후 12개월 안에 최소 10% 이상 오를 것이라고 전망했습니다. 이들 기업들이 향후 좋은 성적을 낼 수 있을지 기대가 됩니다.', 'news_url': 'https://kr.investing.com/news/cryptocurrency-news/article-708837', 'news_website': 'Investing', 'note': None}를 가져오는 것에 실패했습니다.\n",
      "Traceback (most recent call last):\n",
      "  File \"c:\\Users\\User\\anaconda3\\envs\\project\\Lib\\site-packages\\requests\\models.py\", line 820, in generate\n",
      "    yield from self.raw.stream(chunk_size, decode_content=True)\n",
      "  File \"c:\\Users\\User\\anaconda3\\envs\\project\\Lib\\site-packages\\urllib3\\response.py\", line 1057, in stream\n",
      "    yield from self.read_chunked(amt, decode_content=decode_content)\n",
      "  File \"c:\\Users\\User\\anaconda3\\envs\\project\\Lib\\site-packages\\urllib3\\response.py\", line 1206, in read_chunked\n",
      "    self._update_chunk_length()\n",
      "  File \"c:\\Users\\User\\anaconda3\\envs\\project\\Lib\\site-packages\\urllib3\\response.py\", line 1136, in _update_chunk_length\n",
      "    raise ProtocolError(\"Response ended prematurely\") from None\n",
      "urllib3.exceptions.ProtocolError: Response ended prematurely\n",
      "\n",
      "During handling of the above exception, another exception occurred:\n",
      "\n",
      "Traceback (most recent call last):\n",
      "  File \"C:\\Users\\User\\AppData\\Local\\Temp\\ipykernel_6012\\1920617958.py\", line 31, in <module>\n",
      "    for idx, d in enumerate(data, start=1):\n",
      "  File \"c:\\Users\\User\\anaconda3\\envs\\project\\Lib\\concurrent\\futures\\_base.py\", line 619, in result_iterator\n",
      "    yield _result_or_cancel(fs.pop())\n",
      "          ^^^^^^^^^^^^^^^^^^^^^^^^^^^\n",
      "  File \"c:\\Users\\User\\anaconda3\\envs\\project\\Lib\\concurrent\\futures\\_base.py\", line 317, in _result_or_cancel\n",
      "    return fut.result(timeout)\n",
      "           ^^^^^^^^^^^^^^^^^^^\n",
      "  File \"c:\\Users\\User\\anaconda3\\envs\\project\\Lib\\concurrent\\futures\\_base.py\", line 456, in result\n",
      "    return self.__get_result()\n",
      "           ^^^^^^^^^^^^^^^^^^^\n",
      "  File \"c:\\Users\\User\\anaconda3\\envs\\project\\Lib\\concurrent\\futures\\_base.py\", line 401, in __get_result\n",
      "    raise self._exception\n",
      "  File \"c:\\Users\\User\\anaconda3\\envs\\project\\Lib\\concurrent\\futures\\thread.py\", line 58, in run\n",
      "    result = self.fn(*self.args, **self.kwargs)\n",
      "             ^^^^^^^^^^^^^^^^^^^^^^^^^^^^^^^^^^\n",
      "  File \"C:\\Users\\User\\AppData\\Local\\Temp\\ipykernel_6012\\2758908460.py\", line 35, in investing\n",
      "    html = requests.get(url, headers=headers, allow_redirects=allow_redirects, timeout=timeout)\n",
      "           ^^^^^^^^^^^^^^^^^^^^^^^^^^^^^^^^^^^^^^^^^^^^^^^^^^^^^^^^^^^^^^^^^^^^^^^^^^^^^^^^^^^^\n",
      "  File \"c:\\Users\\User\\anaconda3\\envs\\project\\Lib\\site-packages\\requests\\api.py\", line 73, in get\n",
      "    return request(\"get\", url, params=params, **kwargs)\n",
      "           ^^^^^^^^^^^^^^^^^^^^^^^^^^^^^^^^^^^^^^^^^^^^\n",
      "  File \"c:\\Users\\User\\anaconda3\\envs\\project\\Lib\\site-packages\\requests\\api.py\", line 59, in request\n",
      "    return session.request(method=method, url=url, **kwargs)\n",
      "           ^^^^^^^^^^^^^^^^^^^^^^^^^^^^^^^^^^^^^^^^^^^^^^^^^\n",
      "  File \"c:\\Users\\User\\anaconda3\\envs\\project\\Lib\\site-packages\\requests\\sessions.py\", line 589, in request\n",
      "    resp = self.send(prep, **send_kwargs)\n",
      "           ^^^^^^^^^^^^^^^^^^^^^^^^^^^^^^\n",
      "  File \"c:\\Users\\User\\anaconda3\\envs\\project\\Lib\\site-packages\\requests\\sessions.py\", line 746, in send\n",
      "    r.content\n",
      "  File \"c:\\Users\\User\\anaconda3\\envs\\project\\Lib\\site-packages\\requests\\models.py\", line 902, in content\n",
      "    self._content = b\"\".join(self.iter_content(CONTENT_CHUNK_SIZE)) or b\"\"\n",
      "                    ^^^^^^^^^^^^^^^^^^^^^^^^^^^^^^^^^^^^^^^^^^^^^^^\n",
      "  File \"c:\\Users\\User\\anaconda3\\envs\\project\\Lib\\site-packages\\requests\\models.py\", line 822, in generate\n",
      "    raise ChunkedEncodingError(e)\n",
      "requests.exceptions.ChunkedEncodingError: Response ended prematurely\n",
      "\n"
     ]
    },
    {
     "name": "stderr",
     "output_type": "stream",
     "text": [
      "100%|██████████| 2000/2000 [3:28:17<00:00,  6.25s/it]  \n"
     ]
    }
   ],
   "source": [
    "web_page = 'https://kr.investing.com/news/cryptocurrency-news'\n",
    "start = 1\n",
    "get_page_cnt = 2000\n",
    "end = start + get_page_cnt\n",
    "p0 = re.compile(r'\\s+\\r\\n\\s+')\n",
    "p1 = re.compile(r'(읽기|provided|[a-z0-9]@[a-z0-9]|무단전재|재배포|쿠폰코드)', flags=re.IGNORECASE)\n",
    "p2 = re.compile(r'([가-힣])\\.(\\w)')\n",
    "p3 = re.compile(r'(\\xa0)+')\n",
    "# 일부 파라미터들을 고정한 investing 함수 생성\n",
    "fixed_investing = partial(investing,\n",
    "                            headers=headers, allow_redirects=allow_redirects, timeout=timeout,\n",
    "                            p0=p0, p1=p1, p2=p2, p3=p3)\n",
    "results = []\n",
    "\n",
    "for i in tqdm(range(start, end)):\n",
    "    try:\n",
    "        html = requests.get(web_page, headers=headers, allow_redirects=allow_redirects, timeout=timeout).text\n",
    "        soup = BeautifulSoup(html, 'html.parser')\n",
    "        url_tag_list = soup.find_all('article', {\"data-test\": \"article-item\"})\n",
    "    except Exception as e:\n",
    "        print()\n",
    "        print(f'{i}번 페이지의 HTML 문서 정보를 불러오는데 실패했습니다.')\n",
    "        print(traceback.format_exc())\n",
    "        web_page = f'https://kr.investing.com/news/cryptocurrency-news/{i + 1}'\n",
    "        continue\n",
    "\n",
    "    try:\n",
    "        executor = futures.ThreadPoolExecutor(max_workers=workers)\n",
    "        data = executor.map(fixed_investing, url_tag_list)\n",
    "\n",
    "        for idx, d in enumerate(data, start=1):\n",
    "            if d is not None:\n",
    "                results.append(d)\n",
    "            else:\n",
    "                print()\n",
    "                print(f'-{i}번 페이지-')\n",
    "                print(f'{i}번 페이지의 {idx}번째 데이터를 가져오는 것에 실패했습니다.')\n",
    "                print(f'실패한 뉴스 데이터의 URL : {url_tag_list[idx - 1].find(\"a\")[\"href\"]}')\n",
    "\n",
    "    except Exception as e:\n",
    "        print()\n",
    "        print(f'-{i}번 페이지-')\n",
    "        print(f'{d}를 가져오는 것에 실패했습니다.')\n",
    "        print(traceback.format_exc())\n",
    "\n",
    "    time.sleep(random.uniform(0.35, 1.25))\n",
    "    web_page = f'https://kr.investing.com/news/cryptocurrency-news/{i + 1}'"
   ]
  },
  {
   "cell_type": "markdown",
   "metadata": {
    "id": "vVIrAc7ZCmQd"
   },
   "source": [
    "### JSON으로 저장"
   ]
  },
  {
   "cell_type": "code",
   "execution_count": 25,
   "metadata": {
    "executionInfo": {
     "elapsed": 263,
     "status": "ok",
     "timestamp": 1733671674719,
     "user": {
      "displayName": "Seung Hoon Lee",
      "userId": "06197787624635186839"
     },
     "user_tz": -540
    },
    "id": "j1Hs6CWGcRYa"
   },
   "outputs": [],
   "source": [
    "with open(investing_path, 'w') as f:\n",
    "    json.dump(results, f, ensure_ascii=False)"
   ]
  },
  {
   "cell_type": "markdown",
   "metadata": {
    "id": "Tt-sw162Col8"
   },
   "source": [
    "### Pandas로 불러오기"
   ]
  },
  {
   "cell_type": "code",
   "execution_count": 26,
   "metadata": {
    "colab": {
     "base_uri": "https://localhost:8080/",
     "height": 501
    },
    "executionInfo": {
     "elapsed": 280,
     "status": "ok",
     "timestamp": 1733671676515,
     "user": {
      "displayName": "Seung Hoon Lee",
      "userId": "06197787624635186839"
     },
     "user_tz": -540
    },
    "id": "T1-6BPAhbi24",
    "outputId": "222f3c9e-aa0a-48fb-d67f-2f5deb09ccf5"
   },
   "outputs": [
    {
     "data": {
      "text/html": [
       "<div>\n",
       "<style scoped>\n",
       "    .dataframe tbody tr th:only-of-type {\n",
       "        vertical-align: middle;\n",
       "    }\n",
       "\n",
       "    .dataframe tbody tr th {\n",
       "        vertical-align: top;\n",
       "    }\n",
       "\n",
       "    .dataframe thead th {\n",
       "        text-align: right;\n",
       "    }\n",
       "</style>\n",
       "<table border=\"1\" class=\"dataframe\">\n",
       "  <thead>\n",
       "    <tr style=\"text-align: right;\">\n",
       "      <th></th>\n",
       "      <th>news_title</th>\n",
       "      <th>news_first_upload_time</th>\n",
       "      <th>news_last_upload_time</th>\n",
       "      <th>author</th>\n",
       "      <th>news_content</th>\n",
       "      <th>news_url</th>\n",
       "      <th>news_website</th>\n",
       "      <th>note</th>\n",
       "    </tr>\n",
       "  </thead>\n",
       "  <tbody>\n",
       "    <tr>\n",
       "      <th>0</th>\n",
       "      <td>XRP 가격이 10% 상승</td>\n",
       "      <td>2024-12-08 AM 01:06</td>\n",
       "      <td>&lt;NA&gt;</td>\n",
       "      <td>&lt;NA&gt;</td>\n",
       "      <td>Investing.com - XRP 가격이 Investing.com Index에서 ...</td>\n",
       "      <td>https://kr.investing.com/news/cryptocurrency-n...</td>\n",
       "      <td>Investing</td>\n",
       "      <td>&lt;NA&gt;</td>\n",
       "    </tr>\n",
       "    <tr>\n",
       "      <th>1</th>\n",
       "      <td>스탠다드차타드 \"비트코인, 내년까지 20만달러 돌파 가능\"</td>\n",
       "      <td>2024-12-07 PM 08:45</td>\n",
       "      <td>&lt;NA&gt;</td>\n",
       "      <td>&lt;NA&gt;</td>\n",
       "      <td>비트코인\n",
       "(BTC)이 내년까지 20만달러를 돌파할 수 있다는 전망이 나왔다.\n",
       "6일(...</td>\n",
       "      <td>https://kr.investing.com/news/cryptocurrency-n...</td>\n",
       "      <td>Investing</td>\n",
       "      <td>&lt;NA&gt;</td>\n",
       "    </tr>\n",
       "    <tr>\n",
       "      <th>2</th>\n",
       "      <td>\"바이낸스 상장으로 9.5배 수익\"…50대 노린 꼼수 사기 기승</td>\n",
       "      <td>2024-12-07 PM 06:00</td>\n",
       "      <td>&lt;NA&gt;</td>\n",
       "      <td>&lt;NA&gt;</td>\n",
       "      <td>최근 가상자산 가격이 폭등하면서 ‘포모(Fear of Missing Out·FOMO...</td>\n",
       "      <td>https://kr.investing.com/news/cryptocurrency-n...</td>\n",
       "      <td>Investing</td>\n",
       "      <td>&lt;NA&gt;</td>\n",
       "    </tr>\n",
       "    <tr>\n",
       "      <th>3</th>\n",
       "      <td>[코인 리포트] \"프로젝트 고문이 '가상자산 차르'\"…제로엑스(ZRX) 40% 급등</td>\n",
       "      <td>2024-12-07 AM 03:13</td>\n",
       "      <td>&lt;NA&gt;</td>\n",
       "      <td>&lt;NA&gt;</td>\n",
       "      <td>백악관 내 가상자산 정책 전담 직책으로 신설돼 업계의 이목이 집중됐던 ‘가상자산 차...</td>\n",
       "      <td>https://kr.investing.com/news/cryptocurrency-n...</td>\n",
       "      <td>Investing</td>\n",
       "      <td>&lt;NA&gt;</td>\n",
       "    </tr>\n",
       "    <tr>\n",
       "      <th>4</th>\n",
       "      <td>폴 앳킨스 SEC 위원장 지명 소식에 업계 \"대환영\"</td>\n",
       "      <td>2024-12-07 AM 01:22</td>\n",
       "      <td>&lt;NA&gt;</td>\n",
       "      <td>&lt;NA&gt;</td>\n",
       "      <td>폴 앳킨스 전 미국 증권거래위원회(SEC) 위원의 차기 SEC 위원장 지명 소식에 ...</td>\n",
       "      <td>https://kr.investing.com/news/cryptocurrency-n...</td>\n",
       "      <td>Investing</td>\n",
       "      <td>&lt;NA&gt;</td>\n",
       "    </tr>\n",
       "  </tbody>\n",
       "</table>\n",
       "</div>"
      ],
      "text/plain": [
       "                                       news_title news_first_upload_time  \\\n",
       "0                                  XRP 가격이 10% 상승    2024-12-08 AM 01:06   \n",
       "1                스탠다드차타드 \"비트코인, 내년까지 20만달러 돌파 가능\"    2024-12-07 PM 08:45   \n",
       "2             \"바이낸스 상장으로 9.5배 수익\"…50대 노린 꼼수 사기 기승    2024-12-07 PM 06:00   \n",
       "3  [코인 리포트] \"프로젝트 고문이 '가상자산 차르'\"…제로엑스(ZRX) 40% 급등    2024-12-07 AM 03:13   \n",
       "4                   폴 앳킨스 SEC 위원장 지명 소식에 업계 \"대환영\"    2024-12-07 AM 01:22   \n",
       "\n",
       "  news_last_upload_time author  \\\n",
       "0                  <NA>   <NA>   \n",
       "1                  <NA>   <NA>   \n",
       "2                  <NA>   <NA>   \n",
       "3                  <NA>   <NA>   \n",
       "4                  <NA>   <NA>   \n",
       "\n",
       "                                        news_content  \\\n",
       "0  Investing.com - XRP 가격이 Investing.com Index에서 ...   \n",
       "1  비트코인\n",
       "(BTC)이 내년까지 20만달러를 돌파할 수 있다는 전망이 나왔다.\n",
       "6일(...   \n",
       "2  최근 가상자산 가격이 폭등하면서 ‘포모(Fear of Missing Out·FOMO...   \n",
       "3  백악관 내 가상자산 정책 전담 직책으로 신설돼 업계의 이목이 집중됐던 ‘가상자산 차...   \n",
       "4  폴 앳킨스 전 미국 증권거래위원회(SEC) 위원의 차기 SEC 위원장 지명 소식에 ...   \n",
       "\n",
       "                                            news_url news_website  note  \n",
       "0  https://kr.investing.com/news/cryptocurrency-n...    Investing  <NA>  \n",
       "1  https://kr.investing.com/news/cryptocurrency-n...    Investing  <NA>  \n",
       "2  https://kr.investing.com/news/cryptocurrency-n...    Investing  <NA>  \n",
       "3  https://kr.investing.com/news/cryptocurrency-n...    Investing  <NA>  \n",
       "4  https://kr.investing.com/news/cryptocurrency-n...    Investing  <NA>  "
      ]
     },
     "execution_count": 26,
     "metadata": {},
     "output_type": "execute_result"
    }
   ],
   "source": [
    "df1 = pd.read_json(investing_path, orient='records', encoding='utf-8', dtype='string')\n",
    "df1.head()"
   ]
  },
  {
   "cell_type": "code",
   "execution_count": 27,
   "metadata": {
    "colab": {
     "base_uri": "https://localhost:8080/"
    },
    "executionInfo": {
     "elapsed": 242,
     "status": "ok",
     "timestamp": 1733671681984,
     "user": {
      "displayName": "Seung Hoon Lee",
      "userId": "06197787624635186839"
     },
     "user_tz": -540
    },
    "id": "EpwkVxWv7Oya",
    "outputId": "8a12f407-277b-4f44-f95a-aa1ca262fba2"
   },
   "outputs": [
    {
     "name": "stdout",
     "output_type": "stream",
     "text": [
      "<class 'pandas.core.frame.DataFrame'>\n",
      "RangeIndex: 69916 entries, 0 to 69915\n",
      "Data columns (total 8 columns):\n",
      " #   Column                  Non-Null Count  Dtype \n",
      "---  ------                  --------------  ----- \n",
      " 0   news_title              69765 non-null  string\n",
      " 1   news_first_upload_time  69765 non-null  string\n",
      " 2   news_last_upload_time   0 non-null      string\n",
      " 3   author                  0 non-null      string\n",
      " 4   news_content            69916 non-null  string\n",
      " 5   news_url                69916 non-null  string\n",
      " 6   news_website            69916 non-null  string\n",
      " 7   note                    0 non-null      string\n",
      "dtypes: string(8)\n",
      "memory usage: 4.3 MB\n"
     ]
    }
   ],
   "source": [
    "df1.info()"
   ]
  },
  {
   "cell_type": "markdown",
   "metadata": {
    "id": "XxW9SY3VjBWk"
   },
   "source": [
    "## https://www.hankyung.com/koreamarket/news/crypto"
   ]
  },
  {
   "cell_type": "markdown",
   "metadata": {
    "id": "BX74tfLYnZ3S"
   },
   "source": [
    "### 크롤링"
   ]
  },
  {
   "cell_type": "code",
   "execution_count": 28,
   "metadata": {
    "colab": {
     "base_uri": "https://localhost:8080/"
    },
    "executionInfo": {
     "elapsed": 11688,
     "status": "ok",
     "timestamp": 1733670082440,
     "user": {
      "displayName": "Seung Hoon Lee",
      "userId": "06197787624635186839"
     },
     "user_tz": -540
    },
    "id": "nvQK7B2Fi06x",
    "outputId": "ae2f0f40-ca1b-4b38-ada7-8d69b3c577b7"
   },
   "outputs": [
    {
     "name": "stderr",
     "output_type": "stream",
     "text": [
      "100%|██████████| 200/200 [11:42<00:00,  3.51s/it]\n"
     ]
    }
   ],
   "source": [
    "start = 1\n",
    "get_page_cnt = 200\n",
    "end = start + get_page_cnt\n",
    "p0 = re.compile(r'([a-z0-9]@[a-z0-9]|사진=|\\b기자\\b|영상촬영\\s*:|한국경제TV [가-힣]{2,4}입니다)', flags=re.IGNORECASE)\n",
    "\n",
    "# 일부 파라미터들을 고정한 hankyung 함수 생성\n",
    "fixed_hankyung = partial(hankyung,\n",
    "                            headers=headers, allow_redirects=allow_redirects, timeout=timeout,\n",
    "                            p0=p0)\n",
    "results = []\n",
    "\n",
    "for i in tqdm(range(start, end)):\n",
    "    web_page = f'https://www.hankyung.com/koreamarket/news/crypto?page={i}'\n",
    "    try:\n",
    "        html = requests.get(web_page, headers=headers, allow_redirects=allow_redirects, timeout=timeout).text\n",
    "        soup = BeautifulSoup(html, 'html.parser')\n",
    "        url_tag_list = soup.find_all('h2', {\"class\": \"news-tit\"})\n",
    "    except Exception as e:\n",
    "        print()\n",
    "        print(f'{i}번 페이지의 HTML 문서 정보를 불러오는데 실패했습니다.')\n",
    "        print(traceback.format_exc())\n",
    "        continue\n",
    "\n",
    "    try:\n",
    "        executor = futures.ThreadPoolExecutor(max_workers=workers)\n",
    "        data = executor.map(fixed_hankyung, url_tag_list)\n",
    "\n",
    "        for idx, d in enumerate(data, start=1):\n",
    "            if d is not None:\n",
    "                results.append(d)\n",
    "            else:\n",
    "                print()\n",
    "                print(f'-{i}번 페이지-')\n",
    "                print(f'{i}번 페이지의 {idx}번째 데이터를 가져오는 것에 실패했습니다.')\n",
    "                print(f'실패한 뉴스 데이터의 URL : {url_tag_list[idx - 1].find(\"a\")[\"href\"]}')\n",
    "\n",
    "    except Exception as e:\n",
    "        print()\n",
    "        print(f'-{i}번 페이지-')\n",
    "        print(f'{d}를 가져오는 것에 실패했습니다.')\n",
    "        print(traceback.format_exc())\n",
    "\n",
    "    time.sleep(random.uniform(0.35, 1.25))"
   ]
  },
  {
   "cell_type": "markdown",
   "metadata": {
    "id": "YZb1FuoSZ0RJ"
   },
   "source": [
    "### JSON으로 저장"
   ]
  },
  {
   "cell_type": "code",
   "execution_count": 29,
   "metadata": {
    "executionInfo": {
     "elapsed": 5,
     "status": "ok",
     "timestamp": 1733667830226,
     "user": {
      "displayName": "Seung Hoon Lee",
      "userId": "06197787624635186839"
     },
     "user_tz": -540
    },
    "id": "tF3M18pXZ0RK"
   },
   "outputs": [],
   "source": [
    "with open(hankyung_path, 'w') as f:\n",
    "    json.dump(results, f, ensure_ascii=False)"
   ]
  },
  {
   "cell_type": "markdown",
   "metadata": {
    "id": "eFv1CxyOZ0RK"
   },
   "source": [
    "### Pandas로 불러오기"
   ]
  },
  {
   "cell_type": "code",
   "execution_count": 30,
   "metadata": {
    "colab": {
     "base_uri": "https://localhost:8080/",
     "height": 571
    },
    "executionInfo": {
     "elapsed": 5,
     "status": "ok",
     "timestamp": 1733667830227,
     "user": {
      "displayName": "Seung Hoon Lee",
      "userId": "06197787624635186839"
     },
     "user_tz": -540
    },
    "id": "N5X61hYAZ0RK",
    "outputId": "83e4c665-1247-4042-ef47-6da2ec413729"
   },
   "outputs": [
    {
     "data": {
      "text/html": [
       "<div>\n",
       "<style scoped>\n",
       "    .dataframe tbody tr th:only-of-type {\n",
       "        vertical-align: middle;\n",
       "    }\n",
       "\n",
       "    .dataframe tbody tr th {\n",
       "        vertical-align: top;\n",
       "    }\n",
       "\n",
       "    .dataframe thead th {\n",
       "        text-align: right;\n",
       "    }\n",
       "</style>\n",
       "<table border=\"1\" class=\"dataframe\">\n",
       "  <thead>\n",
       "    <tr style=\"text-align: right;\">\n",
       "      <th></th>\n",
       "      <th>news_title</th>\n",
       "      <th>news_first_upload_time</th>\n",
       "      <th>news_last_upload_time</th>\n",
       "      <th>author</th>\n",
       "      <th>news_content</th>\n",
       "      <th>news_url</th>\n",
       "      <th>news_website</th>\n",
       "      <th>note</th>\n",
       "    </tr>\n",
       "  </thead>\n",
       "  <tbody>\n",
       "    <tr>\n",
       "      <th>0</th>\n",
       "      <td>해시드 이머전트, '인도 블록체인 위크 2024' 성황리 마쳐</td>\n",
       "      <td>2024-12-07 PM 07:06</td>\n",
       "      <td>2024-12-07 PM 07:06</td>\n",
       "      <td>양한나 기자</td>\n",
       "      <td>인도 및 신흥시장 전문 웹3 벤처캐피털 해시드 이머전트(Hashed Emergent...</td>\n",
       "      <td>https://www.hankyung.com/article/202412071413g</td>\n",
       "      <td>Hankyung</td>\n",
       "      <td>&lt;NA&gt;</td>\n",
       "    </tr>\n",
       "    <tr>\n",
       "      <th>1</th>\n",
       "      <td>비트코인 10만달러 재탈환…이더리움도 '껑충'</td>\n",
       "      <td>2024-12-07 AM 11:13</td>\n",
       "      <td>2024-12-07 AM 11:13</td>\n",
       "      <td>&lt;NA&gt;</td>\n",
       "      <td>가상화폐 대장주 비트코인 가격이 6일(현지시간) 10만 달러선을 재탈환했다. 시가총...</td>\n",
       "      <td>https://www.hankyung.com/article/2024120709145</td>\n",
       "      <td>Hankyung</td>\n",
       "      <td>&lt;NA&gt;</td>\n",
       "    </tr>\n",
       "    <tr>\n",
       "      <th>2</th>\n",
       "      <td>비트코인 10만달러 재돌파…'이더리움의 시간' 오나</td>\n",
       "      <td>2024-12-07 AM 09:54</td>\n",
       "      <td>2024-12-07 AM 09:54</td>\n",
       "      <td>고정삼 기자</td>\n",
       "      <td>암호화폐 대장주 비트코인이 6일(현지시간) 10만달러선 재탈환에 성공했다. 시가총액...</td>\n",
       "      <td>https://www.hankyung.com/article/2024120707037</td>\n",
       "      <td>Hankyung</td>\n",
       "      <td>&lt;NA&gt;</td>\n",
       "    </tr>\n",
       "    <tr>\n",
       "      <th>3</th>\n",
       "      <td>\"비트코인 전략비축? 헛소리\"…美 전 재무장관 '일침'</td>\n",
       "      <td>2024-12-06 AM 10:15</td>\n",
       "      <td>2024-12-06 AM 10:15</td>\n",
       "      <td>&lt;NA&gt;</td>\n",
       "      <td>로렌스 서머스 전 미국 재무부 장관이 가상화폐 비트코인을 원유처럼 전략비축하자는 주...</td>\n",
       "      <td>https://www.hankyung.com/article/2024120685065</td>\n",
       "      <td>Hankyung</td>\n",
       "      <td>&lt;NA&gt;</td>\n",
       "    </tr>\n",
       "    <tr>\n",
       "      <th>4</th>\n",
       "      <td>비트코인, 다시 10만달러 아래로…트럼프 '환호'</td>\n",
       "      <td>2024-12-06 AM 06:35</td>\n",
       "      <td>2024-12-06 AM 06:58</td>\n",
       "      <td>&lt;NA&gt;</td>\n",
       "      <td>가상화폐 비트코인이 지난 4일(현지시간) 사상 처음 10만 달러를 돌파했지만 하루만...</td>\n",
       "      <td>https://www.hankyung.com/article/2024120679115</td>\n",
       "      <td>Hankyung</td>\n",
       "      <td>&lt;NA&gt;</td>\n",
       "    </tr>\n",
       "  </tbody>\n",
       "</table>\n",
       "</div>"
      ],
      "text/plain": [
       "                           news_title news_first_upload_time  \\\n",
       "0  해시드 이머전트, '인도 블록체인 위크 2024' 성황리 마쳐    2024-12-07 PM 07:06   \n",
       "1           비트코인 10만달러 재탈환…이더리움도 '껑충'    2024-12-07 AM 11:13   \n",
       "2        비트코인 10만달러 재돌파…'이더리움의 시간' 오나    2024-12-07 AM 09:54   \n",
       "3      \"비트코인 전략비축? 헛소리\"…美 전 재무장관 '일침'    2024-12-06 AM 10:15   \n",
       "4         비트코인, 다시 10만달러 아래로…트럼프 '환호'    2024-12-06 AM 06:35   \n",
       "\n",
       "  news_last_upload_time  author  \\\n",
       "0   2024-12-07 PM 07:06  양한나 기자   \n",
       "1   2024-12-07 AM 11:13    <NA>   \n",
       "2   2024-12-07 AM 09:54  고정삼 기자   \n",
       "3   2024-12-06 AM 10:15    <NA>   \n",
       "4   2024-12-06 AM 06:58    <NA>   \n",
       "\n",
       "                                        news_content  \\\n",
       "0  인도 및 신흥시장 전문 웹3 벤처캐피털 해시드 이머전트(Hashed Emergent...   \n",
       "1  가상화폐 대장주 비트코인 가격이 6일(현지시간) 10만 달러선을 재탈환했다. 시가총...   \n",
       "2  암호화폐 대장주 비트코인이 6일(현지시간) 10만달러선 재탈환에 성공했다. 시가총액...   \n",
       "3  로렌스 서머스 전 미국 재무부 장관이 가상화폐 비트코인을 원유처럼 전략비축하자는 주...   \n",
       "4  가상화폐 비트코인이 지난 4일(현지시간) 사상 처음 10만 달러를 돌파했지만 하루만...   \n",
       "\n",
       "                                         news_url news_website  note  \n",
       "0  https://www.hankyung.com/article/202412071413g     Hankyung  <NA>  \n",
       "1  https://www.hankyung.com/article/2024120709145     Hankyung  <NA>  \n",
       "2  https://www.hankyung.com/article/2024120707037     Hankyung  <NA>  \n",
       "3  https://www.hankyung.com/article/2024120685065     Hankyung  <NA>  \n",
       "4  https://www.hankyung.com/article/2024120679115     Hankyung  <NA>  "
      ]
     },
     "execution_count": 30,
     "metadata": {},
     "output_type": "execute_result"
    }
   ],
   "source": [
    "df2 = pd.read_json(hankyung_path, orient='records', encoding='utf-8', dtype='string')\n",
    "df2.head()"
   ]
  },
  {
   "cell_type": "code",
   "execution_count": 31,
   "metadata": {
    "colab": {
     "base_uri": "https://localhost:8080/"
    },
    "executionInfo": {
     "elapsed": 4,
     "status": "ok",
     "timestamp": 1733667830227,
     "user": {
      "displayName": "Seung Hoon Lee",
      "userId": "06197787624635186839"
     },
     "user_tz": -540
    },
    "id": "5DGmJzoFcIoj",
    "outputId": "6b471f59-69cc-46ac-8a45-84f946a79052"
   },
   "outputs": [
    {
     "name": "stdout",
     "output_type": "stream",
     "text": [
      "<class 'pandas.core.frame.DataFrame'>\n",
      "RangeIndex: 4000 entries, 0 to 3999\n",
      "Data columns (total 8 columns):\n",
      " #   Column                  Non-Null Count  Dtype \n",
      "---  ------                  --------------  ----- \n",
      " 0   news_title              4000 non-null   string\n",
      " 1   news_first_upload_time  4000 non-null   string\n",
      " 2   news_last_upload_time   4000 non-null   string\n",
      " 3   author                  283 non-null    string\n",
      " 4   news_content            4000 non-null   string\n",
      " 5   news_url                4000 non-null   string\n",
      " 6   news_website            4000 non-null   string\n",
      " 7   note                    0 non-null      string\n",
      "dtypes: string(8)\n",
      "memory usage: 250.1 KB\n"
     ]
    }
   ],
   "source": [
    "df2.info()"
   ]
  },
  {
   "cell_type": "code",
   "execution_count": null,
   "metadata": {
    "id": "Oysz8iKFquoN"
   },
   "outputs": [],
   "source": []
  }
 ],
 "metadata": {
  "colab": {
   "provenance": []
  },
  "kernelspec": {
   "display_name": "project",
   "language": "python",
   "name": "python3"
  },
  "language_info": {
   "codemirror_mode": {
    "name": "ipython",
    "version": 3
   },
   "file_extension": ".py",
   "mimetype": "text/x-python",
   "name": "python",
   "nbconvert_exporter": "python",
   "pygments_lexer": "ipython3",
   "version": "3.11.11"
  }
 },
 "nbformat": 4,
 "nbformat_minor": 0
}
